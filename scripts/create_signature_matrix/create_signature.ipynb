{
 "cells": [
  {
   "cell_type": "code",
   "execution_count": 3,
   "metadata": {
    "vscode": {
     "languageId": "r"
    }
   },
   "outputs": [],
   "source": [
    "# Imports\n",
    "library(anndata)\n",
    "library(Seurat)\n",
    "library(reticulate)\n",
    "# use_python(\"/home/owkin/.conda/envs/deepdeconv/bin/python\")\n",
    "\n",
    "library(plyr)\n",
    "library(dplyr)\n",
    "library(ggforce)\n",
    "library(ggplot2)\n",
    "library(reshape2) \n",
    "library(ComplexHeatmap)\n",
    "library(corrplot)\n",
    "library(caret)\n",
    "\n",
    "library(DeconRNASeq)\n",
    "library(nnls)\n",
    "library(FARDEEP)\n",
    "library(MIND)\n",
    "source(\"~/deepdeconv/scripts/create_signature_matrix/helpers/Signature_function.R\")\n",
    "source(\"~/deepdeconv/scripts/create_signature_matrix/helpers/Deconvolution_function.R\")\n",
    "\n",
    "dir_out <- \"~/project/Simon/signature_granular_updated_corrected\""
   ]
  },
  {
   "cell_type": "code",
   "execution_count": 25,
   "metadata": {
    "vscode": {
     "languageId": "r"
    }
   },
   "outputs": [],
   "source": [
    "# Load data\n",
    "\n",
    "dirsc <- \"~/data/cross-tissue/omics/raw\"\n",
    "filepath <- file.path(dirsc,\"local.h5ad\")\n",
    "ad <- read_h5ad(filepath)\n",
    "\n",
    "raw_X <- t(ad$raw$X)\n",
    "rownames(raw_X) <- ad$var_names\n",
    "colnames(raw_X) <- ad$obs_names\n",
    "\n",
    "train_test_cell_types = read.csv(\"~/project/train_test_index_matrix_granular_updated.csv\", row.names = 1)\n",
    "ad$obs$precise_groups_updated <- train_test_cell_types$precise_groups_updated\n",
    "ad$obs$train_index <- train_test_cell_types$Train.index"
   ]
  },
  {
   "cell_type": "code",
   "execution_count": 26,
   "metadata": {
    "vscode": {
     "languageId": "r"
    }
   },
   "outputs": [],
   "source": [
    "# Convert ENSG to HGNC\n",
    "\n",
    "annot_genes_latestv  <-  \"~/deepdeconv/scripts/create_signature_matrix/helpers/ensdb_hsapiens_v99.tsv\" # This one covers everything in the CTI dataset\n",
    "annot_ensdb_df <- data.table::fread(annot_genes_latestv)\n",
    "cts_annot_df <- data.frame(\"Ensembl\" = rownames(raw_X))  %>% \n",
    "dplyr::left_join(annot_ensdb_df, by = \"Ensembl\")\n",
    "# Find duplicates\n",
    "duplicates <- cts_annot_df[which(duplicated(cts_annot_df$HGNC) | duplicated(cts_annot_df$HGNC, fromLast=TRUE)),]\n",
    "trainIndex <- which(ad$obs$train_index == \"True\")\n",
    "scRNseq_train_duplicates <- raw_X[duplicates$Ensembl,unlist(trainIndex)]\n",
    "duplicates$sd <- apply(scRNseq_train_duplicates, 1, sd)\n",
    "# Find duplicates with lowest sd\n",
    "duplicates_to_remove <- duplicates %>%\n",
    "dplyr::group_by(HGNC) %>%\n",
    "dplyr::top_n(-1, sd) %>%\n",
    "dplyr::slice(1)\n",
    "dim(cts_annot_df)\n",
    "cts_annot_clean_df <- cts_annot_df %>%\n",
    "  filter(!(Ensembl %in% duplicates_to_remove$Ensembl))\n",
    "dim(cts_annot_clean_df)\n",
    "# Create seurat object\n",
    "raw_X_clean <- raw_X[!rownames(raw_X) %in% duplicates_to_remove$Ensembl,]\n",
    "rownames(raw_X_clean) <- cts_annot_clean_df$HGNC\n",
    "\n",
    "# Create Seurat Object\n",
    "expr = CreateSeuratObject(counts=raw_X_clean, meta.data=as.data.frame(ad$obs))"
   ]
  },
  {
   "cell_type": "code",
   "execution_count": 27,
   "metadata": {
    "vscode": {
     "languageId": "r"
    }
   },
   "outputs": [],
   "source": [
    "dim(expr)\n",
    "# Remove some cell types\n",
    "expr_clean <- subset(x = expr, subset = precise_groups_updated != \"To remove\")\n",
    "dim(expr_clean)\n",
    "# Removing mitochondrial and ribosomal genes\n",
    "genes.ribomit <- grep(pattern = \"^RP[SL][[:digit:]]|^RP[[:digit:]]|^RPSA|^RPS|^RPL|^MT-|^MRPL\",rownames(expr_clean))\n",
    "expr_clean <- expr_clean[-c(genes.ribomit),]\n",
    "dim(expr_clean) \n",
    "# Remove housekeeping genes and patient specific ones: ACTB, if only this one, not a big deal\n",
    "genes2remove = grep(pattern = \"^ACTB$|TMSB4X|IGKC|^IG[HL]\",rownames(expr_clean))\n",
    "expr_clean <- expr_clean[-c(genes2remove),]\n",
    "dim(expr_clean)\n",
    "# Convert back to ENSG to be in accordance with the CTI data\n",
    "# The following doesn't work because renaming features in v3/v4 assays is not supported\n",
    "# rownames(expr_clean) <- cts_annot_clean_df$Ensembl[match(rownames(expr_clean), cts_annot_clean_df$HGNC)]\n",
    "# Therefore, one should recreate the Seurat object from scratch to rename the rownames"
   ]
  },
  {
   "cell_type": "code",
   "execution_count": 28,
   "metadata": {
    "vscode": {
     "languageId": "r"
    }
   },
   "outputs": [],
   "source": [
    "# Split dataset into 2\n",
    "\n",
    "trainIndex <- which(expr_clean$train_index == \"True\")\n",
    "scRNseq_t <- expr_clean[,unlist(trainIndex)]\n",
    "# scRNseq_test <- expr[,-unlist(trainIndex)]"
   ]
  },
  {
   "cell_type": "code",
   "execution_count": 34,
   "metadata": {
    "vscode": {
     "languageId": "r"
    }
   },
   "outputs": [],
   "source": [
    "# Differential expression analysis\n",
    "\n",
    "## WARNING. The signature matrix function will not work if there is space inside the cell type names.\n",
    "## Therefore, if needed, one should remove the spaces for the creation of the idents, like in the three following lines.\n",
    "# idents <- ifelse(scRNseq_t$precise_groups_updated == \"CD4 T\", \"CD4T\", scRNseq_t$precise_groups_updated)\n",
    "# idents <- ifelse(idents == \"CD8 T\", \"CD8T\", idents)\n",
    "# Idents(scRNseq_t) <- idents\n",
    "Idents(scRNseq_t) <- scRNseq_t$precise_groups_updated\n",
    "print(table(Idents(scRNseq_t)))\n",
    "if(!file.exists(file.path(dir_out,paste0(\"DE_\",unique(Idents(scRNseq_t))[length(unique(Idents(scRNseq_t)))],\".txt\")))){\n",
    "    DGE_celltypes(scRNseq_t,Idents(scRNseq_t),file.path(dir_out))\n",
    "}"
   ]
  },
  {
   "cell_type": "code",
   "execution_count": null,
   "metadata": {
    "vscode": {
     "languageId": "r"
    }
   },
   "outputs": [],
   "source": [
    "# Signature matrix\n",
    "\n",
    "if(!file.exists(file.path(dir_out,\"CTI_granular_updated.txt\"))){\n",
    "\n",
    "  scRNseq_t <- NormalizeData(object = scRNseq_t, normalization.method = \"RC\",scale.factor = 10000)\n",
    "\n",
    "  signature <- buildSignatureMatrix_Seurat(\"CTI_granular_updated\",\n",
    "      scRNseq_t,Idents(scRNseq_t),file.path(dir_out),\n",
    "      pvaladj.cutoff=0.05,diff.cutoff=0.5,\n",
    "      minG=50,maxG=200)\n",
    "  write.table(signature,file.path(dir_out,\"CTI_granular_updated.txt\"),sep=\"\\t\",row.names=TRUE,col.names=NA)\n",
    "  \n",
    "}else{\n",
    "  signature <- read.table(file.path(dir_out,\"CTI_granular_updated.txt\"),sep=\"\\t\",row.names=1,header=TRUE)\n",
    "}"
   ]
  },
  {
   "cell_type": "code",
   "execution_count": null,
   "metadata": {
    "vscode": {
     "languageId": "r"
    }
   },
   "outputs": [],
   "source": [
    "# Convert signature gene names from HGNC to ENSG\n",
    "\n",
    "signature_ensg <- signature\n",
    "rownames(signature_ensg) <- cts_annot_clean_df$Ensembl[match(rownames(signature_ensg), cts_annot_clean_df$HGNC)]\n",
    "if(!file.exists(file.path(dir_out,\"CTI_granular_updated_ensg.txt\"))){\n",
    "  write.table(signature_ensg,file.path(dir_out,\"CTI_granular_updated_ensg.txt\"),sep=\"\\t\",row.names=TRUE,col.names=NA)\n",
    "}"
   ]
  },
  {
   "cell_type": "code",
   "execution_count": null,
   "metadata": {
    "vscode": {
     "languageId": "r"
    }
   },
   "outputs": [],
   "source": []
  }
 ],
 "metadata": {
  "kernelspec": {
   "display_name": "R",
   "language": "R",
   "name": "ir"
  },
  "language_info": {
   "codemirror_mode": "r",
   "file_extension": ".r",
   "mimetype": "text/x-r-source",
   "name": "R",
   "pygments_lexer": "r",
   "version": "4.3.1"
  },
  "orig_nbformat": 4
 },
 "nbformat": 4,
 "nbformat_minor": 2
}
