{
 "cells": [
  {
   "cell_type": "code",
   "execution_count": 16,
   "metadata": {
    "vscode": {
     "languageId": "r"
    }
   },
   "outputs": [],
   "source": [
    "# Imports\n",
    "library(anndata)\n",
    "library(Seurat)\n",
    "library(reticulate)\n",
    "# use_python(\"/home/owkin/.conda/envs/deepdeconv/bin/python\")\n",
    "\n",
    "library(plyr)\n",
    "library(dplyr)\n",
    "library(ggforce)\n",
    "library(ggplot2)\n",
    "library(reshape2) \n",
    "library(ComplexHeatmap)\n",
    "library(corrplot)\n",
    "library(caret)\n",
    "\n",
    "library(DeconRNASeq)\n",
    "library(nnls)\n",
    "library(FARDEEP)\n",
    "library(MIND)\n",
    "source(\"~/deepdeconv/scripts/create_signature_matrix/helpers/Signature_function.R\")\n",
    "source(\"~/deepdeconv/scripts/create_signature_matrix/helpers/Deconvolution_function.R\")\n",
    "\n",
    "dir_out <- \"~/project/Simon/signature_3rd_level_granularity\"\n",
    "dir_train_test_indices <- \"~/project/train_test_index_dataframes/train_test_index_3rd_level.csv\"\n",
    "name_signature <- \"CTI_3rd_level_granularity\"\n",
    "grouping_name <- \"grouping\" # the name of the grouping variable in the train_test_indices df"
   ]
  },
  {
   "cell_type": "code",
   "execution_count": 2,
   "metadata": {
    "vscode": {
     "languageId": "r"
    }
   },
   "outputs": [
    {
     "name": "stderr",
     "output_type": "stream",
     "text": [
      "Warning message in system2(\"poetry\", c(\"env\", \"info\", \"--path\"), stdout = TRUE):\n",
      "“running command ''poetry' env info --path' had status 1”\n"
     ]
    }
   ],
   "source": [
    "# Load data\n",
    "\n",
    "dirsc <- \"~/data/cross-tissue/omics/raw\"\n",
    "filepath <- file.path(dirsc,\"local.h5ad\")\n",
    "ad <- read_h5ad(filepath)\n",
    "\n",
    "raw_X <- t(ad$raw$X)\n",
    "rownames(raw_X) <- ad$var_names\n",
    "colnames(raw_X) <- ad$obs_names\n",
    "\n",
    "train_test_cell_types = read.csv(dir_train_test_indices, row.names = 1)\n",
    "ad$obs[[grouping_name]] <- train_test_cell_types[[grouping_name]]\n",
    "ad$obs$train_index <- train_test_cell_types$Train.index"
   ]
  },
  {
   "cell_type": "code",
   "execution_count": 3,
   "metadata": {
    "vscode": {
     "languageId": "r"
    }
   },
   "outputs": [
    {
     "data": {
      "text/html": [
       "<style>\n",
       ".list-inline {list-style: none; margin:0; padding: 0}\n",
       ".list-inline>li {display: inline-block}\n",
       ".list-inline>li:not(:last-child)::after {content: \"\\00b7\"; padding: 0 .5ex}\n",
       "</style>\n",
       "<ol class=list-inline><li>36503</li><li>3</li></ol>\n"
      ],
      "text/latex": [
       "\\begin{enumerate*}\n",
       "\\item 36503\n",
       "\\item 3\n",
       "\\end{enumerate*}\n"
      ],
      "text/markdown": [
       "1. 36503\n",
       "2. 3\n",
       "\n",
       "\n"
      ],
      "text/plain": [
       "[1] 36503     3"
      ]
     },
     "metadata": {},
     "output_type": "display_data"
    },
    {
     "data": {
      "text/html": [
       "<style>\n",
       ".list-inline {list-style: none; margin:0; padding: 0}\n",
       ".list-inline>li {display: inline-block}\n",
       ".list-inline>li:not(:last-child)::after {content: \"\\00b7\"; padding: 0 .5ex}\n",
       "</style>\n",
       "<ol class=list-inline><li>36493</li><li>3</li></ol>\n"
      ],
      "text/latex": [
       "\\begin{enumerate*}\n",
       "\\item 36493\n",
       "\\item 3\n",
       "\\end{enumerate*}\n"
      ],
      "text/markdown": [
       "1. 36493\n",
       "2. 3\n",
       "\n",
       "\n"
      ],
      "text/plain": [
       "[1] 36493     3"
      ]
     },
     "metadata": {},
     "output_type": "display_data"
    }
   ],
   "source": [
    "# Convert ENSG to HGNC\n",
    "\n",
    "annot_genes_latestv  <-  \"~/deepdeconv/scripts/create_signature_matrix/helpers/ensdb_hsapiens_v99.tsv\" # This one covers everything in the CTI dataset\n",
    "annot_ensdb_df <- data.table::fread(annot_genes_latestv)\n",
    "cts_annot_df <- data.frame(\"Ensembl\" = rownames(raw_X))  %>% \n",
    "dplyr::left_join(annot_ensdb_df, by = \"Ensembl\")\n",
    "# Find duplicates\n",
    "duplicates <- cts_annot_df[which(duplicated(cts_annot_df$HGNC) | duplicated(cts_annot_df$HGNC, fromLast=TRUE)),]\n",
    "trainIndex <- which(ad$obs$train_index == \"True\")\n",
    "scRNseq_train_duplicates <- raw_X[duplicates$Ensembl,unlist(trainIndex)]\n",
    "duplicates$sd <- apply(scRNseq_train_duplicates, 1, sd)\n",
    "# Find duplicates with lowest sd\n",
    "duplicates_to_remove <- duplicates %>%\n",
    "dplyr::group_by(HGNC) %>%\n",
    "dplyr::top_n(-1, sd) %>%\n",
    "dplyr::slice(1)\n",
    "dim(cts_annot_df)\n",
    "cts_annot_clean_df <- cts_annot_df %>%\n",
    "  filter(!(Ensembl %in% duplicates_to_remove$Ensembl))\n",
    "dim(cts_annot_clean_df)\n",
    "# Create seurat object\n",
    "raw_X_clean <- raw_X[!rownames(raw_X) %in% duplicates_to_remove$Ensembl,]\n",
    "rownames(raw_X_clean) <- cts_annot_clean_df$HGNC\n",
    "\n",
    "# Create Seurat Object\n",
    "expr = CreateSeuratObject(counts=raw_X_clean, meta.data=as.data.frame(ad$obs))"
   ]
  },
  {
   "cell_type": "code",
   "execution_count": 4,
   "metadata": {
    "vscode": {
     "languageId": "r"
    }
   },
   "outputs": [
    {
     "data": {
      "text/html": [
       "<style>\n",
       ".list-inline {list-style: none; margin:0; padding: 0}\n",
       ".list-inline>li {display: inline-block}\n",
       ".list-inline>li:not(:last-child)::after {content: \"\\00b7\"; padding: 0 .5ex}\n",
       "</style>\n",
       "<ol class=list-inline><li>36493</li><li>329762</li></ol>\n"
      ],
      "text/latex": [
       "\\begin{enumerate*}\n",
       "\\item 36493\n",
       "\\item 329762\n",
       "\\end{enumerate*}\n"
      ],
      "text/markdown": [
       "1. 36493\n",
       "2. 329762\n",
       "\n",
       "\n"
      ],
      "text/plain": [
       "[1]  36493 329762"
      ]
     },
     "metadata": {},
     "output_type": "display_data"
    },
    {
     "data": {
      "text/html": [
       "<style>\n",
       ".list-inline {list-style: none; margin:0; padding: 0}\n",
       ".list-inline>li {display: inline-block}\n",
       ".list-inline>li:not(:last-child)::after {content: \"\\00b7\"; padding: 0 .5ex}\n",
       "</style>\n",
       "<ol class=list-inline><li>36493</li><li>305912</li></ol>\n"
      ],
      "text/latex": [
       "\\begin{enumerate*}\n",
       "\\item 36493\n",
       "\\item 305912\n",
       "\\end{enumerate*}\n"
      ],
      "text/markdown": [
       "1. 36493\n",
       "2. 305912\n",
       "\n",
       "\n"
      ],
      "text/plain": [
       "[1]  36493 305912"
      ]
     },
     "metadata": {},
     "output_type": "display_data"
    },
    {
     "data": {
      "text/html": [
       "<style>\n",
       ".list-inline {list-style: none; margin:0; padding: 0}\n",
       ".list-inline>li {display: inline-block}\n",
       ".list-inline>li:not(:last-child)::after {content: \"\\00b7\"; padding: 0 .5ex}\n",
       "</style>\n",
       "<ol class=list-inline><li>36322</li><li>305912</li></ol>\n"
      ],
      "text/latex": [
       "\\begin{enumerate*}\n",
       "\\item 36322\n",
       "\\item 305912\n",
       "\\end{enumerate*}\n"
      ],
      "text/markdown": [
       "1. 36322\n",
       "2. 305912\n",
       "\n",
       "\n"
      ],
      "text/plain": [
       "[1]  36322 305912"
      ]
     },
     "metadata": {},
     "output_type": "display_data"
    },
    {
     "data": {
      "text/html": [
       "<style>\n",
       ".list-inline {list-style: none; margin:0; padding: 0}\n",
       ".list-inline>li {display: inline-block}\n",
       ".list-inline>li:not(:last-child)::after {content: \"\\00b7\"; padding: 0 .5ex}\n",
       "</style>\n",
       "<ol class=list-inline><li>36000</li><li>305912</li></ol>\n"
      ],
      "text/latex": [
       "\\begin{enumerate*}\n",
       "\\item 36000\n",
       "\\item 305912\n",
       "\\end{enumerate*}\n"
      ],
      "text/markdown": [
       "1. 36000\n",
       "2. 305912\n",
       "\n",
       "\n"
      ],
      "text/plain": [
       "[1]  36000 305912"
      ]
     },
     "metadata": {},
     "output_type": "display_data"
    }
   ],
   "source": [
    "dim(expr)\n",
    "# Remove some cell types\n",
    "subset_expr <- FetchData(object = expr, vars = grouping_name)\n",
    "expr_clean <- expr[, which(x = subset_expr != \"To remove\")]\n",
    "dim(expr_clean)\n",
    "# Removing mitochondrial and ribosomal genes\n",
    "genes.ribomit <- grep(pattern = \"^RP[SL][[:digit:]]|^RP[[:digit:]]|^RPSA|^RPS|^RPL|^MT-|^MRPL\",rownames(expr_clean))\n",
    "expr_clean <- expr_clean[-c(genes.ribomit),]\n",
    "dim(expr_clean) \n",
    "# Remove housekeeping genes and patient specific ones: ACTB if only this one, not a big deal. \n",
    "# In this context we can remove B2M and HLA-A, B or C. We can also remove H3 histone genes\n",
    "genes2remove = grep(pattern = \"^ACTB$|TMSB4X|IGKC|^IG[HL]|HLA-[ABC]|B2M|UBC|^H3-|TPT1|ACTG1\",rownames(expr_clean))\n",
    "expr_clean <- expr_clean[-c(genes2remove),]\n",
    "dim(expr_clean)\n",
    "# Convert back to ENSG to be in accordance with the CTI data\n",
    "# The following doesn't work because renaming features in v3/v4 assays is not supported\n",
    "# rownames(expr_clean) <- cts_annot_clean_df$Ensembl[match(rownames(expr_clean), cts_annot_clean_df$HGNC)]\n",
    "# Therefore, one should recreate the Seurat object from scratch to rename the rownames"
   ]
  },
  {
   "cell_type": "code",
   "execution_count": 13,
   "metadata": {
    "vscode": {
     "languageId": "r"
    }
   },
   "outputs": [],
   "source": [
    "# Split dataset into 2\n",
    "\n",
    "trainIndex <- which(expr_clean$train_index == \"True\")\n",
    "scRNseq_t <- expr_clean[,unlist(trainIndex)]\n",
    "# scRNseq_test <- expr[,-unlist(trainIndex)]"
   ]
  },
  {
   "cell_type": "code",
   "execution_count": null,
   "metadata": {
    "vscode": {
     "languageId": "r"
    }
   },
   "outputs": [],
   "source": [
    "# Differential expression analysis\n",
    "\n",
    "## WARNING. The signature matrix function will not work if there is space inside the cell type names.\n",
    "## Therefore, if needed, one should remove the spaces for the creation of the idents, like in the three following lines.\n",
    "# idents <- ifelse(scRNseq_t[[grouping_name]][,grouping_name] == \"CD4 T\", \"CD4T\", scRNseq_t[[grouping_name]][,grouping_name])\n",
    "# idents <- ifelse(idents == \"CD8 T\", \"CD8T\", idents)\n",
    "# Idents(scRNseq_t) <- idents\n",
    "Idents(scRNseq_t) <- scRNseq_t[[grouping_name]][,grouping_name]\n",
    "names(Idents(scRNseq_t)) <- colnames(scRNseq_t)\n",
    "print(table(Idents(scRNseq_t)))\n",
    "if(!file.exists(file.path(dir_out,paste0(\"DE_\",unique(Idents(scRNseq_t))[length(unique(Idents(scRNseq_t)))],\".txt\")))){\n",
    "    DGE_celltypes(scRNseq_t,Idents(scRNseq_t),file.path(dir_out))\n",
    "}"
   ]
  },
  {
   "cell_type": "code",
   "execution_count": null,
   "metadata": {
    "vscode": {
     "languageId": "r"
    }
   },
   "outputs": [],
   "source": [
    "# Signature matrix\n",
    "\n",
    "if(!file.exists(file.path(dir_out, paste(name_signature,\".txt\", sep=\"\")))){\n",
    "\n",
    "  scRNseq_t <- NormalizeData(object = scRNseq_t, normalization.method = \"RC\",scale.factor = 10000)\n",
    "\n",
    "  signature <- buildSignatureMatrix_Seurat(name_signature,\n",
    "      scRNseq_t,Idents(scRNseq_t),file.path(dir_out),\n",
    "      pvaladj.cutoff=0.05,diff.cutoff=0.5,\n",
    "      minG=50,maxG=200)\n",
    "  write.table(signature,file.path(dir_out,paste(name_signature,\".txt\", sep=\"\")),sep=\"\\t\",row.names=TRUE,col.names=NA)\n",
    "  \n",
    "}else{\n",
    "  signature <- read.table(file.path(dir_out,paste(name_signature,\".txt\", sep=\"\")),sep=\"\\t\",row.names=1,header=TRUE)\n",
    "}"
   ]
  },
  {
   "cell_type": "code",
   "execution_count": null,
   "metadata": {
    "vscode": {
     "languageId": "r"
    }
   },
   "outputs": [],
   "source": [
    "# Convert signature gene names from HGNC to ENSG\n",
    "\n",
    "signature_ensg <- signature\n",
    "rownames(signature_ensg) <- cts_annot_clean_df$Ensembl[match(rownames(signature_ensg), cts_annot_clean_df$HGNC)]\n",
    "if(!file.exists(file.path(dir_out,paste(name_signature,\"_ensg.txt\", sep=\"\")))){\n",
    "  write.table(signature_ensg,file.path(dir_out,paste(name_signature,\"_ensg.txt\", sep=\"\")),sep=\"\\t\",row.names=TRUE,col.names=NA)\n",
    "}"
   ]
  },
  {
   "cell_type": "code",
   "execution_count": null,
   "metadata": {
    "vscode": {
     "languageId": "r"
    }
   },
   "outputs": [],
   "source": []
  }
 ],
 "metadata": {
  "kernelspec": {
   "display_name": "R",
   "language": "R",
   "name": "ir"
  },
  "language_info": {
   "codemirror_mode": "r",
   "file_extension": ".r",
   "mimetype": "text/x-r-source",
   "name": "R",
   "pygments_lexer": "r",
   "version": "4.3.1"
  },
  "orig_nbformat": 4
 },
 "nbformat": 4,
 "nbformat_minor": 2
}
