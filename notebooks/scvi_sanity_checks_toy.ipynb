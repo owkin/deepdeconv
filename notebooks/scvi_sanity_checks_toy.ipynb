{
    "cells": [
        {
            "cell_type": "markdown",
            "metadata": {
                "id": "y4nH3q_rZ0bI"
            },
            "source": [
                "# **scVI sanity checks on toy dataset**\n",
                "\n",
                "\n",
                "In this notebook, we go through several sanity checks to test if scVI has linear propreties"
            ]
        },
        {
            "cell_type": "markdown",
            "metadata": {},
            "source": [
                "#### Standard imports"
            ]
        },
        {
            "cell_type": "code",
            "execution_count": 1,
            "metadata": {
                "colab": {
                    "base_uri": "https://localhost:8080/"
                },
                "id": "fKv83AN6hcWO",
                "outputId": "b3a5ee4e-c713-4ad7-a87e-832102335655"
            },
            "outputs": [
                {
                    "name": "stderr",
                    "output_type": "stream",
                    "text": [
                        "/home/owkin/deepdeconv/scvi/_settings.py:63: UserWarning: Since v1.0.0, scvi-tools no longer uses a random seed by default. Run `scvi.settings.seed = 0` to reproduce results from previous versions.\n",
                        "  self.seed = seed\n",
                        "/home/owkin/deepdeconv/scvi/_settings.py:70: UserWarning: Setting `dl_pin_memory_gpu_training` is deprecated in v1.0 and will be removed in v1.1. Please pass in `pin_memory` to the data loaders instead.\n",
                        "  self.dl_pin_memory_gpu_training = (\n",
                        "/home/owkin/.conda/envs/scvi/lib/python3.9/site-packages/tqdm/auto.py:21: TqdmWarning: IProgress not found. Please update jupyter and ipywidgets. See https://ipywidgets.readthedocs.io/en/stable/user_install.html\n",
                        "  from .autonotebook import tqdm as notebook_tqdm\n"
                    ]
                }
            ],
            "source": [
                "import scanpy as sc\n",
                "import scvi\n",
                "import anndata as ad\n",
                "import pandas as pd\n",
                "import matplotlib.pyplot as plt\n",
                "import torch\n",
                "import numpy\n",
                "sc.set_figure_params(figsize=(4, 4))\n",
                "\n",
                "# for white background of figures (only for docs rendering)\n",
                "%config InlineBackend.print_figure_kwargs={'facecolor' : \"w\"}\n",
                "%config InlineBackend.figure_format='retina'"
            ]
        },
        {
            "cell_type": "markdown",
            "metadata": {},
            "source": [
                "# 1. Data preparation and model training"
            ]
        },
        {
            "cell_type": "markdown",
            "metadata": {
                "id": "oPGuX2wPZ0bS"
            },
            "source": [
                "## 1.1 Loading and preparing data \n",
                "\n",
                "#### Cross-tissue immune cell analysis reveals tissue-specific features in humans - Global\n",
                "\n",
                "Despite their crucial role in health and disease, our knowledge of immune cells within human tissues remains limited. We surveyed the immune compartment of 16 tissues from 12 adult donors by single-cell RNA sequencing and VDJ sequencing generating a dataset of ~360,000 cells. To systematically resolve immune cell heterogeneity across tissues, we developed CellTypist, a machine learning tool for rapid and precise cell type annotation. Using this approach, combined with detailed curation, we determined the tissue distribution of finely phenotyped immune cell types, revealing hitherto unappreciated tissue-specific features and clonal architecture of T and B cells. Our multitissue approach lays the foundation for identifying highly resolved immune cell types by leveraging a common reference dataset, tissue-integrated expression analysis, and antigen receptor sequencing."
            ]
        },
        {
            "attachments": {},
            "cell_type": "markdown",
            "metadata": {
                "id": "CKEgQJG3mVJh"
            },
            "source": [
                "```{important}\n",
                "All scvi-tools models require AnnData objects as input.\n",
                "```"
            ]
        },
        {
            "cell_type": "code",
            "execution_count": 2,
            "metadata": {
                "colab": {
                    "base_uri": "https://localhost:8080/"
                },
                "id": "HZPOlSs2nAez",
                "outputId": "ecae5cda-3e44-4f91-e945-51a4f148c90d"
            },
            "outputs": [
                {
                    "name": "stdout",
                    "output_type": "stream",
                    "text": [
                        "\u001b[34mINFO    \u001b[0m File data/hca_subsampled_20k.h5ad already downloaded                                                      \n"
                    ]
                }
            ],
            "source": [
                "## Toy dataset \n",
                "adata = ad.read_h5ad(\"/home/owkin/data/cross-tissue/omics/raw/local.h5ad\")\n",
                "adata = scvi.data.heart_cell_atlas_subsampled()"
            ]
        },
        {
            "cell_type": "code",
            "execution_count": 3,
            "metadata": {},
            "outputs": [],
            "source": [
                "sc.pp.filter_genes(adata, min_counts=3)"
            ]
        },
        {
            "cell_type": "markdown",
            "metadata": {},
            "source": [
                "In scRNA-seq analysis, it's popular to normalize the data. These values are not used by scvi-tools, but given their popularity in other tasks as well as for visualization, we store them in the anndata object separately (via the `.raw` attribute)."
            ]
        },
        {
            "cell_type": "markdown",
            "metadata": {},
            "source": [
                "```{important}\n",
                "Unless otherwise specified, scvi-tools models require the raw counts (not log library size normalized). scvi-tools models will run for non-negative real-valued data, but we strongly suggest checking that these possibly non-count values are intended to represent pseudocounts (e.g. SoupX-corrected counts), and not some other normalized data, in which the variance/covariance structure of the data has changed dramatically.\n",
                "```"
            ]
        },
        {
            "cell_type": "code",
            "execution_count": 4,
            "metadata": {},
            "outputs": [],
            "source": [
                "adata.layers[\"counts\"] = adata.X.copy()  # preserve counts\n",
                "sc.pp.normalize_total(adata, target_sum=1e4)\n",
                "sc.pp.log1p(adata)\n",
                "adata.raw = adata  # freeze the state in `.raw`"
            ]
        },
        {
            "cell_type": "code",
            "execution_count": 5,
            "metadata": {},
            "outputs": [],
            "source": [
                "sc.pp.highly_variable_genes(\n",
                "    adata,\n",
                "    n_top_genes=1200,\n",
                "    subset=True,\n",
                "    layer=\"counts\",\n",
                "    flavor=\"seurat_v3\",\n",
                "    batch_key=\"cell_source\",\n",
                ")"
            ]
        },
        {
            "cell_type": "markdown",
            "metadata": {},
            "source": [
                "Distribution of the batch ids"
            ]
        },
        {
            "cell_type": "code",
            "execution_count": 6,
            "metadata": {},
            "outputs": [
                {
                    "data": {
                        "text/plain": [
                            "(donor\n",
                            " D6     3009\n",
                            " D11    1851\n",
                            " D2     1714\n",
                            " H5     1514\n",
                            " D7     1386\n",
                            " H7     1192\n",
                            " H3     1180\n",
                            " D5     1161\n",
                            " D4     1144\n",
                            " H4     1046\n",
                            " H6     1027\n",
                            " D3      999\n",
                            " H2      837\n",
                            " D1      581\n",
                            " Name: count, dtype: int64,\n",
                            " cell_source\n",
                            " Sanger-Nuclei     6937\n",
                            " Harvard-Nuclei    6796\n",
                            " Sanger-CD45       3155\n",
                            " Sanger-Cells      1753\n",
                            " Name: count, dtype: int64)"
                        ]
                    },
                    "execution_count": 6,
                    "metadata": {},
                    "output_type": "execute_result"
                }
            ],
            "source": [
                "adata.obs[\"donor\"].value_counts(), adata.obs[\"cell_source\"].value_counts()"
            ]
        },
        {
            "cell_type": "markdown",
            "metadata": {
                "id": "RcUzIOGbrKMf"
            },
            "source": [
                "Now it's time to run `setup_anndata()`, which alerts scvi-tools to the locations of various matrices inside the anndata. It's important to run this function with the correct arguments so scvi-tools is notified that your dataset has batches, annotations, etc. For example, if batches are registered with scvi-tools, the subsequent model will correct for batch effects. See the full documentation for details.\n",
                "\n",
                "In this dataset, there is a \"cell_source\" categorical covariate, and within each \"cell_source\", multiple \"donors\", \"gender\" and \"age_group\". There are also two continuous covariates we'd like to correct for: \"percent_mito\" and \"percent_ribo\". These covariates can be registered using the `categorical_covariate_keys` argument. If you only have one categorical covariate, you can also use the `batch_key` argument instead."
            ]
        },
        {
            "cell_type": "code",
            "execution_count": 7,
            "metadata": {
                "id": "d46OgftwrJhl"
            },
            "outputs": [
                {
                    "name": "stderr",
                    "output_type": "stream",
                    "text": [
                        "No GPU/TPU found, falling back to CPU. (Set TF_CPP_MIN_LOG_LEVEL=0 and rerun for more info.)\n"
                    ]
                }
            ],
            "source": [
                "scvi.model.SCVI.setup_anndata(\n",
                "    adata,\n",
                "    layer=\"counts\",\n",
                "    categorical_covariate_keys=[\"cell_source\", \"donor\"],\n",
                "    continuous_covariate_keys=[\"percent_mito\", \"percent_ribo\"],\n",
                ")"
            ]
        },
        {
            "attachments": {},
            "cell_type": "markdown",
            "metadata": {
                "id": "RVHQRTbGowQC"
            },
            "source": [
                "```{warning}\n",
                "If the adata is modified after running `setup_anndata`, please run `setup_anndata` again, before creating an instance of a model.\n",
                "```"
            ]
        },
        {
            "cell_type": "markdown",
            "metadata": {
                "id": "RAWmYvjkZ0bW"
            },
            "source": [
                "## 1.2 Creating and training a model\n",
                "\n",
                "While we highlight the scVI model here, the API is consistent across all scvi-tools models and is inspired by that of [scikit-learn](https://scikit-learn.org/stable/). For a full list of options, see the scvi [documentation](https://scvi-tools.org)."
            ]
        },
        {
            "cell_type": "code",
            "execution_count": 8,
            "metadata": {
                "id": "xPnlTctkZ0bX"
            },
            "outputs": [
                {
                    "data": {
                        "text/html": [
                            "<pre style=\"white-space:pre;overflow-x:auto;line-height:normal;font-family:Menlo,'DejaVu Sans Mono',consolas,'Courier New',monospace\">Anndata setup with scvi-tools version <span style=\"color: #008080; text-decoration-color: #008080; font-weight: bold\">1.0</span>.<span style=\"color: #008080; text-decoration-color: #008080; font-weight: bold\">0</span>.\n",
                            "</pre>\n"
                        ],
                        "text/plain": [
                            "Anndata setup with scvi-tools version \u001b[1;36m1.0\u001b[0m.\u001b[1;36m0\u001b[0m.\n"
                        ]
                    },
                    "metadata": {},
                    "output_type": "display_data"
                },
                {
                    "data": {
                        "text/html": [
                            "<pre style=\"white-space:pre;overflow-x:auto;line-height:normal;font-family:Menlo,'DejaVu Sans Mono',consolas,'Courier New',monospace\">\n",
                            "</pre>\n"
                        ],
                        "text/plain": [
                            "\n"
                        ]
                    },
                    "metadata": {},
                    "output_type": "display_data"
                },
                {
                    "data": {
                        "text/html": [
                            "<pre style=\"white-space:pre;overflow-x:auto;line-height:normal;font-family:Menlo,'DejaVu Sans Mono',consolas,'Courier New',monospace\">Setup via `SCVI.setup_anndata` with arguments:\n",
                            "</pre>\n"
                        ],
                        "text/plain": [
                            "Setup via `SCVI.setup_anndata` with arguments:\n"
                        ]
                    },
                    "metadata": {},
                    "output_type": "display_data"
                },
                {
                    "data": {
                        "text/html": [
                            "<pre style=\"white-space:pre;overflow-x:auto;line-height:normal;font-family:Menlo,'DejaVu Sans Mono',consolas,'Courier New',monospace\"><span style=\"font-weight: bold\">{</span>\n",
                            "<span style=\"color: #7fbf7f; text-decoration-color: #7fbf7f\">│   </span><span style=\"color: #008000; text-decoration-color: #008000\">'layer'</span>: <span style=\"color: #008000; text-decoration-color: #008000\">'counts'</span>,\n",
                            "<span style=\"color: #7fbf7f; text-decoration-color: #7fbf7f\">│   </span><span style=\"color: #008000; text-decoration-color: #008000\">'batch_key'</span>: <span style=\"color: #800080; text-decoration-color: #800080; font-style: italic\">None</span>,\n",
                            "<span style=\"color: #7fbf7f; text-decoration-color: #7fbf7f\">│   </span><span style=\"color: #008000; text-decoration-color: #008000\">'labels_key'</span>: <span style=\"color: #800080; text-decoration-color: #800080; font-style: italic\">None</span>,\n",
                            "<span style=\"color: #7fbf7f; text-decoration-color: #7fbf7f\">│   </span><span style=\"color: #008000; text-decoration-color: #008000\">'size_factor_key'</span>: <span style=\"color: #800080; text-decoration-color: #800080; font-style: italic\">None</span>,\n",
                            "<span style=\"color: #7fbf7f; text-decoration-color: #7fbf7f\">│   </span><span style=\"color: #008000; text-decoration-color: #008000\">'categorical_covariate_keys'</span>: <span style=\"font-weight: bold\">[</span><span style=\"color: #008000; text-decoration-color: #008000\">'cell_source'</span>, <span style=\"color: #008000; text-decoration-color: #008000\">'donor'</span><span style=\"font-weight: bold\">]</span>,\n",
                            "<span style=\"color: #7fbf7f; text-decoration-color: #7fbf7f\">│   </span><span style=\"color: #008000; text-decoration-color: #008000\">'continuous_covariate_keys'</span>: <span style=\"font-weight: bold\">[</span><span style=\"color: #008000; text-decoration-color: #008000\">'percent_mito'</span>, <span style=\"color: #008000; text-decoration-color: #008000\">'percent_ribo'</span><span style=\"font-weight: bold\">]</span>\n",
                            "<span style=\"font-weight: bold\">}</span>\n",
                            "</pre>\n"
                        ],
                        "text/plain": [
                            "\u001b[1m{\u001b[0m\n",
                            "\u001b[2;32m│   \u001b[0m\u001b[32m'layer'\u001b[0m: \u001b[32m'counts'\u001b[0m,\n",
                            "\u001b[2;32m│   \u001b[0m\u001b[32m'batch_key'\u001b[0m: \u001b[3;35mNone\u001b[0m,\n",
                            "\u001b[2;32m│   \u001b[0m\u001b[32m'labels_key'\u001b[0m: \u001b[3;35mNone\u001b[0m,\n",
                            "\u001b[2;32m│   \u001b[0m\u001b[32m'size_factor_key'\u001b[0m: \u001b[3;35mNone\u001b[0m,\n",
                            "\u001b[2;32m│   \u001b[0m\u001b[32m'categorical_covariate_keys'\u001b[0m: \u001b[1m[\u001b[0m\u001b[32m'cell_source'\u001b[0m, \u001b[32m'donor'\u001b[0m\u001b[1m]\u001b[0m,\n",
                            "\u001b[2;32m│   \u001b[0m\u001b[32m'continuous_covariate_keys'\u001b[0m: \u001b[1m[\u001b[0m\u001b[32m'percent_mito'\u001b[0m, \u001b[32m'percent_ribo'\u001b[0m\u001b[1m]\u001b[0m\n",
                            "\u001b[1m}\u001b[0m\n"
                        ]
                    },
                    "metadata": {},
                    "output_type": "display_data"
                },
                {
                    "data": {
                        "text/html": [
                            "<pre style=\"white-space:pre;overflow-x:auto;line-height:normal;font-family:Menlo,'DejaVu Sans Mono',consolas,'Courier New',monospace\">\n",
                            "</pre>\n"
                        ],
                        "text/plain": [
                            "\n"
                        ]
                    },
                    "metadata": {},
                    "output_type": "display_data"
                },
                {
                    "data": {
                        "text/html": [
                            "<pre style=\"white-space:pre;overflow-x:auto;line-height:normal;font-family:Menlo,'DejaVu Sans Mono',consolas,'Courier New',monospace\"><span style=\"font-style: italic\">         Summary Statistics         </span>\n",
                            "┏━━━━━━━━━━━━━━━━━━━━━━━━━━┳━━━━━━━┓\n",
                            "┃<span style=\"font-weight: bold\">     Summary Stat Key     </span>┃<span style=\"font-weight: bold\"> Value </span>┃\n",
                            "┡━━━━━━━━━━━━━━━━━━━━━━━━━━╇━━━━━━━┩\n",
                            "│<span style=\"color: #0087ff; text-decoration-color: #0087ff\">         n_batch          </span>│<span style=\"color: #af00d7; text-decoration-color: #af00d7\">   1   </span>│\n",
                            "│<span style=\"color: #0087ff; text-decoration-color: #0087ff\">         n_cells          </span>│<span style=\"color: #af00d7; text-decoration-color: #af00d7\"> 18641 </span>│\n",
                            "│<span style=\"color: #0087ff; text-decoration-color: #0087ff\"> n_extra_categorical_covs </span>│<span style=\"color: #af00d7; text-decoration-color: #af00d7\">   2   </span>│\n",
                            "│<span style=\"color: #0087ff; text-decoration-color: #0087ff\"> n_extra_continuous_covs  </span>│<span style=\"color: #af00d7; text-decoration-color: #af00d7\">   2   </span>│\n",
                            "│<span style=\"color: #0087ff; text-decoration-color: #0087ff\">         n_labels         </span>│<span style=\"color: #af00d7; text-decoration-color: #af00d7\">   1   </span>│\n",
                            "│<span style=\"color: #0087ff; text-decoration-color: #0087ff\">          n_vars          </span>│<span style=\"color: #af00d7; text-decoration-color: #af00d7\"> 1200  </span>│\n",
                            "└──────────────────────────┴───────┘\n",
                            "</pre>\n"
                        ],
                        "text/plain": [
                            "\u001b[3m         Summary Statistics         \u001b[0m\n",
                            "┏━━━━━━━━━━━━━━━━━━━━━━━━━━┳━━━━━━━┓\n",
                            "┃\u001b[1m \u001b[0m\u001b[1m    Summary Stat Key    \u001b[0m\u001b[1m \u001b[0m┃\u001b[1m \u001b[0m\u001b[1mValue\u001b[0m\u001b[1m \u001b[0m┃\n",
                            "┡━━━━━━━━━━━━━━━━━━━━━━━━━━╇━━━━━━━┩\n",
                            "│\u001b[38;5;33m \u001b[0m\u001b[38;5;33m        n_batch         \u001b[0m\u001b[38;5;33m \u001b[0m│\u001b[38;5;128m \u001b[0m\u001b[38;5;128m  1  \u001b[0m\u001b[38;5;128m \u001b[0m│\n",
                            "│\u001b[38;5;33m \u001b[0m\u001b[38;5;33m        n_cells         \u001b[0m\u001b[38;5;33m \u001b[0m│\u001b[38;5;128m \u001b[0m\u001b[38;5;128m18641\u001b[0m\u001b[38;5;128m \u001b[0m│\n",
                            "│\u001b[38;5;33m \u001b[0m\u001b[38;5;33mn_extra_categorical_covs\u001b[0m\u001b[38;5;33m \u001b[0m│\u001b[38;5;128m \u001b[0m\u001b[38;5;128m  2  \u001b[0m\u001b[38;5;128m \u001b[0m│\n",
                            "│\u001b[38;5;33m \u001b[0m\u001b[38;5;33mn_extra_continuous_covs \u001b[0m\u001b[38;5;33m \u001b[0m│\u001b[38;5;128m \u001b[0m\u001b[38;5;128m  2  \u001b[0m\u001b[38;5;128m \u001b[0m│\n",
                            "│\u001b[38;5;33m \u001b[0m\u001b[38;5;33m        n_labels        \u001b[0m\u001b[38;5;33m \u001b[0m│\u001b[38;5;128m \u001b[0m\u001b[38;5;128m  1  \u001b[0m\u001b[38;5;128m \u001b[0m│\n",
                            "│\u001b[38;5;33m \u001b[0m\u001b[38;5;33m         n_vars         \u001b[0m\u001b[38;5;33m \u001b[0m│\u001b[38;5;128m \u001b[0m\u001b[38;5;128m1200 \u001b[0m\u001b[38;5;128m \u001b[0m│\n",
                            "└──────────────────────────┴───────┘\n"
                        ]
                    },
                    "metadata": {},
                    "output_type": "display_data"
                },
                {
                    "data": {
                        "text/html": [
                            "<pre style=\"white-space:pre;overflow-x:auto;line-height:normal;font-family:Menlo,'DejaVu Sans Mono',consolas,'Courier New',monospace\"><span style=\"font-style: italic\">                             Data Registry                             </span>\n",
                            "┏━━━━━━━━━━━━━━━━━━━━━━━━┳━━━━━━━━━━━━━━━━━━━━━━━━━━━━━━━━━━━━━━━━━━━━┓\n",
                            "┃<span style=\"font-weight: bold\">      Registry Key      </span>┃<span style=\"font-weight: bold\">            scvi-tools Location             </span>┃\n",
                            "┡━━━━━━━━━━━━━━━━━━━━━━━━╇━━━━━━━━━━━━━━━━━━━━━━━━━━━━━━━━━━━━━━━━━━━━┩\n",
                            "│<span style=\"color: #0087ff; text-decoration-color: #0087ff\">           X            </span>│<span style=\"color: #af00d7; text-decoration-color: #af00d7\">           adata.layers['counts']           </span>│\n",
                            "│<span style=\"color: #0087ff; text-decoration-color: #0087ff\">         batch          </span>│<span style=\"color: #af00d7; text-decoration-color: #af00d7\">          adata.obs['_scvi_batch']          </span>│\n",
                            "│<span style=\"color: #0087ff; text-decoration-color: #0087ff\"> extra_categorical_covs </span>│<span style=\"color: #af00d7; text-decoration-color: #af00d7\"> adata.obsm['_scvi_extra_categorical_covs'] </span>│\n",
                            "│<span style=\"color: #0087ff; text-decoration-color: #0087ff\"> extra_continuous_covs  </span>│<span style=\"color: #af00d7; text-decoration-color: #af00d7\"> adata.obsm['_scvi_extra_continuous_covs']  </span>│\n",
                            "│<span style=\"color: #0087ff; text-decoration-color: #0087ff\">         labels         </span>│<span style=\"color: #af00d7; text-decoration-color: #af00d7\">         adata.obs['_scvi_labels']          </span>│\n",
                            "└────────────────────────┴────────────────────────────────────────────┘\n",
                            "</pre>\n"
                        ],
                        "text/plain": [
                            "\u001b[3m                             Data Registry                             \u001b[0m\n",
                            "┏━━━━━━━━━━━━━━━━━━━━━━━━┳━━━━━━━━━━━━━━━━━━━━━━━━━━━━━━━━━━━━━━━━━━━━┓\n",
                            "┃\u001b[1m \u001b[0m\u001b[1m     Registry Key     \u001b[0m\u001b[1m \u001b[0m┃\u001b[1m \u001b[0m\u001b[1m           scvi-tools Location            \u001b[0m\u001b[1m \u001b[0m┃\n",
                            "┡━━━━━━━━━━━━━━━━━━━━━━━━╇━━━━━━━━━━━━━━━━━━━━━━━━━━━━━━━━━━━━━━━━━━━━┩\n",
                            "│\u001b[38;5;33m \u001b[0m\u001b[38;5;33m          X           \u001b[0m\u001b[38;5;33m \u001b[0m│\u001b[38;5;128m \u001b[0m\u001b[38;5;128m          adata.layers['counts']          \u001b[0m\u001b[38;5;128m \u001b[0m│\n",
                            "│\u001b[38;5;33m \u001b[0m\u001b[38;5;33m        batch         \u001b[0m\u001b[38;5;33m \u001b[0m│\u001b[38;5;128m \u001b[0m\u001b[38;5;128m         adata.obs['_scvi_batch']         \u001b[0m\u001b[38;5;128m \u001b[0m│\n",
                            "│\u001b[38;5;33m \u001b[0m\u001b[38;5;33mextra_categorical_covs\u001b[0m\u001b[38;5;33m \u001b[0m│\u001b[38;5;128m \u001b[0m\u001b[38;5;128madata.obsm['_scvi_extra_categorical_covs']\u001b[0m\u001b[38;5;128m \u001b[0m│\n",
                            "│\u001b[38;5;33m \u001b[0m\u001b[38;5;33mextra_continuous_covs \u001b[0m\u001b[38;5;33m \u001b[0m│\u001b[38;5;128m \u001b[0m\u001b[38;5;128madata.obsm['_scvi_extra_continuous_covs'] \u001b[0m\u001b[38;5;128m \u001b[0m│\n",
                            "│\u001b[38;5;33m \u001b[0m\u001b[38;5;33m        labels        \u001b[0m\u001b[38;5;33m \u001b[0m│\u001b[38;5;128m \u001b[0m\u001b[38;5;128m        adata.obs['_scvi_labels']         \u001b[0m\u001b[38;5;128m \u001b[0m│\n",
                            "└────────────────────────┴────────────────────────────────────────────┘\n"
                        ]
                    },
                    "metadata": {},
                    "output_type": "display_data"
                },
                {
                    "data": {
                        "text/html": [
                            "<pre style=\"white-space:pre;overflow-x:auto;line-height:normal;font-family:Menlo,'DejaVu Sans Mono',consolas,'Courier New',monospace\"><span style=\"font-style: italic\">                     batch State Registry                      </span>\n",
                            "┏━━━━━━━━━━━━━━━━━━━━━━━━━━┳━━━━━━━━━━━━┳━━━━━━━━━━━━━━━━━━━━━┓\n",
                            "┃<span style=\"font-weight: bold\">     Source Location      </span>┃<span style=\"font-weight: bold\"> Categories </span>┃<span style=\"font-weight: bold\"> scvi-tools Encoding </span>┃\n",
                            "┡━━━━━━━━━━━━━━━━━━━━━━━━━━╇━━━━━━━━━━━━╇━━━━━━━━━━━━━━━━━━━━━┩\n",
                            "│<span style=\"color: #0087ff; text-decoration-color: #0087ff\"> adata.obs['_scvi_batch'] </span>│<span style=\"color: #008000; text-decoration-color: #008000\">     0      </span>│<span style=\"color: #af00d7; text-decoration-color: #af00d7\">          0          </span>│\n",
                            "└──────────────────────────┴────────────┴─────────────────────┘\n",
                            "</pre>\n"
                        ],
                        "text/plain": [
                            "\u001b[3m                     batch State Registry                      \u001b[0m\n",
                            "┏━━━━━━━━━━━━━━━━━━━━━━━━━━┳━━━━━━━━━━━━┳━━━━━━━━━━━━━━━━━━━━━┓\n",
                            "┃\u001b[1m \u001b[0m\u001b[1m    Source Location     \u001b[0m\u001b[1m \u001b[0m┃\u001b[1m \u001b[0m\u001b[1mCategories\u001b[0m\u001b[1m \u001b[0m┃\u001b[1m \u001b[0m\u001b[1mscvi-tools Encoding\u001b[0m\u001b[1m \u001b[0m┃\n",
                            "┡━━━━━━━━━━━━━━━━━━━━━━━━━━╇━━━━━━━━━━━━╇━━━━━━━━━━━━━━━━━━━━━┩\n",
                            "│\u001b[38;5;33m \u001b[0m\u001b[38;5;33madata.obs['_scvi_batch']\u001b[0m\u001b[38;5;33m \u001b[0m│\u001b[32m \u001b[0m\u001b[32m    0     \u001b[0m\u001b[32m \u001b[0m│\u001b[38;5;128m \u001b[0m\u001b[38;5;128m         0         \u001b[0m\u001b[38;5;128m \u001b[0m│\n",
                            "└──────────────────────────┴────────────┴─────────────────────┘\n"
                        ]
                    },
                    "metadata": {},
                    "output_type": "display_data"
                },
                {
                    "data": {
                        "text/html": [
                            "<pre style=\"white-space:pre;overflow-x:auto;line-height:normal;font-family:Menlo,'DejaVu Sans Mono',consolas,'Courier New',monospace\"><span style=\"font-style: italic\">                     labels State Registry                      </span>\n",
                            "┏━━━━━━━━━━━━━━━━━━━━━━━━━━━┳━━━━━━━━━━━━┳━━━━━━━━━━━━━━━━━━━━━┓\n",
                            "┃<span style=\"font-weight: bold\">      Source Location      </span>┃<span style=\"font-weight: bold\"> Categories </span>┃<span style=\"font-weight: bold\"> scvi-tools Encoding </span>┃\n",
                            "┡━━━━━━━━━━━━━━━━━━━━━━━━━━━╇━━━━━━━━━━━━╇━━━━━━━━━━━━━━━━━━━━━┩\n",
                            "│<span style=\"color: #0087ff; text-decoration-color: #0087ff\"> adata.obs['_scvi_labels'] </span>│<span style=\"color: #008000; text-decoration-color: #008000\">     0      </span>│<span style=\"color: #af00d7; text-decoration-color: #af00d7\">          0          </span>│\n",
                            "└───────────────────────────┴────────────┴─────────────────────┘\n",
                            "</pre>\n"
                        ],
                        "text/plain": [
                            "\u001b[3m                     labels State Registry                      \u001b[0m\n",
                            "┏━━━━━━━━━━━━━━━━━━━━━━━━━━━┳━━━━━━━━━━━━┳━━━━━━━━━━━━━━━━━━━━━┓\n",
                            "┃\u001b[1m \u001b[0m\u001b[1m     Source Location     \u001b[0m\u001b[1m \u001b[0m┃\u001b[1m \u001b[0m\u001b[1mCategories\u001b[0m\u001b[1m \u001b[0m┃\u001b[1m \u001b[0m\u001b[1mscvi-tools Encoding\u001b[0m\u001b[1m \u001b[0m┃\n",
                            "┡━━━━━━━━━━━━━━━━━━━━━━━━━━━╇━━━━━━━━━━━━╇━━━━━━━━━━━━━━━━━━━━━┩\n",
                            "│\u001b[38;5;33m \u001b[0m\u001b[38;5;33madata.obs['_scvi_labels']\u001b[0m\u001b[38;5;33m \u001b[0m│\u001b[32m \u001b[0m\u001b[32m    0     \u001b[0m\u001b[32m \u001b[0m│\u001b[38;5;128m \u001b[0m\u001b[38;5;128m         0         \u001b[0m\u001b[38;5;128m \u001b[0m│\n",
                            "└───────────────────────────┴────────────┴─────────────────────┘\n"
                        ]
                    },
                    "metadata": {},
                    "output_type": "display_data"
                },
                {
                    "data": {
                        "text/html": [
                            "<pre style=\"white-space:pre;overflow-x:auto;line-height:normal;font-family:Menlo,'DejaVu Sans Mono',consolas,'Courier New',monospace\"><span style=\"font-style: italic\">               extra_categorical_covs State Registry               </span>\n",
                            "┏━━━━━━━━━━━━━━━━━━━━━━━━━━┳━━━━━━━━━━━━━━━━┳━━━━━━━━━━━━━━━━━━━━━┓\n",
                            "┃<span style=\"font-weight: bold\">     Source Location      </span>┃<span style=\"font-weight: bold\">   Categories   </span>┃<span style=\"font-weight: bold\"> scvi-tools Encoding </span>┃\n",
                            "┡━━━━━━━━━━━━━━━━━━━━━━━━━━╇━━━━━━━━━━━━━━━━╇━━━━━━━━━━━━━━━━━━━━━┩\n",
                            "│<span style=\"color: #0087ff; text-decoration-color: #0087ff\"> adata.obs['cell_source'] </span>│<span style=\"color: #008000; text-decoration-color: #008000\"> Harvard-Nuclei </span>│<span style=\"color: #af00d7; text-decoration-color: #af00d7\">          0          </span>│\n",
                            "│<span style=\"color: #0087ff; text-decoration-color: #0087ff\">                          </span>│<span style=\"color: #008000; text-decoration-color: #008000\">  Sanger-CD45   </span>│<span style=\"color: #af00d7; text-decoration-color: #af00d7\">          1          </span>│\n",
                            "│<span style=\"color: #0087ff; text-decoration-color: #0087ff\">                          </span>│<span style=\"color: #008000; text-decoration-color: #008000\">  Sanger-Cells  </span>│<span style=\"color: #af00d7; text-decoration-color: #af00d7\">          2          </span>│\n",
                            "│<span style=\"color: #0087ff; text-decoration-color: #0087ff\">                          </span>│<span style=\"color: #008000; text-decoration-color: #008000\"> Sanger-Nuclei  </span>│<span style=\"color: #af00d7; text-decoration-color: #af00d7\">          3          </span>│\n",
                            "│<span style=\"color: #0087ff; text-decoration-color: #0087ff\">                          </span>│<span style=\"color: #008000; text-decoration-color: #008000\">                </span>│<span style=\"color: #af00d7; text-decoration-color: #af00d7\">                     </span>│\n",
                            "│<span style=\"color: #0087ff; text-decoration-color: #0087ff\">    adata.obs['donor']    </span>│<span style=\"color: #008000; text-decoration-color: #008000\">       D1       </span>│<span style=\"color: #af00d7; text-decoration-color: #af00d7\">          0          </span>│\n",
                            "│<span style=\"color: #0087ff; text-decoration-color: #0087ff\">                          </span>│<span style=\"color: #008000; text-decoration-color: #008000\">       D2       </span>│<span style=\"color: #af00d7; text-decoration-color: #af00d7\">          1          </span>│\n",
                            "│<span style=\"color: #0087ff; text-decoration-color: #0087ff\">                          </span>│<span style=\"color: #008000; text-decoration-color: #008000\">       D3       </span>│<span style=\"color: #af00d7; text-decoration-color: #af00d7\">          2          </span>│\n",
                            "│<span style=\"color: #0087ff; text-decoration-color: #0087ff\">                          </span>│<span style=\"color: #008000; text-decoration-color: #008000\">       D4       </span>│<span style=\"color: #af00d7; text-decoration-color: #af00d7\">          3          </span>│\n",
                            "│<span style=\"color: #0087ff; text-decoration-color: #0087ff\">                          </span>│<span style=\"color: #008000; text-decoration-color: #008000\">       D5       </span>│<span style=\"color: #af00d7; text-decoration-color: #af00d7\">          4          </span>│\n",
                            "│<span style=\"color: #0087ff; text-decoration-color: #0087ff\">                          </span>│<span style=\"color: #008000; text-decoration-color: #008000\">       D6       </span>│<span style=\"color: #af00d7; text-decoration-color: #af00d7\">          5          </span>│\n",
                            "│<span style=\"color: #0087ff; text-decoration-color: #0087ff\">                          </span>│<span style=\"color: #008000; text-decoration-color: #008000\">       D7       </span>│<span style=\"color: #af00d7; text-decoration-color: #af00d7\">          6          </span>│\n",
                            "│<span style=\"color: #0087ff; text-decoration-color: #0087ff\">                          </span>│<span style=\"color: #008000; text-decoration-color: #008000\">      D11       </span>│<span style=\"color: #af00d7; text-decoration-color: #af00d7\">          7          </span>│\n",
                            "│<span style=\"color: #0087ff; text-decoration-color: #0087ff\">                          </span>│<span style=\"color: #008000; text-decoration-color: #008000\">       H2       </span>│<span style=\"color: #af00d7; text-decoration-color: #af00d7\">          8          </span>│\n",
                            "│<span style=\"color: #0087ff; text-decoration-color: #0087ff\">                          </span>│<span style=\"color: #008000; text-decoration-color: #008000\">       H3       </span>│<span style=\"color: #af00d7; text-decoration-color: #af00d7\">          9          </span>│\n",
                            "│<span style=\"color: #0087ff; text-decoration-color: #0087ff\">                          </span>│<span style=\"color: #008000; text-decoration-color: #008000\">       H4       </span>│<span style=\"color: #af00d7; text-decoration-color: #af00d7\">         10          </span>│\n",
                            "│<span style=\"color: #0087ff; text-decoration-color: #0087ff\">                          </span>│<span style=\"color: #008000; text-decoration-color: #008000\">       H5       </span>│<span style=\"color: #af00d7; text-decoration-color: #af00d7\">         11          </span>│\n",
                            "│<span style=\"color: #0087ff; text-decoration-color: #0087ff\">                          </span>│<span style=\"color: #008000; text-decoration-color: #008000\">       H6       </span>│<span style=\"color: #af00d7; text-decoration-color: #af00d7\">         12          </span>│\n",
                            "│<span style=\"color: #0087ff; text-decoration-color: #0087ff\">                          </span>│<span style=\"color: #008000; text-decoration-color: #008000\">       H7       </span>│<span style=\"color: #af00d7; text-decoration-color: #af00d7\">         13          </span>│\n",
                            "│<span style=\"color: #0087ff; text-decoration-color: #0087ff\">                          </span>│<span style=\"color: #008000; text-decoration-color: #008000\">                </span>│<span style=\"color: #af00d7; text-decoration-color: #af00d7\">                     </span>│\n",
                            "└──────────────────────────┴────────────────┴─────────────────────┘\n",
                            "</pre>\n"
                        ],
                        "text/plain": [
                            "\u001b[3m               extra_categorical_covs State Registry               \u001b[0m\n",
                            "┏━━━━━━━━━━━━━━━━━━━━━━━━━━┳━━━━━━━━━━━━━━━━┳━━━━━━━━━━━━━━━━━━━━━┓\n",
                            "┃\u001b[1m \u001b[0m\u001b[1m    Source Location     \u001b[0m\u001b[1m \u001b[0m┃\u001b[1m \u001b[0m\u001b[1m  Categories  \u001b[0m\u001b[1m \u001b[0m┃\u001b[1m \u001b[0m\u001b[1mscvi-tools Encoding\u001b[0m\u001b[1m \u001b[0m┃\n",
                            "┡━━━━━━━━━━━━━━━━━━━━━━━━━━╇━━━━━━━━━━━━━━━━╇━━━━━━━━━━━━━━━━━━━━━┩\n",
                            "│\u001b[38;5;33m \u001b[0m\u001b[38;5;33madata.obs['cell_source']\u001b[0m\u001b[38;5;33m \u001b[0m│\u001b[32m \u001b[0m\u001b[32mHarvard-Nuclei\u001b[0m\u001b[32m \u001b[0m│\u001b[38;5;128m \u001b[0m\u001b[38;5;128m         0         \u001b[0m\u001b[38;5;128m \u001b[0m│\n",
                            "│\u001b[38;5;33m \u001b[0m\u001b[38;5;33m                        \u001b[0m\u001b[38;5;33m \u001b[0m│\u001b[32m \u001b[0m\u001b[32m Sanger-CD45  \u001b[0m\u001b[32m \u001b[0m│\u001b[38;5;128m \u001b[0m\u001b[38;5;128m         1         \u001b[0m\u001b[38;5;128m \u001b[0m│\n",
                            "│\u001b[38;5;33m \u001b[0m\u001b[38;5;33m                        \u001b[0m\u001b[38;5;33m \u001b[0m│\u001b[32m \u001b[0m\u001b[32m Sanger-Cells \u001b[0m\u001b[32m \u001b[0m│\u001b[38;5;128m \u001b[0m\u001b[38;5;128m         2         \u001b[0m\u001b[38;5;128m \u001b[0m│\n",
                            "│\u001b[38;5;33m \u001b[0m\u001b[38;5;33m                        \u001b[0m\u001b[38;5;33m \u001b[0m│\u001b[32m \u001b[0m\u001b[32mSanger-Nuclei \u001b[0m\u001b[32m \u001b[0m│\u001b[38;5;128m \u001b[0m\u001b[38;5;128m         3         \u001b[0m\u001b[38;5;128m \u001b[0m│\n",
                            "│\u001b[38;5;33m \u001b[0m\u001b[38;5;33m                        \u001b[0m\u001b[38;5;33m \u001b[0m│\u001b[32m \u001b[0m\u001b[32m              \u001b[0m\u001b[32m \u001b[0m│\u001b[38;5;128m \u001b[0m\u001b[38;5;128m                   \u001b[0m\u001b[38;5;128m \u001b[0m│\n",
                            "│\u001b[38;5;33m \u001b[0m\u001b[38;5;33m   adata.obs['donor']   \u001b[0m\u001b[38;5;33m \u001b[0m│\u001b[32m \u001b[0m\u001b[32m      D1      \u001b[0m\u001b[32m \u001b[0m│\u001b[38;5;128m \u001b[0m\u001b[38;5;128m         0         \u001b[0m\u001b[38;5;128m \u001b[0m│\n",
                            "│\u001b[38;5;33m \u001b[0m\u001b[38;5;33m                        \u001b[0m\u001b[38;5;33m \u001b[0m│\u001b[32m \u001b[0m\u001b[32m      D2      \u001b[0m\u001b[32m \u001b[0m│\u001b[38;5;128m \u001b[0m\u001b[38;5;128m         1         \u001b[0m\u001b[38;5;128m \u001b[0m│\n",
                            "│\u001b[38;5;33m \u001b[0m\u001b[38;5;33m                        \u001b[0m\u001b[38;5;33m \u001b[0m│\u001b[32m \u001b[0m\u001b[32m      D3      \u001b[0m\u001b[32m \u001b[0m│\u001b[38;5;128m \u001b[0m\u001b[38;5;128m         2         \u001b[0m\u001b[38;5;128m \u001b[0m│\n",
                            "│\u001b[38;5;33m \u001b[0m\u001b[38;5;33m                        \u001b[0m\u001b[38;5;33m \u001b[0m│\u001b[32m \u001b[0m\u001b[32m      D4      \u001b[0m\u001b[32m \u001b[0m│\u001b[38;5;128m \u001b[0m\u001b[38;5;128m         3         \u001b[0m\u001b[38;5;128m \u001b[0m│\n",
                            "│\u001b[38;5;33m \u001b[0m\u001b[38;5;33m                        \u001b[0m\u001b[38;5;33m \u001b[0m│\u001b[32m \u001b[0m\u001b[32m      D5      \u001b[0m\u001b[32m \u001b[0m│\u001b[38;5;128m \u001b[0m\u001b[38;5;128m         4         \u001b[0m\u001b[38;5;128m \u001b[0m│\n",
                            "│\u001b[38;5;33m \u001b[0m\u001b[38;5;33m                        \u001b[0m\u001b[38;5;33m \u001b[0m│\u001b[32m \u001b[0m\u001b[32m      D6      \u001b[0m\u001b[32m \u001b[0m│\u001b[38;5;128m \u001b[0m\u001b[38;5;128m         5         \u001b[0m\u001b[38;5;128m \u001b[0m│\n",
                            "│\u001b[38;5;33m \u001b[0m\u001b[38;5;33m                        \u001b[0m\u001b[38;5;33m \u001b[0m│\u001b[32m \u001b[0m\u001b[32m      D7      \u001b[0m\u001b[32m \u001b[0m│\u001b[38;5;128m \u001b[0m\u001b[38;5;128m         6         \u001b[0m\u001b[38;5;128m \u001b[0m│\n",
                            "│\u001b[38;5;33m \u001b[0m\u001b[38;5;33m                        \u001b[0m\u001b[38;5;33m \u001b[0m│\u001b[32m \u001b[0m\u001b[32m     D11      \u001b[0m\u001b[32m \u001b[0m│\u001b[38;5;128m \u001b[0m\u001b[38;5;128m         7         \u001b[0m\u001b[38;5;128m \u001b[0m│\n",
                            "│\u001b[38;5;33m \u001b[0m\u001b[38;5;33m                        \u001b[0m\u001b[38;5;33m \u001b[0m│\u001b[32m \u001b[0m\u001b[32m      H2      \u001b[0m\u001b[32m \u001b[0m│\u001b[38;5;128m \u001b[0m\u001b[38;5;128m         8         \u001b[0m\u001b[38;5;128m \u001b[0m│\n",
                            "│\u001b[38;5;33m \u001b[0m\u001b[38;5;33m                        \u001b[0m\u001b[38;5;33m \u001b[0m│\u001b[32m \u001b[0m\u001b[32m      H3      \u001b[0m\u001b[32m \u001b[0m│\u001b[38;5;128m \u001b[0m\u001b[38;5;128m         9         \u001b[0m\u001b[38;5;128m \u001b[0m│\n",
                            "│\u001b[38;5;33m \u001b[0m\u001b[38;5;33m                        \u001b[0m\u001b[38;5;33m \u001b[0m│\u001b[32m \u001b[0m\u001b[32m      H4      \u001b[0m\u001b[32m \u001b[0m│\u001b[38;5;128m \u001b[0m\u001b[38;5;128m        10         \u001b[0m\u001b[38;5;128m \u001b[0m│\n",
                            "│\u001b[38;5;33m \u001b[0m\u001b[38;5;33m                        \u001b[0m\u001b[38;5;33m \u001b[0m│\u001b[32m \u001b[0m\u001b[32m      H5      \u001b[0m\u001b[32m \u001b[0m│\u001b[38;5;128m \u001b[0m\u001b[38;5;128m        11         \u001b[0m\u001b[38;5;128m \u001b[0m│\n",
                            "│\u001b[38;5;33m \u001b[0m\u001b[38;5;33m                        \u001b[0m\u001b[38;5;33m \u001b[0m│\u001b[32m \u001b[0m\u001b[32m      H6      \u001b[0m\u001b[32m \u001b[0m│\u001b[38;5;128m \u001b[0m\u001b[38;5;128m        12         \u001b[0m\u001b[38;5;128m \u001b[0m│\n",
                            "│\u001b[38;5;33m \u001b[0m\u001b[38;5;33m                        \u001b[0m\u001b[38;5;33m \u001b[0m│\u001b[32m \u001b[0m\u001b[32m      H7      \u001b[0m\u001b[32m \u001b[0m│\u001b[38;5;128m \u001b[0m\u001b[38;5;128m        13         \u001b[0m\u001b[38;5;128m \u001b[0m│\n",
                            "│\u001b[38;5;33m \u001b[0m\u001b[38;5;33m                        \u001b[0m\u001b[38;5;33m \u001b[0m│\u001b[32m \u001b[0m\u001b[32m              \u001b[0m\u001b[32m \u001b[0m│\u001b[38;5;128m \u001b[0m\u001b[38;5;128m                   \u001b[0m\u001b[38;5;128m \u001b[0m│\n",
                            "└──────────────────────────┴────────────────┴─────────────────────┘\n"
                        ]
                    },
                    "metadata": {},
                    "output_type": "display_data"
                },
                {
                    "data": {
                        "text/html": [
                            "<pre style=\"white-space:pre;overflow-x:auto;line-height:normal;font-family:Menlo,'DejaVu Sans Mono',consolas,'Courier New',monospace\"><span style=\"font-style: italic\"> extra_continuous_covs State </span>\n",
                            "<span style=\"font-style: italic\">          Registry           </span>\n",
                            "┏━━━━━━━━━━━━━━━━━━━━━━━━━━━┓\n",
                            "┃<span style=\"font-weight: bold\">      Source Location      </span>┃\n",
                            "┡━━━━━━━━━━━━━━━━━━━━━━━━━━━┩\n",
                            "│<span style=\"color: #0087ff; text-decoration-color: #0087ff\"> adata.obs['percent_mito'] </span>│\n",
                            "│<span style=\"color: #0087ff; text-decoration-color: #0087ff\"> adata.obs['percent_ribo'] </span>│\n",
                            "└───────────────────────────┘\n",
                            "</pre>\n"
                        ],
                        "text/plain": [
                            "\u001b[3m extra_continuous_covs State \u001b[0m\n",
                            "\u001b[3m          Registry           \u001b[0m\n",
                            "┏━━━━━━━━━━━━━━━━━━━━━━━━━━━┓\n",
                            "┃\u001b[1m \u001b[0m\u001b[1m     Source Location     \u001b[0m\u001b[1m \u001b[0m┃\n",
                            "┡━━━━━━━━━━━━━━━━━━━━━━━━━━━┩\n",
                            "│\u001b[38;5;33m \u001b[0m\u001b[38;5;33madata.obs['percent_mito']\u001b[0m\u001b[38;5;33m \u001b[0m│\n",
                            "│\u001b[38;5;33m \u001b[0m\u001b[38;5;33madata.obs['percent_ribo']\u001b[0m\u001b[38;5;33m \u001b[0m│\n",
                            "└───────────────────────────┘\n"
                        ]
                    },
                    "metadata": {},
                    "output_type": "display_data"
                }
            ],
            "source": [
                "model = scvi.model.SCVI(adata)\n",
                "\n",
                "model.view_anndata_setup()"
            ]
        },
        {
            "cell_type": "code",
            "execution_count": 9,
            "metadata": {},
            "outputs": [
                {
                    "name": "stderr",
                    "output_type": "stream",
                    "text": [
                        "GPU available: True (cuda), used: True\n",
                        "TPU available: False, using: 0 TPU cores\n",
                        "IPU available: False, using: 0 IPUs\n",
                        "HPU available: False, using: 0 HPUs\n",
                        "LOCAL_RANK: 0 - CUDA_VISIBLE_DEVICES: [0]\n"
                    ]
                },
                {
                    "name": "stdout",
                    "output_type": "stream",
                    "text": [
                        "Epoch 400/400: 100%|██████████| 400/400 [09:02<00:00,  1.35s/it, v_num=1, train_loss_step=409, train_loss_epoch=284]"
                    ]
                },
                {
                    "name": "stderr",
                    "output_type": "stream",
                    "text": [
                        "`Trainer.fit` stopped: `max_epochs=400` reached.\n"
                    ]
                },
                {
                    "name": "stdout",
                    "output_type": "stream",
                    "text": [
                        "Epoch 400/400: 100%|██████████| 400/400 [09:02<00:00,  1.36s/it, v_num=1, train_loss_step=409, train_loss_epoch=284]\n"
                    ]
                }
            ],
            "source": [
                "model.train(max_epochs=400)"
            ]
        },
        {
            "cell_type": "markdown",
            "metadata": {},
            "source": [
                "Plot losses"
            ]
        },
        {
            "cell_type": "code",
            "execution_count": 10,
            "metadata": {},
            "outputs": [
                {
                    "data": {
                        "text/plain": [
                            "[<matplotlib.lines.Line2D at 0x7f526c05b8b0>]"
                        ]
                    },
                    "execution_count": 10,
                    "metadata": {},
                    "output_type": "execute_result"
                },
                {
                    "data": {
                        "image/png": "[encoded data removed]",
                        "text/plain": [
                            "<Figure size 320x320 with 1 Axes>"
                        ]
                    },
                    "metadata": {
                        "image/png": {
                            "height": 282,
                            "width": 307
                        }
                    },
                    "output_type": "display_data"
                }
            ],
            "source": [
                "plt.plot(model.history[\"elbo_train\"])\n",
                "plt.plot(model.history[\"reconstruction_loss_train\"])"
            ]
        },
        {
            "cell_type": "markdown",
            "metadata": {},
            "source": [
                "Save model and anndata"
            ]
        },
        {
            "cell_type": "code",
            "execution_count": 6,
            "metadata": {},
            "outputs": [],
            "source": [
                "# model.save(\"dirpath/\")\n",
                "# adata.write(\"dirpath/filename.h5ad\")"
            ]
        },
        {
            "attachments": {},
            "cell_type": "markdown",
            "metadata": {
                "id": "d-6R1KcrlsXD"
            },
            "source": [
                "```{important}\n",
                "All scvi-tools models run faster when using a GPU. By default, scvi-tools will use a GPU if one is found to be available. Please see the installation page for more information about installing scvi-tools when a GPU is available.\n",
                "```"
            ]
        },
        {
            "cell_type": "markdown",
            "metadata": {},
            "source": [
                "# 2. Visualizations "
            ]
        },
        {
            "cell_type": "markdown",
            "metadata": {
                "id": "iVy8Eo1-Z0be"
            },
            "source": [
                "#### Latent space"
            ]
        },
        {
            "cell_type": "code",
            "execution_count": 11,
            "metadata": {
                "id": "R4FwiBpUtQJa"
            },
            "outputs": [
                {
                    "data": {
                        "text/plain": [
                            "(18641, 10)"
                        ]
                    },
                    "execution_count": 11,
                    "metadata": {},
                    "output_type": "execute_result"
                }
            ],
            "source": [
                "# Regular scVI\n",
                "latent = model.get_latent_representation()\n",
                "adata.obsm[\"X_scVI\"] = latent\n",
                "\n",
                "latent.shape"
            ]
        },
        {
            "cell_type": "markdown",
            "metadata": {},
            "source": [
                "### 2D Embedding plots"
            ]
        },
        {
            "cell_type": "markdown",
            "metadata": {},
            "source": [
                "UMAP on PCA (Without scVI - no batch correction)"
            ]
        },
        {
            "cell_type": "code",
            "execution_count": 12,
            "metadata": {},
            "outputs": [],
            "source": [
                "# run PCA then generate UMAP plots\n",
                "sc.tl.pca(adata)\n",
                "sc.pp.neighbors(adata, n_pcs=30, n_neighbors=20)\n",
                "sc.tl.umap(adata, min_dist=0.3)"
            ]
        },
        {
            "cell_type": "code",
            "execution_count": null,
            "metadata": {},
            "outputs": [],
            "source": [
                "sc.pl.umap(\n",
                "    adata,\n",
                "    color=[\"cell_type\"],\n",
                "    frameon=False,\n",
                ")\n",
                "sc.pl.umap(\n",
                "    adata,\n",
                "    color=[\"donor\", \"cell_source\"],\n",
                "    ncols=2,\n",
                "    frameon=False,\n",
                ")"
            ]
        },
        {
            "cell_type": "markdown",
            "metadata": {},
            "source": [
                "UMAP on scVI latent spae"
            ]
        },
        {
            "cell_type": "code",
            "execution_count": 9,
            "metadata": {},
            "outputs": [],
            "source": [
                "# run PCA then generate UMAP plots\n",
                "sc.pp.neighbors(adata, use_rep=\"X_scVI\")\n",
                "sc.tl.umap(adata, min_dist=0.3)"
            ]
        },
        {
            "cell_type": "code",
            "execution_count": null,
            "metadata": {},
            "outputs": [],
            "source": [
                "sc.pl.umap(\n",
                "    adata,\n",
                "    color=[\"cell_types_grouped\", \"cell_type\"],\n",
                "    frameon=False,\n",
                ")\n",
                "sc.pl.umap(\n",
                "    adata,\n",
                "    color=[\"donor_id\", \"assay\"],\n",
                "    ncols=2,\n",
                "    frameon=False,\n",
                ")"
            ]
        },
        {
            "cell_type": "markdown",
            "metadata": {
                "id": "merbABa3u8rg"
            },
            "source": [
                "The `model.get...()` functions default to using the anndata that was used to initialize the model. It's possible to also query a subset of the anndata, or even use a completely independent anndata object as long as the anndata is organized in an equivalent fashion.\n",
                "\n",
                "We will use it to compute the **mean gene expression vector for each cell type present in the dataset** ."
            ]
        },
        {
            "cell_type": "markdown",
            "metadata": {},
            "source": [
                "# 3. Linearity sanity checks"
            ]
        },
        {
            "cell_type": "markdown",
            "metadata": {},
            "source": [
                "### scVI latent space linearity hypothesis"
            ]
        },
        {
            "cell_type": "code",
            "execution_count": 12,
            "metadata": {},
            "outputs": [
                {
                    "data": {
                        "text/plain": [
                            "cell_type\n",
                            "Ventricular_Cardiomyocyte    0.284695\n",
                            "Endothelial                  0.220428\n",
                            "Pericytes                    0.171879\n",
                            "Fibroblast                   0.131216\n",
                            "Atrial_Cardiomyocyte         0.054128\n",
                            "Myeloid                      0.051338\n",
                            "Lymphoid                     0.035030\n",
                            "Smooth_muscle_cells          0.034387\n",
                            "Neuronal                     0.008208\n",
                            "Adipocytes                   0.007779\n",
                            "Mesothelial                  0.000912\n",
                            "Name: proportion, dtype: float64"
                        ]
                    },
                    "execution_count": 12,
                    "metadata": {},
                    "output_type": "execute_result"
                }
            ],
            "source": [
                "adata.obs[\"cell_type\"].value_counts(normalize=True)"
            ]
        },
        {
            "cell_type": "code",
            "execution_count": 45,
            "metadata": {},
            "outputs": [
                {
                    "name": "stderr",
                    "output_type": "stream",
                    "text": [
                        "100%|██████████| 9/9 [00:10<00:00,  1.15s/it]\n"
                    ]
                }
            ],
            "source": [
                "import random\n",
                "from scipy.stats import pearsonr\n",
                "import numpy as np\n",
                "import tqdm\n",
                "\n",
                "N = 10\n",
                "\n",
                "# Define the number of cells you want to sample\n",
                "\n",
                "batch_size = [32, 64, 128, 256, 512, 1024, 2048, 4096, 8192] \n",
                "\n",
                "metrics = {\"corr\": [], \"CE\": [], \"MSE\": []}\n",
                "errors = {\"corr\": [], \"CE\": [], \"MSE\": []}\n",
                "\n",
                "for n in tqdm.tqdm(batch_size):\n",
                "    current_metrics = {\"corr\": [], \"CE\": [], \"MSE\": []}\n",
                "    for i in range(N):\n",
                "        # Calculate the number of cells to sample from each cell type proportionally\n",
                "        sampled_cells_per_type = adata.obs['cell_type'].value_counts(normalize=True) * n\n",
                "        sampled_cells_per_type = sampled_cells_per_type.astype(int)\n",
                "\n",
                "        # Perform stratified sampling for each cell type\n",
                "        sampled_cells = []\n",
                "        for cell_type, num_cells in sampled_cells_per_type.items():\n",
                "            seed = random.seed()\n",
                "            sampled_cells.extend(adata.obs[adata.obs['cell_type'] == cell_type].sample(n=num_cells,\n",
                "                                                                                    random_state=42).index)\n",
                "\n",
                "        # print(sampled_cells)\n",
                "        # Select the sampled cells from the DataFrame\n",
                "        adata_sampled = adata[sampled_cells]\n",
                "\n",
                "        # embeddings of single-cells\n",
                "        # latent_sampled = model.get_latent_representation(adata)\n",
                "        latent_sampled = model.module.z_encoder(torch.from_numpy(adata.layers[\"counts\"].toarray()).to(\"cuda:0\"))[1]\n",
                "        latent_sampled = latent_sampled.detach().cpu().numpy()      \n",
                "        mean_sampled_z = latent_sampled.mean(axis=0)\n",
                "        if np.isinf(mean_sampled_z).any():\n",
                "            # Calculate the mean of non-infinite values\n",
                "            finite_values = mean_sampled_z[np.isfinite(mean_sampled_z)]\n",
                "            mean_of_finite = np.mean(finite_values)\n",
                "            # Replace infinite values with the mean of finite values\n",
                "            mean_sampled_z[np.isinf(mean_sampled_z)] = mean_of_finite\n",
                "\n",
                "        # pseudo-bulk embedding\n",
                "        pseudobulk_x = adata.layers[\"counts\"].mean(axis=0) #.astype(int).astype(numpy.float32)\n",
                "        pseudobulk_z = model.module.z_encoder(torch.from_numpy(pseudobulk_x).to(\"cuda:0\"))[1]\n",
                "        pseudobulk_z = pseudobulk_z.detach().cpu().numpy().flatten()\n",
                "        \n",
                "        # Compute correlation\n",
                "        pearson_corr = pearsonr(mean_sampled_z, pseudobulk_z)\n",
                "        current_metrics[\"corr\"].append(pearson_corr[0])\n",
                "        \n",
                "        # CE\n",
                "        # MSE\n",
                "    metrics[\"corr\"].append(np.mean(current_metrics[\"corr\"]))\n",
                "    errors[\"corr\"].append(np.var(current_metrics[\"corr\"]))"
            ]
        },
        {
            "cell_type": "code",
            "execution_count": 42,
            "metadata": {},
            "outputs": [
                {
                    "data": {
                        "text/plain": [
                            "array([ 4.0032550e+12, -3.5274432e+00, -6.3126750e+12,  2.8894829e+08,\n",
                            "                  inf, -5.5785730e+10,  8.1414208e+07,  5.7245569e+05,\n",
                            "        5.6759462e+05,  1.2209506e+06], dtype=float32)"
                        ]
                    },
                    "execution_count": 42,
                    "metadata": {},
                    "output_type": "execute_result"
                }
            ],
            "source": [
                "mean_sampled_z"
            ]
        },
        {
            "cell_type": "code",
            "execution_count": 46,
            "metadata": {},
            "outputs": [
                {
                    "name": "stderr",
                    "output_type": "stream",
                    "text": [
                        "/tmp/ipykernel_13844/2810115578.py:3: UserWarning: linestyle is redundantly defined by the 'linestyle' keyword argument and the fmt string \"o-\" (-> linestyle='-'). The keyword argument will take precedence.\n",
                        "  plt.errorbar(batch_size,\n",
                        "/tmp/ipykernel_13844/2810115578.py:3: UserWarning: marker is redundantly defined by the 'marker' keyword argument and the fmt string \"o-\" (-> marker='o'). The keyword argument will take precedence.\n",
                        "  plt.errorbar(batch_size,\n"
                    ]
                },
                {
                    "data": {
                        "text/plain": [
                            "Text(0.5, 1.0, 'Sanity check 0: correlation between sum(encodings)~=encoder(pseudo-bulk)')"
                        ]
                    },
                    "execution_count": 46,
                    "metadata": {},
                    "output_type": "execute_result"
                },
                {
                    "data": {
                        "image/png": "[encoded data removed]",
                        "text/plain": [
                            "<Figure size 1200x320 with 1 Axes>"
                        ]
                    },
                    "metadata": {
                        "image/png": {
                            "height": 318,
                            "width": 1016
                        }
                    },
                    "output_type": "display_data"
                }
            ],
            "source": [
                "fig, ax = plt.subplots(1, 1, figsize=(15, 4))\n",
                "\n",
                "plt.errorbar(batch_size,\n",
                "         metrics[\"corr\"],\n",
                "         yerr=errors[\"corr\"],\n",
                "         fmt='o-',\n",
                "         capsize=5,\n",
                "         color=\"green\",\n",
                "         linestyle=\"--\", marker=\"+\")\n",
                "plt.xlabel(\"Batch size\")\n",
                "plt.ylabel(\"Pearson correaltion\")\n",
                "plt.xticks(batch_size)\n",
                "plt.title(\"Sanity check 0: correlation between sum(encodings)~=encoder(pseudo-bulk)\")"
            ]
        },
        {
            "cell_type": "markdown",
            "metadata": {},
            "source": [
                "# [skip] For signature matrix"
            ]
        },
        {
            "cell_type": "code",
            "execution_count": null,
            "metadata": {},
            "outputs": [],
            "source": [
                "# marker_genes = {\"Endothelial\": [\"EGFL7\", \"VWF\", \"SLC9A3R2\"],\n",
                "#                 \"Neuronal\": [\"NRXN1\", \"GPM6B\", \"L1CAM\"],\n",
                "#                 \"Atrial_Cardiomyocyte\": [\"SYNPR\", \"MYL7\", \"KCNJ3\"],\n",
                "#                 \"Mesothelial\": [\"KRT19\", \"PRG4\", \"UPK3B\"], \n",
                "#                 \"Ventricular_Cardiomyocyte\": [\"C15orf41\", \"GALTN17\", \"FYB2\"],\n",
                "#                 \"Lymphoid\" : [\"IL7R\", \"CD2\", \"GZMA\"],\n",
                "#                 \"Myeloid\": [\"MS4A6A\", \"SPI1\", \"MS4A6A\"],\n",
                "#                 \"Pericytes\": [\"HIGD1B\", \"RGS5\", \"NOTCH3\"],\n",
                "#                 \"Smooth_muscle_cells\": [\"WFDC1\", \"MYH11\", \"ACTG2\"],\n",
                "#                 \"Adipocytes\": [\"CIDEC\", \"ADIPOQ\", \"GPAM\"],\n",
                "#                 \"Fibroblast\": [\"CDH19\", \"MGST1\", \"FBN1\"]\n",
                "#                 }\n",
                "\n",
                "# cell_types = list(marker_genes.keys())\n",
                "\n",
                "# h = 0\n",
                "# n_rows = 3\n",
                "# n_cols = 4\n",
                "\n",
                "# fig, ax = plt.subplots(n_rows, n_cols, figsize=(24, 20))\n",
                "\n",
                "# for i in range(n_rows):\n",
                "#     for j in range(n_cols):\n",
                "#         h += 1\n",
                "#         if h == len(marker_genes):\n",
                "#             break\n",
                "#         cell_type = cell_types[h]\n",
                "#         x_raw = df_signature[cell_type].values\n",
                "#         x_denoised = df_signature_denoised[cell_type].values\n",
                "#         # keep_genes = pd.Index(list(set(marker_genes[cell_type]) & set(adata.var_names)))\n",
                "#         # x_raw = df_signature.loc[keep_genes][cell_type].values\n",
                "#         # x_denoised = df_signature_denoised.loc[keep_genes][cell_type].values\n",
                "#         corr = spearmanr(x_raw, x_denoised)[0]\n",
                "        \n",
                "#         sns.scatterplot(x=x_raw,\n",
                "#                         y=x_denoised,\n",
                "#                         ax=ax[i][j]\n",
                "#                         )\n",
                "#         ax[i][j].set_xlabel(f\"Denoised average ({cell_type})\")\n",
                "#         ax[i][j].set_ylabel(f\"Raw average ({cell_type})\")\n",
                "#         ax[i][j].set_title(f\"Correlation {corr}\")\n",
                "        \n"
            ]
        }
    ],
    "metadata": {
        "accelerator": "GPU",
        "colab": {
            "collapsed_sections": [],
            "name": "api_overview.ipynb",
            "provenance": []
        },
        "kernelspec": {
            "display_name": "Python 3.9.17 ('scvi': conda)",
            "language": "python",
            "name": "python3"
        },
        "language_info": {
            "codemirror_mode": {
                "name": "ipython",
                "version": 3
            },
            "file_extension": ".py",
            "mimetype": "text/x-python",
            "name": "python",
            "nbconvert_exporter": "python",
            "pygments_lexer": "ipython3",
            "version": "3.9.17"
        },
        "pycharm": {
            "stem_cell": {
                "cell_type": "raw",
                "metadata": {
                    "collapsed": false
                },
                "source": []
            }
        },
        "toc": {
            "base_numbering": 1,
            "nav_menu": {},
            "number_sections": true,
            "sideBar": true,
            "skip_h1_title": false,
            "title_cell": "Table of Contents",
            "title_sidebar": "Contents",
            "toc_cell": false,
            "toc_position": {},
            "toc_section_display": true,
            "toc_window_display": false
        },
        "vscode": {
            "interpreter": {
                "hash": "68b762d37d26fc319ab5bf0bed8501b1b574f0c5488b9b405441cf6bff8c3d86"
            }
        }
    },
    "nbformat": 4,
    "nbformat_minor": 0
}
