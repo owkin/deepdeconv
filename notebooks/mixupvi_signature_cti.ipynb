{
    "cells": [
        {
            "cell_type": "markdown",
            "metadata": {
                "id": "y4nH3q_rZ0bI"
            },
            "source": [
                "# **MixupVI**"
            ]
        },
        {
            "cell_type": "markdown",
            "metadata": {},
            "source": [
                "#### Standard imports"
            ]
        },
        {
            "cell_type": "code",
            "execution_count": 1,
            "metadata": {
                "colab": {
                    "base_uri": "https://localhost:8080/"
                },
                "id": "fKv83AN6hcWO",
                "outputId": "b3a5ee4e-c713-4ad7-a87e-832102335655"
            },
            "outputs": [
                {
                    "name": "stderr",
                    "output_type": "stream",
                    "text": [
                        "/home/owkin/deepdeconv/scvi/_settings.py:63: UserWarning: Since v1.0.0, scvi-tools no longer uses a random seed by default. Run `scvi.settings.seed = 0` to reproduce results from previous versions.\n",
                        "  self.seed = seed\n",
                        "/home/owkin/deepdeconv/scvi/_settings.py:70: UserWarning: Setting `dl_pin_memory_gpu_training` is deprecated in v1.0 and will be removed in v1.1. Please pass in `pin_memory` to the data loaders instead.\n",
                        "  self.dl_pin_memory_gpu_training = (\n",
                        "/home/owkin/.conda/envs/scvi/lib/python3.9/site-packages/tqdm/auto.py:21: TqdmWarning: IProgress not found. Please update jupyter and ipywidgets. See https://ipywidgets.readthedocs.io/en/stable/user_install.html\n",
                        "  from .autonotebook import tqdm as notebook_tqdm\n"
                    ]
                }
            ],
            "source": [
                "import scanpy as sc\n",
                "import scvi\n",
                "import anndata as ad\n",
                "import pandas as pd\n",
                "import matplotlib.pyplot as plt\n",
                "\n",
                "sc.set_figure_params(figsize=(4, 4))\n",
                "\n",
                "# for white background of figures (only for docs rendering)\n",
                "%config InlineBackend.print_figure_kwargs={'facecolor' : \"w\"}\n",
                "%config InlineBackend.figure_format='retina'"
            ]
        },
        {
            "cell_type": "markdown",
            "metadata": {},
            "source": [
                "# 1. Data preparation and model training (If model and data already saved, SKIP!!)"
            ]
        },
        {
            "cell_type": "markdown",
            "metadata": {
                "id": "oPGuX2wPZ0bS"
            },
            "source": [
                "## 1.1 Loading and preparing data \n",
                "\n",
                "#### Cross-tissue immune cell analysis reveals tissue-specific features in humans - Global\n",
                "\n",
                "Despite their crucial role in health and disease, our knowledge of immune cells within human tissues remains limited. We surveyed the immune compartment of 16 tissues from 12 adult donors by single-cell RNA sequencing and VDJ sequencing generating a dataset of ~360,000 cells. To systematically resolve immune cell heterogeneity across tissues, we developed CellTypist, a machine learning tool for rapid and precise cell type annotation. Using this approach, combined with detailed curation, we determined the tissue distribution of finely phenotyped immune cell types, revealing hitherto unappreciated tissue-specific features and clonal architecture of T and B cells. Our multitissue approach lays the foundation for identifying highly resolved immune cell types by leveraging a common reference dataset, tissue-integrated expression analysis, and antigen receptor sequencing."
            ]
        },
        {
            "attachments": {},
            "cell_type": "markdown",
            "metadata": {
                "id": "CKEgQJG3mVJh"
            },
            "source": [
                "```{important}\n",
                "All scvi-tools models require AnnData objects as input.\n",
                "```"
            ]
        },
        {
            "cell_type": "code",
            "execution_count": 2,
            "metadata": {},
            "outputs": [],
            "source": [
                "from benchmark_utils import (\n",
                "  preprocess_scrna,\n",
                "  split_dataset\n",
                ")"
            ]
        },
        {
            "cell_type": "code",
            "execution_count": 4,
            "metadata": {},
            "outputs": [],
            "source": [
                "SIGNATURE_CHOICE = \"crosstissue_general_updated\"  # [\"laughney\", \"almudena\", \"crosstissue_general\", \"crosstissue_granular_updated\"]\n",
                "CELL_TYPE_GROUP = \"updated_granular_groups\" "
            ]
        },
        {
            "cell_type": "code",
            "execution_count": 5,
            "metadata": {
                "colab": {
                    "base_uri": "https://localhost:8080/"
                },
                "id": "HZPOlSs2nAez",
                "outputId": "ecae5cda-3e44-4f91-e945-51a4f148c90d"
            },
            "outputs": [],
            "source": [
                "## CTI \n",
                "adata = sc.read(\"/home/owkin/data/cross-tissue/omics/raw/local.h5ad\")"
            ]
        },
        {
            "cell_type": "code",
            "execution_count": 6,
            "metadata": {},
            "outputs": [
                {
                    "name": "stderr",
                    "output_type": "stream",
                    "text": [
                        "/home/owkin/.conda/envs/scvi/lib/python3.9/site-packages/scanpy/preprocessing/_highly_variable_genes.py:62: UserWarning: `flavor='seurat_v3'` expects raw count data, but non-integers were found.\n",
                        "  warnings.warn(\n"
                    ]
                }
            ],
            "source": [
                "preprocess_scrna(adata=adata,\n",
                "                 keep_genes=2500,\n",
                "                 batch_key=\"assay\")"
            ]
        },
        {
            "cell_type": "markdown",
            "metadata": {},
            "source": [
                "### Batch effects exploration"
            ]
        },
        {
            "cell_type": "code",
            "execution_count": 7,
            "metadata": {},
            "outputs": [
                {
                    "ename": "",
                    "evalue": "",
                    "output_type": "error",
                    "traceback": [
                        "\u001b[1;31mLe Kernel s’est bloqué lors de l’exécution du code dans la cellule active ou une cellule précédente. Veuillez vérifier le code dans la ou les cellules pour identifier une cause possible de l’échec. Cliquez <a href='https://aka.ms/vscodeJupyterKernelCrash'>ici</a> pour plus d’informations. Pour plus d’informations, consultez Jupyter <a href='command:jupyter.viewOutput'>log</a>."
                    ]
                }
            ],
            "source": [
                "# PCA\n",
                "sc.pp.scale(adata, max_value=10)\n",
                "sc.tl.pca(adata, svd_solver='arpack')"
            ]
        },
        {
            "cell_type": "code",
            "execution_count": null,
            "metadata": {},
            "outputs": [],
            "source": [
                "# UMAP\n",
                "sc.tl.umap(adata)"
            ]
        },
        {
            "cell_type": "code",
            "execution_count": null,
            "metadata": {},
            "outputs": [],
            "source": [
                "adata.layers[\"counts\"] = adata.raw.X.copy() \n",
                "# copy counts\n",
                "adata.X = adata.raw.X.copy()\n",
                "\n",
                "adata.X.shape, adata.raw.X.shape, adata.layers[\"counts\"].shape"
            ]
        },
        {
            "cell_type": "markdown",
            "metadata": {},
            "source": [
                "#### Signature"
            ]
        },
        {
            "cell_type": "code",
            "execution_count": null,
            "metadata": {},
            "outputs": [],
            "source": [
                "from constants import GROUPS\n",
                "\n",
                "from benchmark_utils import (\n",
                "  read_almudena_signature,\n",
                "  map_hgnc_to_ensg,\n",
                "  perform_nnls,\n",
                "  compute_correlations,\n",
                "  create_signature,\n",
                "  add_cell_types_grouped,\n",
                ")"
            ]
        },
        {
            "cell_type": "code",
            "execution_count": null,
            "metadata": {},
            "outputs": [],
            "source": [
                "signature = create_signature(adata,\n",
                "                             signature_type=SIGNATURE_CHOICE,\n",
                "                             group=CELL_TYPE_GROUP)\n",
                "add_cell_types_grouped(adata)"
            ]
        },
        {
            "cell_type": "code",
            "execution_count": null,
            "metadata": {
                "id": "j8gBNU_7txZU"
            },
            "outputs": [],
            "source": [
                "sc.pp.highly_variable_genes(\n",
                "    adata,\n",
                "    n_top_genes=5000,\n",
                "    subset=True,\n",
                "    layer=\"counts\",\n",
                "    flavor=\"seurat_v3\",\n",
                "    batch_key=\"assay\",\n",
                ")"
            ]
        },
        {
            "cell_type": "markdown",
            "metadata": {},
            "source": [
                "Distribution of the batch ids"
            ]
        },
        {
            "cell_type": "code",
            "execution_count": null,
            "metadata": {},
            "outputs": [],
            "source": [
                "adata.obs[\"donor_id\"].value_counts(), adata.obs[\"assay\"].value_counts()"
            ]
        },
        {
            "cell_type": "markdown",
            "metadata": {},
            "source": [
                "scVI is inly trained on the set of most highly variable genes, therefore, some low variance genes that are present in the signature matrix might be filtered out"
            ]
        },
        {
            "cell_type": "code",
            "execution_count": null,
            "metadata": {},
            "outputs": [],
            "source": [
                "excluded_genes = set(signature.index) - set(adata.var_names)\n",
                "\n",
                "len(excluded_genes)"
            ]
        },
        {
            "cell_type": "markdown",
            "metadata": {
                "id": "RcUzIOGbrKMf"
            },
            "source": [
                "Now it's time to run `setup_anndata()`, which alerts scvi-tools to the locations of various matrices inside the anndata. It's important to run this function with the correct arguments so scvi-tools is notified that your dataset has batches, annotations, etc. For example, if batches are registered with scvi-tools, the subsequent model will correct for batch effects. See the full documentation for details.\n",
                "\n",
                "In this dataset, there is a \"cell_source\" categorical covariate, and within each \"cell_source\", multiple \"donors\", \"gender\" and \"age_group\". There are also two continuous covariates we'd like to correct for: \"percent_mito\" and \"percent_ribo\". These covariates can be registered using the `categorical_covariate_keys` argument. If you only have one categorical covariate, you can also use the `batch_key` argument instead."
            ]
        },
        {
            "cell_type": "code",
            "execution_count": null,
            "metadata": {
                "id": "d46OgftwrJhl"
            },
            "outputs": [],
            "source": [
                "scvi.model.SCVI.setup_anndata(\n",
                "    adata,\n",
                "    layer=\"counts\",\n",
                "    categorical_covariate_keys=[\"assay\", \"donor_id\"],\n",
                "    # continuous_covariate_keys=[\"percent_mito\", \"percent_ribo\"],\n",
                ")"
            ]
        },
        {
            "attachments": {},
            "cell_type": "markdown",
            "metadata": {
                "id": "RVHQRTbGowQC"
            },
            "source": [
                "```{warning}\n",
                "If the adata is modified after running `setup_anndata`, please run `setup_anndata` again, before creating an instance of a model.\n",
                "```"
            ]
        },
        {
            "cell_type": "markdown",
            "metadata": {
                "id": "RAWmYvjkZ0bW"
            },
            "source": [
                "## 1.2 Creating and training a model\n",
                "\n",
                "While we highlight the scVI model here, the API is consistent across all scvi-tools models and is inspired by that of [scikit-learn](https://scikit-learn.org/stable/). For a full list of options, see the scvi [documentation](https://scvi-tools.org)."
            ]
        },
        {
            "cell_type": "code",
            "execution_count": null,
            "metadata": {
                "id": "xPnlTctkZ0bX"
            },
            "outputs": [],
            "source": [
                "model = scvi.model.SCVI(adata)\n",
                "\n",
                "# model.view_anndata_setup()"
            ]
        },
        {
            "cell_type": "code",
            "execution_count": null,
            "metadata": {},
            "outputs": [],
            "source": [
                "model.train(max_epochs=100)"
            ]
        },
        {
            "cell_type": "markdown",
            "metadata": {},
            "source": [
                "Save model and anndata"
            ]
        },
        {
            "cell_type": "code",
            "execution_count": null,
            "metadata": {},
            "outputs": [],
            "source": [
                "# model.save(\"dirpath/\")\n",
                "# adata.write(\"dirpath/filename.h5ad\")"
            ]
        },
        {
            "attachments": {},
            "cell_type": "markdown",
            "metadata": {
                "id": "d-6R1KcrlsXD"
            },
            "source": [
                "```{important}\n",
                "All scvi-tools models run faster when using a GPU. By default, scvi-tools will use a GPU if one is found to be available. Please see the installation page for more information about installing scvi-tools when a GPU is available.\n",
                "```"
            ]
        },
        {
            "cell_type": "markdown",
            "metadata": {},
            "source": [
                "# 2. Load saved Model and Anndata object "
            ]
        },
        {
            "cell_type": "markdown",
            "metadata": {},
            "source": [
                "Load anndata"
            ]
        },
        {
            "cell_type": "code",
            "execution_count": null,
            "metadata": {},
            "outputs": [],
            "source": [
                "adata = ad.read_h5ad(\"/home/owkin/deepdeconv/notebooks/data/adata_cti_5000.h5ad\")\n",
                "\n",
                "adata"
            ]
        },
        {
            "cell_type": "code",
            "execution_count": null,
            "metadata": {},
            "outputs": [],
            "source": [
                "adata.obs._scvi_batch.value_counts()"
            ]
        },
        {
            "cell_type": "markdown",
            "metadata": {},
            "source": [
                "#### [Optional]: retrain a model"
            ]
        },
        {
            "cell_type": "code",
            "execution_count": null,
            "metadata": {},
            "outputs": [],
            "source": [
                "# train test split\n",
                "# from sklearn.model_selection import train_test_split\n",
                "\n",
                "# cell_types_train, cell_types_test = train_test_split(\n",
                "#     adata.obs_names,\n",
                "#     test_size=0.5,\n",
                "#     stratify=adata.obs.cell_types_grouped,\n",
                "#     random_state=42,\n",
                "# )\n",
                "# adata_train = adata[cell_types_train, :]\n",
                "# adata_test = adata[cell_types_test, :]"
            ]
        },
        {
            "cell_type": "code",
            "execution_count": null,
            "metadata": {},
            "outputs": [],
            "source": [
                "# adata_train = adata_train.copy()\n",
                "scvi.model.SCVI.setup_anndata(\n",
                "    adata,\n",
                "    layer=\"counts\",\n",
                "    categorical_covariate_keys=[\"assay\", \"donor_id\"],\n",
                "    # continuous_covariate_keys=[\"percent_mito\", \"percent_ribo\"],\n",
                ")\n",
                "model = scvi.model.SCVI(adata)\n",
                "model.train(max_epochs=300)\n",
                "model.save(\"models/cti_300_epochs/\")"
            ]
        },
        {
            "cell_type": "markdown",
            "metadata": {},
            "source": [
                "#### Load fitted models"
            ]
        },
        {
            "cell_type": "code",
            "execution_count": null,
            "metadata": {},
            "outputs": [],
            "source": [
                "import os\n",
                "\n",
                "dir_path = \"/home/owkin/deepdeconv/notebooks/models/\"\n",
                "params = [\"100\", \"200\", \"400\"]\n",
                "\n",
                "models = {}\n",
                "\n",
                "for param in params:\n",
                "    model_name = f\"cti_{param}_epochs\"\n",
                "    model = scvi.model.SCVI.load(dir_path=os.path.join(dir_path, model_name),\n",
                "                                adata=adata,\n",
                "                                use_gpu=True\n",
                "                                )\n",
                "    models[param] = model"
            ]
        },
        {
            "cell_type": "markdown",
            "metadata": {},
            "source": [
                "Plot losses "
            ]
        },
        {
            "cell_type": "code",
            "execution_count": null,
            "metadata": {},
            "outputs": [],
            "source": [
                "# plt.plot(model.history[\"elbo_train\"])\n",
                "# plt.plot(model.history[\"reconstruction_loss_train\"])"
            ]
        },
        {
            "cell_type": "markdown",
            "metadata": {},
            "source": [
                "# 3. Visualizations "
            ]
        },
        {
            "cell_type": "markdown",
            "metadata": {
                "id": "iVy8Eo1-Z0be"
            },
            "source": [
                "#### Latent space"
            ]
        },
        {
            "cell_type": "code",
            "execution_count": null,
            "metadata": {
                "id": "R4FwiBpUtQJa"
            },
            "outputs": [],
            "source": [
                "# Regular scVI\n",
                "latent = model.get_latent_representation()\n",
                "adata.obsm[\"X_scVI\"] = latent\n",
                "\n",
                "latent.shape"
            ]
        },
        {
            "cell_type": "markdown",
            "metadata": {},
            "source": [
                "### 2D Embedding plots"
            ]
        },
        {
            "cell_type": "markdown",
            "metadata": {},
            "source": [
                "UMAP on PCA (Without scVI - no batch correction)"
            ]
        },
        {
            "cell_type": "code",
            "execution_count": null,
            "metadata": {},
            "outputs": [],
            "source": [
                "# run PCA then generate UMAP plots\n",
                "sc.tl.pca(adata)\n",
                "sc.pp.neighbors(adata, n_pcs=30, n_neighbors=20)\n",
                "sc.tl.umap(adata, min_dist=0.3)"
            ]
        },
        {
            "cell_type": "code",
            "execution_count": null,
            "metadata": {},
            "outputs": [],
            "source": [
                "sc.pl.umap(\n",
                "    adata,\n",
                "    color=[\"cell_types_grouped\", \"cell_type\"],\n",
                "    frameon=False,\n",
                ")\n",
                "sc.pl.umap(\n",
                "    adata,\n",
                "    color=[\"donor_id\", \"assay\"],\n",
                "    ncols=2,\n",
                "    frameon=False,\n",
                ")"
            ]
        },
        {
            "cell_type": "markdown",
            "metadata": {},
            "source": [
                "UMAP on scVI latent spae"
            ]
        },
        {
            "cell_type": "code",
            "execution_count": null,
            "metadata": {},
            "outputs": [],
            "source": [
                "# run PCA then generate UMAP plots\n",
                "sc.pp.neighbors(adata, use_rep=\"X_scVI\")\n",
                "sc.tl.umap(adata, min_dist=0.3)"
            ]
        },
        {
            "cell_type": "code",
            "execution_count": null,
            "metadata": {},
            "outputs": [],
            "source": [
                "sc.pl.umap(\n",
                "    adata,\n",
                "    color=[\"cell_types_grouped\", \"cell_type\"],\n",
                "    frameon=False,\n",
                ")\n",
                "sc.pl.umap(\n",
                "    adata,\n",
                "    color=[\"donor_id\", \"assay\"],\n",
                "    ncols=2,\n",
                "    frameon=False,\n",
                ")"
            ]
        },
        {
            "cell_type": "markdown",
            "metadata": {
                "id": "merbABa3u8rg"
            },
            "source": [
                "The `model.get...()` functions default to using the anndata that was used to initialize the model. It's possible to also query a subset of the anndata, or even use a completely independent anndata object as long as the anndata is organized in an equivalent fashion.\n",
                "\n",
                "We will use it to compute the **mean gene expression vector for each cell type present in the dataset** ."
            ]
        },
        {
            "cell_type": "markdown",
            "metadata": {},
            "source": [
                "# 4. Building a signature matrix"
            ]
        },
        {
            "cell_type": "markdown",
            "metadata": {},
            "source": [
                "### Denoised signature matrix (skip)"
            ]
        },
        {
            "cell_type": "code",
            "execution_count": null,
            "metadata": {
                "colab": {
                    "base_uri": "https://localhost:8080/"
                },
                "id": "kHznd-ygvNt5",
                "outputId": "41ff4f7d-4d2b-4aab-a483-78ec4865b323"
            },
            "outputs": [],
            "source": [
                "# Denoised signature matrix computation\n",
                "\n",
                "# df_signature_denoised = pd.DataFrame()\n",
                "\n",
                "# for cell_type in adata.obs[\"cell_types_grouped\"].unique():\n",
                "#     indices = adata[adata.obs.cell_types_grouped == cell_type].obs.index\n",
                "#     integer_indices = adata.obs.index.get_indexer(indices)\n",
                "#     # latent_subset = model.get_latent_representation(adata_subset)\n",
                "#     denoised = model.get_normalized_expression(indices=integer_indices,\n",
                "#                                                library_size=1e4)\n",
                "#     df = denoised.mean(axis=0).to_frame()\n",
                "#     df.columns = [cell_type]\n",
                "#     df_signature_denoised = pd.concat([df_signature_denoised, df], axis=1)\n",
                "\n",
                "\n",
                "# df_signature_denoised.drop([\"To remove\"], axis=1, inplace=True)\n",
                "\n",
                "# keep_genes = list(set(signature.index) & set(df_signature_denoised.index))\n",
                "\n",
                "# signature = signature.loc[keep_genes]\n",
                "# df_signature_denoised = df_signature_denoised.loc[keep_genes]\n",
                "\n",
                "# df_signature_denoised.to_csv(\"/home/owkin/project/Almudena/Output/Crosstiss_Immune/signature_cti_csv_5000.csv\")\n",
                "\n",
                "###### Vanilla signature matrix\n",
                "# X_norm = sc.pp.normalize_total(adata,\n",
                "#                                target_sum=1e4,\n",
                "#                                layer=\"counts\",\n",
                "#                                inplace=False)['X']\n",
                "\n",
                "# df_signature = pd.DataFrame()\n",
                "\n",
                "# for cell_type in adata.obs[\"cell_type\"].unique():\n",
                "#     indices = adata[adata.obs.cell_type == cell_type].obs.index\n",
                "#     integer_indices = adata.obs.index.get_indexer(indices)\n",
                "#     df = pd.DataFrame(X_norm[integer_indices, :].mean(axis=0).T,\n",
                "#              index=adata.var_names,\n",
                "#              columns=[cell_type])\n",
                "#     df_signature = pd.concat([df_signature, df], axis=1) "
            ]
        },
        {
            "cell_type": "markdown",
            "metadata": {},
            "source": [
                "Correlation between signature matrices"
            ]
        },
        {
            "cell_type": "code",
            "execution_count": null,
            "metadata": {},
            "outputs": [],
            "source": [
                "# import seaborn as sns \n",
                "# from scipy.stats import spearmanr, pearsonr\n",
                "# import numpy as np\n",
                "\n",
                "# cell_types = list(signature.columns)\n",
                "\n",
                "# n_cols = 5\n",
                "\n",
                "# fig, ax = plt.subplots(1, n_cols, figsize=(25, 5))\n",
                "\n",
                "# for i in range(n_cols):\n",
                "#     cell_type = cell_types[i]\n",
                "#     x_sig = signature[cell_type].values\n",
                "#     x_denoised = df_signature_denoised[cell_type].values\n",
                "#     # keep_genes = pd.Index(list(set(marker_genes[cell_type]) & set(adata.var_names)))\n",
                "#     # x_raw = df_signature.loc[keep_genes][cell_type].values\n",
                "#     # x_denoised = df_signature_denoised.loc[keep_genes][cell_type].values\n",
                "#     corr = spearmanr(x_sig, x_denoised)[0]\n",
                "    \n",
                "#     sns.scatterplot(x=x_sig,\n",
                "#                     y=x_denoised,\n",
                "#                     ax=ax[i]\n",
                "#                     )\n",
                "#     ax[i].set_xlabel(f\"Denoised average ({cell_type})\")\n",
                "#     ax[i].set_ylabel(f\"Signature average ({cell_type})\")\n",
                "#     ax[i].set_title(f\"Correlation {np.around(corr,3)}\")"
            ]
        },
        {
            "cell_type": "markdown",
            "metadata": {},
            "source": [
                "### Denoised dataset"
            ]
        },
        {
            "cell_type": "code",
            "execution_count": null,
            "metadata": {},
            "outputs": [],
            "source": [
                "denoised_train = model.get_normalized_expression(\n",
                "                                            adata_train,\n",
                "                                            library_size=1e4)\n",
                "\n",
                "denoised_train"
            ]
        },
        {
            "cell_type": "code",
            "execution_count": null,
            "metadata": {},
            "outputs": [],
            "source": [
                "denoised_test = model.get_normalized_expression(\n",
                "                                            adata_test,\n",
                "                                            library_size=1e4)\n",
                "\n",
                "denoised_test"
            ]
        },
        {
            "cell_type": "code",
            "execution_count": null,
            "metadata": {},
            "outputs": [],
            "source": [
                "len(set(denoised_train.index) & set(denoised_test.index))"
            ]
        },
        {
            "cell_type": "markdown",
            "metadata": {},
            "source": [
                "Save denoised datasets"
            ]
        },
        {
            "cell_type": "code",
            "execution_count": null,
            "metadata": {},
            "outputs": [],
            "source": [
                "denoised_train.to_csv(\"/home/owkin/project/Almudena/Output/Crosstiss_Immune/denoised_train_cti_5000.csv\")\n",
                "denoised_test.to_csv(\"/home/owkin/project/Almudena/Output/Crosstiss_Immune/denoised_test_cti_5000.csv\")"
            ]
        },
        {
            "cell_type": "markdown",
            "metadata": {},
            "source": [
                "# 5. Latent space linearity sanity checks"
            ]
        },
        {
            "cell_type": "code",
            "execution_count": null,
            "metadata": {},
            "outputs": [],
            "source": [
                "import tqdm\n",
                "from scvi_sanity_checks_utils import sanity_checks_metrics"
            ]
        },
        {
            "cell_type": "code",
            "execution_count": null,
            "metadata": {},
            "outputs": [],
            "source": [
                "batch_size = [128, 256, 512, 1024, 2048, 4096, 8192, 16384] #, 32768, 65536, 131072] \n",
                "\n",
                "latent_space_metrics = {}\n",
                "\n",
                "params = [str(x) for x in (100, 200, 300, 400)]\n",
                "\n",
                "for param in tqdm.tqdm(params[:1]):\n",
                "    latent_space_metrics[param] = {}\n",
                "    metrics, errors = sanity_checks_metrics(models[param],\n",
                "                                            adata,\n",
                "                                            batch_sizes=batch_size,\n",
                "                                            n_repeats=100,\n",
                "                                            use_get_latent=True)\n",
                "    latent_space_metrics[param][\"corr\"] = metrics[\"corr\"]\n",
                "    latent_space_metrics[param][\"error\"] = errors[\"corr\"]"
            ]
        },
        {
            "cell_type": "code",
            "execution_count": null,
            "metadata": {},
            "outputs": [],
            "source": [
                "fig, ax = plt.subplots(1, 1, figsize=(15, 4))\n",
                "\n",
                "plt.plot(batch_size, corrs, color=\"green\", linestyle=\"--\", marker=\"+\")\n",
                "plt.xlabel(\"Batch size\")\n",
                "plt.ylabel(\"Pearson correaltion\")\n",
                "plt.xticks(batch_size)\n",
                "plt.title(\"Sanity check 0: correlation between sum(encodings)~=encoder(pseudo-bulk)\")"
            ]
        },
        {
            "cell_type": "code",
            "execution_count": null,
            "metadata": {},
            "outputs": [],
            "source": []
        }
    ],
    "metadata": {
        "accelerator": "GPU",
        "colab": {
            "collapsed_sections": [],
            "name": "api_overview.ipynb",
            "provenance": []
        },
        "kernelspec": {
            "display_name": "Python 3.9.17 ('scvi': conda)",
            "language": "python",
            "name": "python3"
        },
        "language_info": {
            "codemirror_mode": {
                "name": "ipython",
                "version": 3
            },
            "file_extension": ".py",
            "mimetype": "text/x-python",
            "name": "python",
            "nbconvert_exporter": "python",
            "pygments_lexer": "ipython3",
            "version": "3.9.17"
        },
        "pycharm": {
            "stem_cell": {
                "cell_type": "raw",
                "metadata": {
                    "collapsed": false
                },
                "source": []
            }
        },
        "toc": {
            "base_numbering": 1,
            "nav_menu": {},
            "number_sections": true,
            "sideBar": true,
            "skip_h1_title": false,
            "title_cell": "Table of Contents",
            "title_sidebar": "Contents",
            "toc_cell": false,
            "toc_position": {},
            "toc_section_display": true,
            "toc_window_display": false
        },
        "vscode": {
            "interpreter": {
                "hash": "68b762d37d26fc319ab5bf0bed8501b1b574f0c5488b9b405441cf6bff8c3d86"
            }
        }
    },
    "nbformat": 4,
    "nbformat_minor": 0
}
