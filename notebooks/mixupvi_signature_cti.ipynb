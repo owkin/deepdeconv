{
    "cells": [
        {
            "cell_type": "markdown",
            "metadata": {
                "id": "y4nH3q_rZ0bI"
            },
            "source": [
                "# **MixupVI**"
            ]
        },
        {
            "cell_type": "markdown",
            "metadata": {},
            "source": [
                "#### Standard imports"
            ]
        },
        {
            "cell_type": "code",
            "execution_count": 4,
            "metadata": {
                "colab": {
                    "base_uri": "https://localhost:8080/"
                },
                "id": "fKv83AN6hcWO",
                "outputId": "b3a5ee4e-c713-4ad7-a87e-832102335655"
            },
            "outputs": [],
            "source": [
                "import scanpy as sc\n",
                "import scvi\n",
                "import anndata as ad\n",
                "import pandas as pd\n",
                "import matplotlib.pyplot as plt\n",
                "import numpy as np\n",
                "\n",
                "from loguru import logger\n",
                "\n",
                "sc.set_figure_params(figsize=(4, 4))\n",
                "\n",
                "# for white background of figures (only for docs rendering)\n",
                "%config InlineBackend.print_figure_kwargs={'facecolor' : \"w\"}\n",
                "%config InlineBackend.figure_format='retina'"
            ]
        },
        {
            "cell_type": "markdown",
            "metadata": {},
            "source": [
                "## 1. Data preparation and model training"
            ]
        },
        {
            "cell_type": "markdown",
            "metadata": {
                "id": "oPGuX2wPZ0bS"
            },
            "source": [
                "### 1.1 Loading and preparing data \n",
                "\n",
                "#### Cross-tissue immune cell analysis reveals tissue-specific features in humans - Global\n",
                "\n",
                "Despite their crucial role in health and disease, our knowledge of immune cells within human tissues remains limited. We surveyed the immune compartment of 16 tissues from 12 adult donors by single-cell RNA sequencing and VDJ sequencing generating a dataset of ~360,000 cells. To systematically resolve immune cell heterogeneity across tissues, we developed CellTypist, a machine learning tool for rapid and precise cell type annotation. Using this approach, combined with detailed curation, we determined the tissue distribution of finely phenotyped immune cell types, revealing hitherto unappreciated tissue-specific features and clonal architecture of T and B cells. Our multitissue approach lays the foundation for identifying highly resolved immune cell types by leveraging a common reference dataset, tissue-integrated expression analysis, and antigen receptor sequencing."
            ]
        },
        {
            "attachments": {},
            "cell_type": "markdown",
            "metadata": {
                "id": "CKEgQJG3mVJh"
            },
            "source": [
                "```{important}\n",
                "All scvi-tools models require AnnData objects as input.\n",
                "```"
            ]
        },
        {
            "cell_type": "code",
            "execution_count": 3,
            "metadata": {},
            "outputs": [],
            "source": [
                "from benchmark_utils import (\n",
                "  preprocess_scrna,\n",
                "  add_cell_types_grouped,\n",
                ")"
            ]
        },
        {
            "cell_type": "code",
            "execution_count": 6,
            "metadata": {},
            "outputs": [
                {
                    "data": {
                        "text/plain": [
                            "AnnData object with n_obs × n_vars = 329762 × 36503\n",
                            "    obs: 'donor_id', 'Predicted_labels_CellTypist', 'Majority_voting_CellTypist', 'Majority_voting_CellTypist_high', 'Manually_curated_celltype', 'assay_ontology_term_id', 'cell_type_ontology_term_id', 'development_stage_ontology_term_id', 'disease_ontology_term_id', 'self_reported_ethnicity_ontology_term_id', 'is_primary_data', 'organism_ontology_term_id', 'sex_ontology_term_id', 'tissue_ontology_term_id', 'suspension_type', 'cell_type', 'assay', 'disease', 'organism', 'sex', 'tissue', 'self_reported_ethnicity', 'development_stage'\n",
                            "    var: 'gene_symbols', 'feature_is_filtered', 'feature_name', 'feature_reference', 'feature_biotype'\n",
                            "    uns: 'cell_type_ontology_term_id_colors', 'default_embedding', 'development_stage_ontology_term_id_colors', 'schema_version', 'sex_ontology_term_id_colors', 'title'\n",
                            "    obsm: 'X_umap'"
                        ]
                    },
                    "execution_count": 6,
                    "metadata": {},
                    "output_type": "execute_result"
                }
            ],
            "source": [
                "SIGNATURE_CHOICE = \"crosstissue_general\"  # [\"laughney\", \"crosstissue_general\", \"crosstissue_granular_updated\"]\n",
                "CELL_TYPE_GROUP = \"primary_groups\" #\"updated_granular_groups\" \n",
                "\n",
                "## CTI \n",
                "adata = sc.read(\"/home/owkin/deepdeconv/data/cti_adata.h5ad\")\n",
                "\n",
                "adata"
            ]
        },
        {
            "cell_type": "code",
            "execution_count": 8,
            "metadata": {},
            "outputs": [
                {
                    "name": "stderr",
                    "output_type": "stream",
                    "text": [
                        "\u001b[32m2023-11-07 13:49:55.211\u001b[0m | \u001b[1mINFO    \u001b[0m | \u001b[36m__main__\u001b[0m:\u001b[36m<module>\u001b[0m:\u001b[36m1\u001b[0m - \u001b[1mCheck if AnnData object contains raw counts\u001b[0m\n"
                    ]
                },
                {
                    "name": "stdout",
                    "output_type": "stream",
                    "text": [
                        "[  0.   1.   2.   3.   4.   5.   6.   7.   8.   9.  10.  11.  12.  13.\n",
                        "  14.  15.  16.  17.  18.  19.  20.  21.  22.  23.  24.  25.  27.  28.\n",
                        "  29.  30.  31.  32.  33.  34.  35.  36.  37.  40.  41.  46.  47.  48.\n",
                        "  49.  51.  52.  53.  55.  56.  69.  72.  73.  74.  77.  89. 129.]\n",
                        "float32\n"
                    ]
                }
            ],
            "source": [
                "logger.info(\"Check if AnnData object contains raw counts\")\n",
                "\n",
                "print(np.unique(adata.X[0].toarray()))\n",
                "print(np.unique(adata.X[0].toarray()).dtype)"
            ]
        },
        {
            "cell_type": "code",
            "execution_count": 9,
            "metadata": {},
            "outputs": [],
            "source": [
                "# preprocessing\n",
                "preprocess_scrna(adata=adata,\n",
                "                 keep_genes=2500,\n",
                "                 batch_key=\"donor_id\")"
            ]
        },
        {
            "cell_type": "code",
            "execution_count": 12,
            "metadata": {},
            "outputs": [
                {
                    "name": "stdout",
                    "output_type": "stream",
                    "text": [
                        "[0.         0.92765963 1.4004854  1.7202194  1.9621122  2.1567407\n",
                        " 2.3195903  2.4595966  2.582387   2.6917353  2.7902963  2.9623313\n",
                        " 3.0383892  3.109069   3.2370045  3.4026332  3.4522607  3.7441196\n",
                        " 3.879213   3.9697611  4.3294253  4.3689137  4.388088   4.406902\n",
                        " 4.4434996  4.6678853  4.7237234  4.9203024 ]\n",
                        "float32\n"
                    ]
                }
            ],
            "source": [
                "print(np.unique(adata.X[0].toarray()))\n",
                "print(np.unique(adata.X[0].toarray()).dtype)"
            ]
        },
        {
            "cell_type": "code",
            "execution_count": 13,
            "metadata": {},
            "outputs": [
                {
                    "name": "stdout",
                    "output_type": "stream",
                    "text": [
                        "[0.         0.92765963 1.4004854  1.7202194  1.9621122  2.1567407\n",
                        " 2.3195903  2.4595966  2.582387   2.6917353  2.7902963  2.880009\n",
                        " 2.9623313  3.0383892  3.109069   3.1750815  3.2370045  3.2953157\n",
                        " 3.3504136  3.4026332  3.4522607  3.4995415  3.5446875  3.5878828\n",
                        " 3.6292894  3.6690495  3.7441196  3.779642   3.8139458  3.847112\n",
                        " 3.879213   3.9103155  3.94048    3.9697611  3.998209   4.0258703\n",
                        " 4.052787   4.129444   4.153744   4.267105   4.288313   4.30908\n",
                        " 4.3294253  4.3689137  4.388088   4.406902   4.4434996  4.4613085\n",
                        " 4.6678853  4.7100534  4.7237234  4.737209   4.776608   4.9203024\n",
                        " 5.289213  ]\n",
                        "float32\n"
                    ]
                }
            ],
            "source": [
                "print(np.unique(adata.raw.X[0].toarray()))\n",
                "print(np.unique(adata.raw.X[0].toarray()).dtype)"
            ]
        },
        {
            "cell_type": "code",
            "execution_count": 15,
            "metadata": {},
            "outputs": [
                {
                    "name": "stdout",
                    "output_type": "stream",
                    "text": [
                        "[ 0.  1.  2.  3.  4.  5.  6.  7.  8.  9. 10. 12. 13. 14. 16. 19. 20. 27.\n",
                        " 31. 34. 49. 51. 52. 53. 55. 69. 73. 89.]\n",
                        "float32\n"
                    ]
                }
            ],
            "source": [
                "print(np.unique(adata.layers[\"counts\"][0].toarray()))\n",
                "print(np.unique(adata.layers[\"counts\"][0].toarray()).dtype)"
            ]
        },
        {
            "cell_type": "markdown",
            "metadata": {},
            "source": [
                "### Load pre-processed data"
            ]
        },
        {
            "cell_type": "code",
            "execution_count": null,
            "metadata": {},
            "outputs": [],
            "source": [
                "# adata = ad.read_h5ad(\"/home/owkin/cti_data/processed/cti_processed.h5ad\")\n",
                "\n",
                "# adata.X.shape, adata.raw.X.shape"
            ]
        },
        {
            "cell_type": "markdown",
            "metadata": {},
            "source": [
                "### Signature"
            ]
        },
        {
            "cell_type": "code",
            "execution_count": 18,
            "metadata": {},
            "outputs": [
                {
                    "data": {
                        "text/html": [
                            "<div>\n",
                            "<style scoped>\n",
                            "    .dataframe tbody tr th:only-of-type {\n",
                            "        vertical-align: middle;\n",
                            "    }\n",
                            "\n",
                            "    .dataframe tbody tr th {\n",
                            "        vertical-align: top;\n",
                            "    }\n",
                            "\n",
                            "    .dataframe thead th {\n",
                            "        text-align: right;\n",
                            "    }\n",
                            "</style>\n",
                            "<table border=\"1\" class=\"dataframe\">\n",
                            "  <thead>\n",
                            "    <tr style=\"text-align: right;\">\n",
                            "      <th></th>\n",
                            "      <th>TNK</th>\n",
                            "      <th>B</th>\n",
                            "      <th>MonoMacro</th>\n",
                            "      <th>DC</th>\n",
                            "      <th>Mast</th>\n",
                            "    </tr>\n",
                            "    <tr>\n",
                            "      <th>Genes</th>\n",
                            "      <th></th>\n",
                            "      <th></th>\n",
                            "      <th></th>\n",
                            "      <th></th>\n",
                            "      <th></th>\n",
                            "    </tr>\n",
                            "  </thead>\n",
                            "  <tbody>\n",
                            "    <tr>\n",
                            "      <th>ENSG00000197405</th>\n",
                            "      <td>0.018029</td>\n",
                            "      <td>0.007196</td>\n",
                            "      <td>1.42505</td>\n",
                            "      <td>0.158178</td>\n",
                            "      <td>0.022227</td>\n",
                            "    </tr>\n",
                            "    <tr>\n",
                            "      <th>ENSG00000090382</th>\n",
                            "      <td>0.101235</td>\n",
                            "      <td>0.048124</td>\n",
                            "      <td>3.372435</td>\n",
                            "      <td>1.94486</td>\n",
                            "      <td>0.136315</td>\n",
                            "    </tr>\n",
                            "    <tr>\n",
                            "      <th>ENSG00000153064</th>\n",
                            "      <td>0.009754</td>\n",
                            "      <td>1.412191</td>\n",
                            "      <td>0.011233</td>\n",
                            "      <td>0.129918</td>\n",
                            "      <td>0.009508</td>\n",
                            "    </tr>\n",
                            "    <tr>\n",
                            "      <th>ENSG00000104870</th>\n",
                            "      <td>0.11261</td>\n",
                            "      <td>0.144496</td>\n",
                            "      <td>1.408506</td>\n",
                            "      <td>0.924049</td>\n",
                            "      <td>0.149793</td>\n",
                            "    </tr>\n",
                            "    <tr>\n",
                            "      <th>ENSG00000180644</th>\n",
                            "      <td>0.618127</td>\n",
                            "      <td>0.005984</td>\n",
                            "      <td>0.007256</td>\n",
                            "      <td>0.021383</td>\n",
                            "      <td>0.012903</td>\n",
                            "    </tr>\n",
                            "  </tbody>\n",
                            "</table>\n",
                            "</div>"
                        ],
                        "text/plain": [
                            "                      TNK         B MonoMacro        DC      Mast\n",
                            "Genes                                                            \n",
                            "ENSG00000197405  0.018029  0.007196   1.42505  0.158178  0.022227\n",
                            "ENSG00000090382  0.101235  0.048124  3.372435   1.94486  0.136315\n",
                            "ENSG00000153064  0.009754  1.412191  0.011233  0.129918  0.009508\n",
                            "ENSG00000104870   0.11261  0.144496  1.408506  0.924049  0.149793\n",
                            "ENSG00000180644  0.618127  0.005984  0.007256  0.021383  0.012903"
                        ]
                    },
                    "execution_count": 18,
                    "metadata": {},
                    "output_type": "execute_result"
                }
            ],
            "source": [
                "from benchmark_utils import(\n",
                "  split_dataset,\n",
                "  create_signature,\n",
                ")\n",
                "\n",
                "signature = create_signature(adata, group=CELL_TYPE_GROUP)\n",
                "\n",
                "signature.head()"
            ]
        },
        {
            "cell_type": "code",
            "execution_count": 20,
            "metadata": {},
            "outputs": [],
            "source": [
                "adata = add_cell_types_grouped(adata,\n",
                "                               group=CELL_TYPE_GROUP)"
            ]
        },
        {
            "cell_type": "code",
            "execution_count": 22,
            "metadata": {},
            "outputs": [
                {
                    "data": {
                        "text/plain": [
                            "primary_groups\n",
                            "TNK          216611\n",
                            "B             52788\n",
                            "MonoMacro     45844\n",
                            "Mast           3291\n",
                            "DC             2478\n",
                            "Name: count, dtype: int64"
                        ]
                    },
                    "execution_count": 22,
                    "metadata": {},
                    "output_type": "execute_result"
                }
            ],
            "source": [
                "adata.obs[CELL_TYPE_GROUP].value_counts()"
            ]
        },
        {
            "cell_type": "markdown",
            "metadata": {},
            "source": [
                "Train scVI"
            ]
        },
        {
            "cell_type": "code",
            "execution_count": 24,
            "metadata": {},
            "outputs": [
                {
                    "name": "stderr",
                    "output_type": "stream",
                    "text": [
                        "INFO:jax._src.xla_bridge:Unable to initialize backend 'cuda': module 'jaxlib.xla_extension' has no attribute 'GpuAllocatorConfig'\n",
                        "INFO:jax._src.xla_bridge:Unable to initialize backend 'rocm': module 'jaxlib.xla_extension' has no attribute 'GpuAllocatorConfig'\n",
                        "INFO:jax._src.xla_bridge:Unable to initialize backend 'tpu': INVALID_ARGUMENT: TpuPlatform is not available.\n",
                        "WARNING:jax._src.xla_bridge:No GPU/TPU found, falling back to CPU. (Set TF_CPP_MIN_LOG_LEVEL=0 and rerun for more info.)\n",
                        "GPU available: True (cuda), used: True\n",
                        "TPU available: False, using: 0 TPU cores\n",
                        "IPU available: False, using: 0 IPUs\n",
                        "HPU available: False, using: 0 HPUs\n",
                        "LOCAL_RANK: 0 - CUDA_VISIBLE_DEVICES: [0,1]\n"
                    ]
                },
                {
                    "name": "stdout",
                    "output_type": "stream",
                    "text": [
                        "Epoch 23/300:   7%|▋         | 22/300 [08:13<1:45:52, 22.85s/it, v_num=1, train_loss_step=753, train_loss_epoch=605]"
                    ]
                }
            ],
            "source": [
                "adata = adata.copy()\n",
                "scvi.model.SCVI.setup_anndata(\n",
                "    adata,\n",
                "    layer=\"counts\",\n",
                "    categorical_covariate_keys=[\"assay\", \"donor_id\"],\n",
                "    # continuous_covariate_keys=[\"percent_mito\", \"percent_ribo\"],\n",
                ")\n",
                "\n",
                "model = scvi.model.SCVI(adata)\n",
                "model.train(max_epochs=300)"
            ]
        },
        {
            "cell_type": "markdown",
            "metadata": {},
            "source": [
                "### Batch effects exploration"
            ]
        },
        {
            "cell_type": "code",
            "execution_count": null,
            "metadata": {},
            "outputs": [],
            "source": [
                "# # PCA\n",
                "# sc.pp.scale(adata, max_value=10)\n",
                "# sc.tl.pca(adata, svd_solver='arpack')"
            ]
        },
        {
            "cell_type": "code",
            "execution_count": null,
            "metadata": {},
            "outputs": [],
            "source": [
                "# # UMAP\n",
                "# sc.pp.neighbors(adata, n_neighbors=10, n_pcs=40)\n",
                "# sc.tl.umap(adata)"
            ]
        },
        {
            "cell_type": "code",
            "execution_count": null,
            "metadata": {},
            "outputs": [],
            "source": [
                "sc.pl.pca(adata,\n",
                "          color=[\"assay\", \"prim\", \"cell_types_grouped\"])"
            ]
        },
        {
            "cell_type": "code",
            "execution_count": null,
            "metadata": {},
            "outputs": [],
            "source": [
                "sc.pl.umap(adata,\n",
                "          color=[\"assay\", \"donor_id\", \"tissue\"]\n",
                "          )"
            ]
        },
        {
            "cell_type": "code",
            "execution_count": null,
            "metadata": {},
            "outputs": [],
            "source": [
                "sc.pl.umap(adata,\n",
                "          color=[\"donor_id\", \"cell_type\"]\n",
                "          )"
            ]
        },
        {
            "cell_type": "markdown",
            "metadata": {},
            "source": [
                "# 3. Visualizations "
            ]
        },
        {
            "cell_type": "markdown",
            "metadata": {
                "id": "iVy8Eo1-Z0be"
            },
            "source": [
                "#### Latent space"
            ]
        },
        {
            "cell_type": "code",
            "execution_count": null,
            "metadata": {
                "id": "R4FwiBpUtQJa"
            },
            "outputs": [],
            "source": [
                "# Regular scVI\n",
                "latent = model.get_latent_representation()\n",
                "adata.obsm[\"X_scVI\"] = latent\n",
                "\n",
                "latent.shape"
            ]
        },
        {
            "cell_type": "markdown",
            "metadata": {},
            "source": [
                "### 2D Embedding plots"
            ]
        },
        {
            "cell_type": "markdown",
            "metadata": {},
            "source": [
                "UMAP on PCA (Without scVI - no batch correction)"
            ]
        },
        {
            "cell_type": "code",
            "execution_count": null,
            "metadata": {},
            "outputs": [],
            "source": [
                "# run PCA then generate UMAP plots\n",
                "sc.tl.pca(adata)\n",
                "sc.pp.neighbors(adata, n_pcs=30, n_neighbors=20)\n",
                "sc.tl.umap(adata, min_dist=0.3)"
            ]
        },
        {
            "cell_type": "code",
            "execution_count": null,
            "metadata": {},
            "outputs": [],
            "source": [
                "sc.pl.umap(\n",
                "    adata,\n",
                "    color=[\"cell_types_grouped\", \"cell_type\"],\n",
                "    frameon=False,\n",
                ")\n",
                "sc.pl.umap(\n",
                "    adata,\n",
                "    color=[\"donor_id\", \"assay\"],\n",
                "    ncols=2,\n",
                "    frameon=False,\n",
                ")"
            ]
        },
        {
            "cell_type": "markdown",
            "metadata": {},
            "source": [
                "UMAP on scVI latent spae"
            ]
        },
        {
            "cell_type": "code",
            "execution_count": null,
            "metadata": {},
            "outputs": [],
            "source": [
                "# run PCA then generate UMAP plots\n",
                "sc.pp.neighbors(adata, use_rep=\"X_scVI\")\n",
                "sc.tl.umap(adata, min_dist=0.3)"
            ]
        },
        {
            "cell_type": "code",
            "execution_count": null,
            "metadata": {},
            "outputs": [],
            "source": [
                "sc.pl.umap(\n",
                "    adata,\n",
                "    color=[\"cell_types_grouped\", \"cell_type\"],\n",
                "    frameon=False,\n",
                ")\n",
                "sc.pl.umap(\n",
                "    adata,\n",
                "    color=[\"donor_id\", \"assay\"],\n",
                "    ncols=2,\n",
                "    frameon=False,\n",
                ")"
            ]
        },
        {
            "cell_type": "markdown",
            "metadata": {
                "id": "merbABa3u8rg"
            },
            "source": [
                "The `model.get...()` functions default to using the anndata that was used to initialize the model. It's possible to also query a subset of the anndata, or even use a completely independent anndata object as long as the anndata is organized in an equivalent fashion.\n",
                "\n",
                "We will use it to compute the **mean gene expression vector for each cell type present in the dataset** ."
            ]
        },
        {
            "cell_type": "markdown",
            "metadata": {},
            "source": [
                "# 4. Building a signature matrix"
            ]
        },
        {
            "cell_type": "markdown",
            "metadata": {},
            "source": [
                "### Denoised signature matrix (skip)"
            ]
        },
        {
            "cell_type": "code",
            "execution_count": null,
            "metadata": {
                "colab": {
                    "base_uri": "https://localhost:8080/"
                },
                "id": "kHznd-ygvNt5",
                "outputId": "41ff4f7d-4d2b-4aab-a483-78ec4865b323"
            },
            "outputs": [],
            "source": [
                "# Denoised signature matrix computation\n",
                "\n",
                "# df_signature_denoised = pd.DataFrame()\n",
                "\n",
                "# for cell_type in adata.obs[\"cell_types_grouped\"].unique():\n",
                "#     indices = adata[adata.obs.cell_types_grouped == cell_type].obs.index\n",
                "#     integer_indices = adata.obs.index.get_indexer(indices)\n",
                "#     # latent_subset = model.get_latent_representation(adata_subset)\n",
                "#     denoised = model.get_normalized_expression(indices=integer_indices,\n",
                "#                                                library_size=1e4)\n",
                "#     df = denoised.mean(axis=0).to_frame()\n",
                "#     df.columns = [cell_type]\n",
                "#     df_signature_denoised = pd.concat([df_signature_denoised, df], axis=1)\n",
                "\n",
                "\n",
                "# df_signature_denoised.drop([\"To remove\"], axis=1, inplace=True)\n",
                "\n",
                "# keep_genes = list(set(signature.index) & set(df_signature_denoised.index))\n",
                "\n",
                "# signature = signature.loc[keep_genes]\n",
                "# df_signature_denoised = df_signature_denoised.loc[keep_genes]\n",
                "\n",
                "# df_signature_denoised.to_csv(\"/home/owkin/project/Almudena/Output/Crosstiss_Immune/signature_cti_csv_5000.csv\")\n",
                "\n",
                "###### Vanilla signature matrix\n",
                "# X_norm = sc.pp.normalize_total(adata,\n",
                "#                                target_sum=1e4,\n",
                "#                                layer=\"counts\",\n",
                "#                                inplace=False)['X']\n",
                "\n",
                "# df_signature = pd.DataFrame()\n",
                "\n",
                "# for cell_type in adata.obs[\"cell_type\"].unique():\n",
                "#     indices = adata[adata.obs.cell_type == cell_type].obs.index\n",
                "#     integer_indices = adata.obs.index.get_indexer(indices)\n",
                "#     df = pd.DataFrame(X_norm[integer_indices, :].mean(axis=0).T,\n",
                "#              index=adata.var_names,\n",
                "#              columns=[cell_type])\n",
                "#     df_signature = pd.concat([df_signature, df], axis=1) "
            ]
        },
        {
            "cell_type": "markdown",
            "metadata": {},
            "source": [
                "Correlation between signature matrices"
            ]
        },
        {
            "cell_type": "code",
            "execution_count": null,
            "metadata": {},
            "outputs": [],
            "source": [
                "# import seaborn as sns \n",
                "# from scipy.stats import spearmanr, pearsonr\n",
                "# import numpy as np\n",
                "\n",
                "# cell_types = list(signature.columns)\n",
                "\n",
                "# n_cols = 5\n",
                "\n",
                "# fig, ax = plt.subplots(1, n_cols, figsize=(25, 5))\n",
                "\n",
                "# for i in range(n_cols):\n",
                "#     cell_type = cell_types[i]\n",
                "#     x_sig = signature[cell_type].values\n",
                "#     x_denoised = df_signature_denoised[cell_type].values\n",
                "#     # keep_genes = pd.Index(list(set(marker_genes[cell_type]) & set(adata.var_names)))\n",
                "#     # x_raw = df_signature.loc[keep_genes][cell_type].values\n",
                "#     # x_denoised = df_signature_denoised.loc[keep_genes][cell_type].values\n",
                "#     corr = spearmanr(x_sig, x_denoised)[0]\n",
                "    \n",
                "#     sns.scatterplot(x=x_sig,\n",
                "#                     y=x_denoised,\n",
                "#                     ax=ax[i]\n",
                "#                     )\n",
                "#     ax[i].set_xlabel(f\"Denoised average ({cell_type})\")\n",
                "#     ax[i].set_ylabel(f\"Signature average ({cell_type})\")\n",
                "#     ax[i].set_title(f\"Correlation {np.around(corr,3)}\")"
            ]
        },
        {
            "cell_type": "markdown",
            "metadata": {},
            "source": [
                "### Denoised dataset"
            ]
        },
        {
            "cell_type": "code",
            "execution_count": null,
            "metadata": {},
            "outputs": [],
            "source": [
                "denoised_train = model.get_normalized_expression(\n",
                "                                            adata_train,\n",
                "                                            library_size=1e4)\n",
                "\n",
                "denoised_train"
            ]
        },
        {
            "cell_type": "code",
            "execution_count": null,
            "metadata": {},
            "outputs": [],
            "source": [
                "denoised_test = model.get_normalized_expression(\n",
                "                                            adata_test,\n",
                "                                            library_size=1e4)\n",
                "\n",
                "denoised_test"
            ]
        },
        {
            "cell_type": "code",
            "execution_count": null,
            "metadata": {},
            "outputs": [],
            "source": [
                "len(set(denoised_train.index) & set(denoised_test.index))"
            ]
        },
        {
            "cell_type": "markdown",
            "metadata": {},
            "source": [
                "Save denoised datasets"
            ]
        },
        {
            "cell_type": "code",
            "execution_count": null,
            "metadata": {},
            "outputs": [],
            "source": [
                "denoised_train.to_csv(\"/home/owkin/project/Almudena/Output/Crosstiss_Immune/denoised_train_cti_5000.csv\")\n",
                "denoised_test.to_csv(\"/home/owkin/project/Almudena/Output/Crosstiss_Immune/denoised_test_cti_5000.csv\")"
            ]
        },
        {
            "cell_type": "markdown",
            "metadata": {},
            "source": [
                "# 5. Latent space linearity sanity checks"
            ]
        },
        {
            "cell_type": "code",
            "execution_count": null,
            "metadata": {},
            "outputs": [],
            "source": [
                "import tqdm\n",
                "from scvi_sanity_checks_utils import sanity_checks_metrics"
            ]
        },
        {
            "cell_type": "code",
            "execution_count": null,
            "metadata": {},
            "outputs": [],
            "source": [
                "batch_size = [128, 256, 512, 1024, 2048, 4096, 8192, 16384] #, 32768, 65536, 131072] \n",
                "\n",
                "latent_space_metrics = {}\n",
                "\n",
                "params = [str(x) for x in (100, 200, 300, 400)]\n",
                "\n",
                "for param in tqdm.tqdm(params[:1]):\n",
                "    latent_space_metrics[param] = {}\n",
                "    metrics, errors = sanity_checks_metrics(models[param],\n",
                "                                            adata,\n",
                "                                            batch_sizes=batch_size,\n",
                "                                            n_repeats=100,\n",
                "                                            use_get_latent=True)\n",
                "    latent_space_metrics[param][\"corr\"] = metrics[\"corr\"]\n",
                "    latent_space_metrics[param][\"error\"] = errors[\"corr\"]"
            ]
        },
        {
            "cell_type": "code",
            "execution_count": null,
            "metadata": {},
            "outputs": [],
            "source": [
                "fig, ax = plt.subplots(1, 1, figsize=(15, 4))\n",
                "\n",
                "plt.plot(batch_size, corrs, color=\"green\", linestyle=\"--\", marker=\"+\")\n",
                "plt.xlabel(\"Batch size\")\n",
                "plt.ylabel(\"Pearson correaltion\")\n",
                "plt.xticks(batch_size)\n",
                "plt.title(\"Sanity check 0: correlation between sum(encodings)~=encoder(pseudo-bulk)\")"
            ]
        },
        {
            "cell_type": "code",
            "execution_count": null,
            "metadata": {},
            "outputs": [],
            "source": []
        }
    ],
    "metadata": {
        "accelerator": "GPU",
        "colab": {
            "collapsed_sections": [],
            "name": "api_overview.ipynb",
            "provenance": []
        },
        "kernelspec": {
            "display_name": "Python 3.9.17 ('scvi': conda)",
            "language": "python",
            "name": "python3"
        },
        "language_info": {
            "codemirror_mode": {
                "name": "ipython",
                "version": 3
            },
            "file_extension": ".py",
            "mimetype": "text/x-python",
            "name": "python",
            "nbconvert_exporter": "python",
            "pygments_lexer": "ipython3",
            "version": "3.9.17"
        },
        "pycharm": {
            "stem_cell": {
                "cell_type": "raw",
                "metadata": {
                    "collapsed": false
                },
                "source": []
            }
        },
        "toc": {
            "base_numbering": 1,
            "nav_menu": {},
            "number_sections": true,
            "sideBar": true,
            "skip_h1_title": false,
            "title_cell": "Table of Contents",
            "title_sidebar": "Contents",
            "toc_cell": false,
            "toc_position": {},
            "toc_section_display": true,
            "toc_window_display": false
        },
        "vscode": {
            "interpreter": {
                "hash": "68b762d37d26fc319ab5bf0bed8501b1b574f0c5488b9b405441cf6bff8c3d86"
            }
        }
    },
    "nbformat": 4,
    "nbformat_minor": 0
}
