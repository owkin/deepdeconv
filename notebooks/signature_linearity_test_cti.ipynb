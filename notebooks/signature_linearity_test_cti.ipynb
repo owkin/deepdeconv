{
 "cells": [
  {
   "cell_type": "code",
   "execution_count": 1,
   "id": "5e83ddd4-a4d9-44b0-b94b-626467e7f269",
   "metadata": {},
   "outputs": [
    {
     "name": "stderr",
     "output_type": "stream",
     "text": [
      "/home/owkin/ngot_wp_2/deepdeconv/scvi/_settings.py:63: UserWarning: Since v1.0.0, scvi-tools no longer uses a random seed by default. Run `scvi.settings.seed = 0` to reproduce results from previous versions.\n",
      "  self.seed = seed\n",
      "/home/owkin/ngot_wp_2/deepdeconv/scvi/_settings.py:70: UserWarning: Setting `dl_pin_memory_gpu_training` is deprecated in v1.0 and will be removed in v1.1. Please pass in `pin_memory` to the data loaders instead.\n",
      "  self.dl_pin_memory_gpu_training = (\n"
     ]
    }
   ],
   "source": [
    "import scanpy as sc\n",
    "import scvi\n",
    "import anndata as ad\n",
    "import pandas as pd\n",
    "\n",
    "import matplotlib.pyplot as plt\n",
    "import torch\n",
    "import numpy\n",
    "from scvi_latent_signature_matrix_tests import load_models, make_embeddings, make_cell_type_representations, visualize_cell_type_representations,stability_of_embeddings\n",
    "from scvi_latent_signature_matrix_tests import make_figure_from_dataframe\n",
    "from scvi_latent_signature_matrix_tests import make_experiment_dataframe\n",
    "\n",
    "sc.set_figure_params(figsize=(4, 4))\n",
    "\n",
    "# for white background of figures (only for docs rendering)\n",
    "%load_ext autoreload\n",
    "%autoreload 2\n",
    "%config InlineBackend.print_figure_kwargs={'facecolor' : \"w\"}\n",
    "%config InlineBackend.figure_format='retina'"
   ]
  },
  {
   "cell_type": "markdown",
   "id": "d1b6e647-c452-4cb6-abdc-ec1ed7ab3c20",
   "metadata": {},
   "source": [
    "# 1. Loading the models trained by Khalil"
   ]
  },
  {
   "cell_type": "code",
   "execution_count": 2,
   "id": "26052603-bd73-47b8-bc28-a1b481e2acc6",
   "metadata": {},
   "outputs": [],
   "source": [
    "adata_path = \"/home/owkin/project/scvi_models/data/adata_cti_5000.h5ad\"\n",
    "model_names = [f\"cti_{nepochs}_epochs\" for nepochs in [100,200,400]]\n",
    "model_paths = [f\"/home/owkin/project/scvi_models/models/cti_{nepochs}_epochs\" for nepochs in [100,200,400]]\n"
   ]
  },
  {
   "cell_type": "code",
   "execution_count": null,
   "id": "1632dd89-c2dd-427e-a836-777a2b097838",
   "metadata": {},
   "outputs": [
    {
     "name": "stderr",
     "output_type": "stream",
     "text": [
      "/home/owkin/ngot_wp_2/deepdeconv/scvi/model/base/_base_model.py:669: UserWarning: `use_gpu` is deprecated in v1.0 and will be removed in v1.1. Please use `accelerator` and `devices` instead.\n",
      "  _, _, device = parse_device_args(\n"
     ]
    },
    {
     "name": "stdout",
     "output_type": "stream",
     "text": [
      "\u001B[34mINFO    \u001B[0m File \u001B[35m/home/owkin/project/scvi_models/models/cti_100_epochs/\u001B[0m\u001B[95mmodel.pt\u001B[0m already downloaded                    \n"
     ]
    },
    {
     "name": "stderr",
     "output_type": "stream",
     "text": [
      "No GPU/TPU found, falling back to CPU. (Set TF_CPP_MIN_LOG_LEVEL=0 and rerun for more info.)\n"
     ]
    }
   ],
   "source": [
    "adata,model_dict = load_models(adata_path,model_paths,model_names,use_gpu=True)"
   ]
  },
  {
   "cell_type": "markdown",
   "id": "561d1d9a-3196-4452-b1ca-9da18788d29f",
   "metadata": {},
   "source": [
    "# 2. Creating a signature matrix in latent space "
   ]
  },
  {
   "cell_type": "markdown",
   "id": "9b7d6c2e-4977-4ace-8e81-6e6e8acc67b8",
   "metadata": {},
   "source": [
    "## 2.0 Latent space representation"
   ]
  },
  {
   "cell_type": "code",
   "execution_count": null,
   "id": "3b5e3c1b-3335-4fd8-8b6f-3e7235dec701",
   "metadata": {},
   "outputs": [],
   "source": [
    "adata = make_embeddings(\n",
    "    adata,\n",
    "    model_dict,\n",
    "    show_umap=False,\n",
    "    show_pca=False,\n",
    ")"
   ]
  },
  {
   "cell_type": "code",
   "execution_count": null,
   "id": "89e4656f-e296-4e91-82e1-31aa3865dcec",
   "metadata": {},
   "outputs": [],
   "source": []
  },
  {
   "cell_type": "markdown",
   "id": "b1b34846-5b6c-4b35-a07a-37420a5da492",
   "metadata": {},
   "source": [
    "## 2.1 Effect of averaging multiple latent representations of single cells "
   ]
  },
  {
   "cell_type": "code",
   "execution_count": null,
   "id": "0c865d27-31d4-485a-812c-693e78b37f89",
   "metadata": {},
   "outputs": [],
   "source": [
    "stability_of_embeddings(\n",
    "    adata_path,\n",
    "    model_paths,\n",
    "    model_names = None,\n",
    "    use_gpu = True,\n",
    "    sc_per_pseudobulk = 1000,\n",
    "    repeats = 10,\n",
    "    cell_type_column = \"cell_types_grouped\",\n",
    "    count_key = \"counts\",\n",
    ")"
   ]
  },
  {
   "cell_type": "markdown",
   "id": "025d310f-95fd-4783-b079-54f01651368b",
   "metadata": {},
   "source": [
    "## 2.3 Testing signature "
   ]
  },
  {
   "cell_type": "code",
   "execution_count": null,
   "id": "85829b99-5159-4f94-b6fc-cc31de9227a7",
   "metadata": {},
   "outputs": [],
   "source": [
    "df = make_experiment_dataframe(\n",
    "    adata_path,\n",
    "    model_paths,\n",
    "    model_names= None,\n",
    "    use_gpu = True,\n",
    "    sc_per_purified_pseudobulk = 1000,\n",
    "    sc_per_evaluation_pseudobulk = 12000,\n",
    "    cell_type_column= \"cell_types_grouped\",\n",
    "    count_key = \"counts\",\n",
    "    pseudobulks_per_experiment = 10,\n",
    "    max_non_zero = None,\n",
    ")"
   ]
  },
  {
   "cell_type": "code",
   "execution_count": null,
   "id": "6fd026fb-e65d-481d-976e-b8dd99454971",
   "metadata": {},
   "outputs": [],
   "source": [
    "make_figure_from_dataframe(df, n_classes= 6)"
   ]
  },
  {
   "cell_type": "code",
   "execution_count": null,
   "id": "db5fec70-4177-4ecc-902c-d2461bca6546",
   "metadata": {},
   "outputs": [],
   "source": []
  }
 ],
 "metadata": {
  "kernelspec": {
   "display_name": "deepdeconv2",
   "language": "python",
   "name": "deepdeconv2"
  },
  "language_info": {
   "codemirror_mode": {
    "name": "ipython",
    "version": 3
   },
   "file_extension": ".py",
   "mimetype": "text/x-python",
   "name": "python",
   "nbconvert_exporter": "python",
   "pygments_lexer": "ipython3",
   "version": "3.9.17"
  }
 },
 "nbformat": 4,
 "nbformat_minor": 5
}
