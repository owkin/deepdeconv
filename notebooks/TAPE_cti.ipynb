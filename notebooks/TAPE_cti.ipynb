{
 "cells": [
  {
   "cell_type": "markdown",
   "metadata": {},
   "source": [
    "# TAPE Deconvolution"
   ]
  },
  {
   "cell_type": "code",
   "execution_count": 5,
   "metadata": {},
   "outputs": [],
   "source": [
    "from benchmark_utils import (\n",
    "    preprocess_scrna,\n",
    "    create_uniform_pseudobulk_dataset,\n",
    "    create_signature,\n",
    "    add_cell_types_grouped,\n",
    ")\n",
    "\n",
    "from TAPE import Deconvolution\n",
    "from TAPE.deconvolution import ScadenDeconvolution\n",
    "\n",
    "import anndata as ad\n",
    "import pandas as pd\n",
    "import numpy as np\n",
    "import scanpy as sc"
   ]
  },
  {
   "cell_type": "code",
   "execution_count": 6,
   "metadata": {},
   "outputs": [],
   "source": [
    "from constants import (\n",
    "    SIGNATURE_CHOICE,\n",
    "    BENCHMARK_CELL_TYPE_GROUP,\n",
    "    N_CELLS,\n",
    ")"
   ]
  },
  {
   "cell_type": "code",
   "execution_count": 7,
   "metadata": {},
   "outputs": [
    {
     "data": {
      "text/plain": [
       "AnnData object with n_obs × n_vars = 329762 × 3000\n",
       "    obs: 'donor_id', 'Predicted_labels_CellTypist', 'Majority_voting_CellTypist', 'Majority_voting_CellTypist_high', 'Manually_curated_celltype', 'assay_ontology_term_id', 'cell_type_ontology_term_id', 'development_stage_ontology_term_id', 'disease_ontology_term_id', 'self_reported_ethnicity_ontology_term_id', 'is_primary_data', 'organism_ontology_term_id', 'sex_ontology_term_id', 'tissue_ontology_term_id', 'suspension_type', 'cell_type', 'assay', 'disease', 'organism', 'sex', 'tissue', 'self_reported_ethnicity', 'development_stage'\n",
       "    var: 'gene_symbols', 'feature_is_filtered', 'feature_name', 'feature_reference', 'feature_biotype', 'n_counts', 'highly_variable', 'highly_variable_rank', 'means', 'variances', 'variances_norm', 'highly_variable_nbatches'\n",
       "    uns: 'cell_type_ontology_term_id_colors', 'default_embedding', 'schema_version', 'sex_ontology_term_id_colors', 'title', 'hvg'\n",
       "    obsm: 'X_umap'\n",
       "    layers: 'counts', 'relative_counts'"
      ]
     },
     "execution_count": 7,
     "metadata": {},
     "output_type": "execute_result"
    }
   ],
   "source": [
    "adata = sc.read(\"/home/owkin/project/cti/cti_adata.h5ad\")\n",
    "preprocess_scrna(adata,\n",
    "                  keep_genes=3000,\n",
    "                  log=False,\n",
    "                  batch_key=\"donor_id\")\n",
    "\n",
    "adata"
   ]
  },
  {
   "cell_type": "code",
   "execution_count": 8,
   "metadata": {},
   "outputs": [
    {
     "data": {
      "text/plain": [
       "((136970, 3000), (136970, 3000))"
      ]
     },
     "execution_count": 8,
     "metadata": {},
     "output_type": "execute_result"
    }
   ],
   "source": [
    "# %% add cell types groups and split train/test\n",
    "adata, train_test_index = add_cell_types_grouped(adata, \n",
    "                                                 BENCHMARK_CELL_TYPE_GROUP)\n",
    "adata_train = adata[train_test_index[\"Train index\"]]\n",
    "adata_test = adata[train_test_index[\"Test index\"]]\n",
    "\n",
    "adata_train.shape, adata_test.shape"
   ]
  },
  {
   "cell_type": "code",
   "execution_count": 9,
   "metadata": {},
   "outputs": [
    {
     "data": {
      "text/plain": [
       "(579, 9)"
      ]
     },
     "execution_count": 9,
     "metadata": {},
     "output_type": "execute_result"
    }
   ],
   "source": [
    "signature, intersection = create_signature(\n",
    "    adata,\n",
    "    signature_type=\"crosstissue_granular_updated\",\n",
    ")\n",
    "\n",
    "signature.shape"
   ]
  },
  {
   "cell_type": "code",
   "execution_count": 10,
   "metadata": {},
   "outputs": [],
   "source": [
    "signature, intersection = create_signature(\n",
    "    adata,\n",
    "    signature_type=SIGNATURE_CHOICE,\n",
    ")\n",
    "\n",
    "adata, train_test_index = add_cell_types_grouped(adata, BENCHMARK_CELL_TYPE_GROUP)\n",
    "adata_train = adata[train_test_index[\"Train index\"]]\n",
    "adata_test = adata[train_test_index[\"Test index\"]]"
   ]
  },
  {
   "cell_type": "code",
   "execution_count": 11,
   "metadata": {},
   "outputs": [
    {
     "data": {
      "text/plain": [
       "AnnData object with n_obs × n_vars = 329762 × 3000\n",
       "    obs: 'donor_id', 'Predicted_labels_CellTypist', 'Majority_voting_CellTypist', 'Majority_voting_CellTypist_high', 'Manually_curated_celltype', 'assay_ontology_term_id', 'cell_type_ontology_term_id', 'development_stage_ontology_term_id', 'disease_ontology_term_id', 'self_reported_ethnicity_ontology_term_id', 'is_primary_data', 'organism_ontology_term_id', 'sex_ontology_term_id', 'tissue_ontology_term_id', 'suspension_type', 'cell_type', 'assay', 'disease', 'organism', 'sex', 'tissue', 'self_reported_ethnicity', 'development_stage', 'cell_types_grouped'\n",
       "    var: 'gene_symbols', 'feature_is_filtered', 'feature_name', 'feature_reference', 'feature_biotype', 'n_counts', 'highly_variable', 'highly_variable_rank', 'means', 'variances', 'variances_norm', 'highly_variable_nbatches'\n",
       "    uns: 'cell_type_ontology_term_id_colors', 'default_embedding', 'schema_version', 'sex_ontology_term_id_colors', 'title', 'hvg'\n",
       "    obsm: 'X_umap'\n",
       "    layers: 'counts', 'relative_counts'"
      ]
     },
     "execution_count": 11,
     "metadata": {},
     "output_type": "execute_result"
    }
   ],
   "source": [
    "adata"
   ]
  },
  {
   "cell_type": "code",
   "execution_count": 12,
   "metadata": {},
   "outputs": [
    {
     "name": "stderr",
     "output_type": "stream",
     "text": [
      "\u001b[32m2023-12-20 09:51:12.382\u001b[0m | \u001b[1mINFO    \u001b[0m | \u001b[36mbenchmark_utils.dataset_utils\u001b[0m:\u001b[36mcreate_uniform_pseudobulk_dataset\u001b[0m:\u001b[36m155\u001b[0m - \u001b[1mCreating uniform pseudobulk dataset...\u001b[0m\n"
     ]
    }
   ],
   "source": [
    "adata_pseudobulk_test, df_proportions_test = create_uniform_pseudobulk_dataset(\n",
    "    adata_test,\n",
    "    n_sample = 3000,\n",
    "    n_cells = N_CELLS,\n",
    ")"
   ]
  },
  {
   "cell_type": "code",
   "execution_count": 13,
   "metadata": {},
   "outputs": [
    {
     "data": {
      "text/html": [
       "<div>\n",
       "<style scoped>\n",
       "    .dataframe tbody tr th:only-of-type {\n",
       "        vertical-align: middle;\n",
       "    }\n",
       "\n",
       "    .dataframe tbody tr th {\n",
       "        vertical-align: top;\n",
       "    }\n",
       "\n",
       "    .dataframe thead th {\n",
       "        text-align: right;\n",
       "    }\n",
       "</style>\n",
       "<table border=\"1\" class=\"dataframe\">\n",
       "  <thead>\n",
       "    <tr style=\"text-align: right;\">\n",
       "      <th>Genes</th>\n",
       "      <th>ENSG00000124731</th>\n",
       "      <th>ENSG00000166523</th>\n",
       "      <th>ENSG00000120594</th>\n",
       "      <th>ENSG00000167476</th>\n",
       "      <th>ENSG00000105246</th>\n",
       "      <th>ENSG00000117281</th>\n",
       "      <th>ENSG00000138061</th>\n",
       "      <th>ENSG00000171611</th>\n",
       "      <th>ENSG00000109861</th>\n",
       "      <th>ENSG00000117984</th>\n",
       "      <th>...</th>\n",
       "      <th>ENSG00000227507</th>\n",
       "      <th>ENSG00000072694</th>\n",
       "      <th>ENSG00000165168</th>\n",
       "      <th>ENSG00000172236</th>\n",
       "      <th>ENSG00000125844</th>\n",
       "      <th>ENSG00000095303</th>\n",
       "      <th>ENSG00000142634</th>\n",
       "      <th>ENSG00000196141</th>\n",
       "      <th>ENSG00000118513</th>\n",
       "      <th>ENSG00000166825</th>\n",
       "    </tr>\n",
       "  </thead>\n",
       "  <tbody>\n",
       "    <tr>\n",
       "      <th>CD4T</th>\n",
       "      <td>0.005198</td>\n",
       "      <td>0.001013</td>\n",
       "      <td>0.002633</td>\n",
       "      <td>0.004433</td>\n",
       "      <td>0.000653</td>\n",
       "      <td>0.024394</td>\n",
       "      <td>0.000743</td>\n",
       "      <td>0.000248</td>\n",
       "      <td>0.318721</td>\n",
       "      <td>0.382632</td>\n",
       "      <td>...</td>\n",
       "      <td>4.452371</td>\n",
       "      <td>0.002588</td>\n",
       "      <td>0.009587</td>\n",
       "      <td>0.002048</td>\n",
       "      <td>0.103652</td>\n",
       "      <td>0.001598</td>\n",
       "      <td>0.383824</td>\n",
       "      <td>0.070324</td>\n",
       "      <td>0.018228</td>\n",
       "      <td>0.011387</td>\n",
       "    </tr>\n",
       "    <tr>\n",
       "      <th>CD8T</th>\n",
       "      <td>0.008085</td>\n",
       "      <td>0.001386</td>\n",
       "      <td>0.004323</td>\n",
       "      <td>0.006534</td>\n",
       "      <td>0.000627</td>\n",
       "      <td>0.529024</td>\n",
       "      <td>0.000825</td>\n",
       "      <td>0.00033</td>\n",
       "      <td>0.774511</td>\n",
       "      <td>0.662509</td>\n",
       "      <td>...</td>\n",
       "      <td>1.106788</td>\n",
       "      <td>0.013431</td>\n",
       "      <td>0.013761</td>\n",
       "      <td>0.003003</td>\n",
       "      <td>0.131604</td>\n",
       "      <td>0.001188</td>\n",
       "      <td>0.780682</td>\n",
       "      <td>0.052305</td>\n",
       "      <td>0.008283</td>\n",
       "      <td>0.041778</td>\n",
       "    </tr>\n",
       "    <tr>\n",
       "      <th>B</th>\n",
       "      <td>0.005222</td>\n",
       "      <td>0.000848</td>\n",
       "      <td>0.001919</td>\n",
       "      <td>0.009998</td>\n",
       "      <td>0.049277</td>\n",
       "      <td>0.001919</td>\n",
       "      <td>0.000536</td>\n",
       "      <td>0.000491</td>\n",
       "      <td>0.194519</td>\n",
       "      <td>0.23835</td>\n",
       "      <td>...</td>\n",
       "      <td>5.821818</td>\n",
       "      <td>0.453223</td>\n",
       "      <td>0.629441</td>\n",
       "      <td>0.000714</td>\n",
       "      <td>0.067622</td>\n",
       "      <td>0.045037</td>\n",
       "      <td>0.34476</td>\n",
       "      <td>0.012141</td>\n",
       "      <td>0.005803</td>\n",
       "      <td>0.002678</td>\n",
       "    </tr>\n",
       "    <tr>\n",
       "      <th>Plasma</th>\n",
       "      <td>0.038346</td>\n",
       "      <td>0.004762</td>\n",
       "      <td>0.018546</td>\n",
       "      <td>2.285965</td>\n",
       "      <td>0.033835</td>\n",
       "      <td>0.013283</td>\n",
       "      <td>0.002506</td>\n",
       "      <td>0.010276</td>\n",
       "      <td>1.105263</td>\n",
       "      <td>1.88797</td>\n",
       "      <td>...</td>\n",
       "      <td>0.130075</td>\n",
       "      <td>0.758145</td>\n",
       "      <td>0.311779</td>\n",
       "      <td>0.017794</td>\n",
       "      <td>6.521303</td>\n",
       "      <td>0.014286</td>\n",
       "      <td>0.947619</td>\n",
       "      <td>0.351128</td>\n",
       "      <td>0.037845</td>\n",
       "      <td>0.0401</td>\n",
       "    </tr>\n",
       "    <tr>\n",
       "      <th>DC</th>\n",
       "      <td>0.351897</td>\n",
       "      <td>0.118644</td>\n",
       "      <td>0.920904</td>\n",
       "      <td>0.011299</td>\n",
       "      <td>0.697337</td>\n",
       "      <td>0.002421</td>\n",
       "      <td>0.071832</td>\n",
       "      <td>0.72155</td>\n",
       "      <td>2.567393</td>\n",
       "      <td>2.186441</td>\n",
       "      <td>...</td>\n",
       "      <td>4.632768</td>\n",
       "      <td>1.125101</td>\n",
       "      <td>1.702179</td>\n",
       "      <td>0.023406</td>\n",
       "      <td>1.765133</td>\n",
       "      <td>0.213075</td>\n",
       "      <td>3.33979</td>\n",
       "      <td>0.736885</td>\n",
       "      <td>0.093624</td>\n",
       "      <td>0.583535</td>\n",
       "    </tr>\n",
       "    <tr>\n",
       "      <th>NK</th>\n",
       "      <td>0.005696</td>\n",
       "      <td>0.001492</td>\n",
       "      <td>0.015801</td>\n",
       "      <td>0.004137</td>\n",
       "      <td>0.002374</td>\n",
       "      <td>0.734436</td>\n",
       "      <td>0.001017</td>\n",
       "      <td>0.000136</td>\n",
       "      <td>1.202496</td>\n",
       "      <td>1.77933</td>\n",
       "      <td>...</td>\n",
       "      <td>0.310728</td>\n",
       "      <td>0.059677</td>\n",
       "      <td>0.011732</td>\n",
       "      <td>0.003594</td>\n",
       "      <td>0.368778</td>\n",
       "      <td>0.002984</td>\n",
       "      <td>2.67286</td>\n",
       "      <td>0.039604</td>\n",
       "      <td>0.001221</td>\n",
       "      <td>0.012003</td>\n",
       "    </tr>\n",
       "    <tr>\n",
       "      <th>Mono</th>\n",
       "      <td>0.992748</td>\n",
       "      <td>0.694824</td>\n",
       "      <td>1.25375</td>\n",
       "      <td>0.006263</td>\n",
       "      <td>0.027196</td>\n",
       "      <td>0.003791</td>\n",
       "      <td>1.016153</td>\n",
       "      <td>0.005357</td>\n",
       "      <td>1.223339</td>\n",
       "      <td>8.797264</td>\n",
       "      <td>...</td>\n",
       "      <td>0.13763</td>\n",
       "      <td>0.120158</td>\n",
       "      <td>5.75581</td>\n",
       "      <td>0.007994</td>\n",
       "      <td>0.685841</td>\n",
       "      <td>0.055382</td>\n",
       "      <td>3.139443</td>\n",
       "      <td>0.103099</td>\n",
       "      <td>0.008159</td>\n",
       "      <td>1.21996</td>\n",
       "    </tr>\n",
       "    <tr>\n",
       "      <th>Mast</th>\n",
       "      <td>0.010942</td>\n",
       "      <td>0.006687</td>\n",
       "      <td>0.131307</td>\n",
       "      <td>0.003647</td>\n",
       "      <td>0.005471</td>\n",
       "      <td>0.007903</td>\n",
       "      <td>0.004255</td>\n",
       "      <td>0.0</td>\n",
       "      <td>0.192097</td>\n",
       "      <td>3.369605</td>\n",
       "      <td>...</td>\n",
       "      <td>0.064438</td>\n",
       "      <td>0.003647</td>\n",
       "      <td>0.017021</td>\n",
       "      <td>39.819453</td>\n",
       "      <td>0.43769</td>\n",
       "      <td>0.736778</td>\n",
       "      <td>1.106991</td>\n",
       "      <td>0.40304</td>\n",
       "      <td>0.2</td>\n",
       "      <td>0.027964</td>\n",
       "    </tr>\n",
       "    <tr>\n",
       "      <th>Tregs</th>\n",
       "      <td>0.004447</td>\n",
       "      <td>0.000494</td>\n",
       "      <td>0.003788</td>\n",
       "      <td>0.009881</td>\n",
       "      <td>0.032115</td>\n",
       "      <td>0.003623</td>\n",
       "      <td>0.000329</td>\n",
       "      <td>0.000659</td>\n",
       "      <td>0.711133</td>\n",
       "      <td>0.502635</td>\n",
       "      <td>...</td>\n",
       "      <td>4.954381</td>\n",
       "      <td>0.003294</td>\n",
       "      <td>0.009881</td>\n",
       "      <td>0.002141</td>\n",
       "      <td>0.112813</td>\n",
       "      <td>0.000988</td>\n",
       "      <td>0.344697</td>\n",
       "      <td>0.200758</td>\n",
       "      <td>0.08251</td>\n",
       "      <td>0.005105</td>\n",
       "    </tr>\n",
       "  </tbody>\n",
       "</table>\n",
       "<p>9 rows × 579 columns</p>\n",
       "</div>"
      ],
      "text/plain": [
       "Genes  ENSG00000124731 ENSG00000166523 ENSG00000120594 ENSG00000167476  \\\n",
       "CD4T          0.005198        0.001013        0.002633        0.004433   \n",
       "CD8T          0.008085        0.001386        0.004323        0.006534   \n",
       "B             0.005222        0.000848        0.001919        0.009998   \n",
       "Plasma        0.038346        0.004762        0.018546        2.285965   \n",
       "DC            0.351897        0.118644        0.920904        0.011299   \n",
       "NK            0.005696        0.001492        0.015801        0.004137   \n",
       "Mono          0.992748        0.694824         1.25375        0.006263   \n",
       "Mast          0.010942        0.006687        0.131307        0.003647   \n",
       "Tregs         0.004447        0.000494        0.003788        0.009881   \n",
       "\n",
       "Genes  ENSG00000105246 ENSG00000117281 ENSG00000138061 ENSG00000171611  \\\n",
       "CD4T          0.000653        0.024394        0.000743        0.000248   \n",
       "CD8T          0.000627        0.529024        0.000825         0.00033   \n",
       "B             0.049277        0.001919        0.000536        0.000491   \n",
       "Plasma        0.033835        0.013283        0.002506        0.010276   \n",
       "DC            0.697337        0.002421        0.071832         0.72155   \n",
       "NK            0.002374        0.734436        0.001017        0.000136   \n",
       "Mono          0.027196        0.003791        1.016153        0.005357   \n",
       "Mast          0.005471        0.007903        0.004255             0.0   \n",
       "Tregs         0.032115        0.003623        0.000329        0.000659   \n",
       "\n",
       "Genes  ENSG00000109861 ENSG00000117984  ... ENSG00000227507 ENSG00000072694  \\\n",
       "CD4T          0.318721        0.382632  ...        4.452371        0.002588   \n",
       "CD8T          0.774511        0.662509  ...        1.106788        0.013431   \n",
       "B             0.194519         0.23835  ...        5.821818        0.453223   \n",
       "Plasma        1.105263         1.88797  ...        0.130075        0.758145   \n",
       "DC            2.567393        2.186441  ...        4.632768        1.125101   \n",
       "NK            1.202496         1.77933  ...        0.310728        0.059677   \n",
       "Mono          1.223339        8.797264  ...         0.13763        0.120158   \n",
       "Mast          0.192097        3.369605  ...        0.064438        0.003647   \n",
       "Tregs         0.711133        0.502635  ...        4.954381        0.003294   \n",
       "\n",
       "Genes  ENSG00000165168 ENSG00000172236 ENSG00000125844 ENSG00000095303  \\\n",
       "CD4T          0.009587        0.002048        0.103652        0.001598   \n",
       "CD8T          0.013761        0.003003        0.131604        0.001188   \n",
       "B             0.629441        0.000714        0.067622        0.045037   \n",
       "Plasma        0.311779        0.017794        6.521303        0.014286   \n",
       "DC            1.702179        0.023406        1.765133        0.213075   \n",
       "NK            0.011732        0.003594        0.368778        0.002984   \n",
       "Mono           5.75581        0.007994        0.685841        0.055382   \n",
       "Mast          0.017021       39.819453         0.43769        0.736778   \n",
       "Tregs         0.009881        0.002141        0.112813        0.000988   \n",
       "\n",
       "Genes  ENSG00000142634 ENSG00000196141 ENSG00000118513 ENSG00000166825  \n",
       "CD4T          0.383824        0.070324        0.018228        0.011387  \n",
       "CD8T          0.780682        0.052305        0.008283        0.041778  \n",
       "B              0.34476        0.012141        0.005803        0.002678  \n",
       "Plasma        0.947619        0.351128        0.037845          0.0401  \n",
       "DC             3.33979        0.736885        0.093624        0.583535  \n",
       "NK             2.67286        0.039604        0.001221        0.012003  \n",
       "Mono          3.139443        0.103099        0.008159         1.21996  \n",
       "Mast          1.106991         0.40304             0.2        0.027964  \n",
       "Tregs         0.344697        0.200758         0.08251        0.005105  \n",
       "\n",
       "[9 rows x 579 columns]"
      ]
     },
     "execution_count": 13,
     "metadata": {},
     "output_type": "execute_result"
    }
   ],
   "source": [
    "signature.T"
   ]
  },
  {
   "cell_type": "code",
   "execution_count": 14,
   "metadata": {},
   "outputs": [
    {
     "data": {
      "text/plain": [
       "View of AnnData object with n_obs × n_vars = 136970 × 3000\n",
       "    obs: 'donor_id', 'Predicted_labels_CellTypist', 'Majority_voting_CellTypist', 'Majority_voting_CellTypist_high', 'Manually_curated_celltype', 'assay_ontology_term_id', 'cell_type_ontology_term_id', 'development_stage_ontology_term_id', 'disease_ontology_term_id', 'self_reported_ethnicity_ontology_term_id', 'is_primary_data', 'organism_ontology_term_id', 'sex_ontology_term_id', 'tissue_ontology_term_id', 'suspension_type', 'cell_type', 'assay', 'disease', 'organism', 'sex', 'tissue', 'self_reported_ethnicity', 'development_stage', 'cell_types_grouped'\n",
       "    var: 'gene_symbols', 'feature_is_filtered', 'feature_name', 'feature_reference', 'feature_biotype', 'n_counts', 'highly_variable', 'highly_variable_rank', 'means', 'variances', 'variances_norm', 'highly_variable_nbatches'\n",
       "    uns: 'cell_type_ontology_term_id_colors', 'default_embedding', 'schema_version', 'sex_ontology_term_id_colors', 'title', 'hvg'\n",
       "    obsm: 'X_umap'\n",
       "    layers: 'counts', 'relative_counts'"
      ]
     },
     "execution_count": 14,
     "metadata": {},
     "output_type": "execute_result"
    }
   ],
   "source": [
    "adata_train"
   ]
  },
  {
   "cell_type": "code",
   "execution_count": null,
   "metadata": {},
   "outputs": [],
   "source": [
    "SignatureMatrix, CellFractionPrediction = \\\n",
    "    Deconvolution(signature.T, pseudobulk, sep='\\t', scaler='mms',\n",
    "                  datatype='counts', genelenfile=None,\n",
    "                  mode='overall', adaptive=True, variance_threshold=0.98,\n",
    "                  save_model_name=None,\n",
    "                  batch_size=128, epochs=128, seed=1)"
   ]
  },
  {
   "cell_type": "code",
   "execution_count": null,
   "metadata": {},
   "outputs": [],
   "source": [
    "SignatureMatrix"
   ]
  },
  {
   "cell_type": "code",
   "execution_count": null,
   "metadata": {},
   "outputs": [],
   "source": [
    "CellFractionPrediction"
   ]
  },
  {
   "cell_type": "code",
   "execution_count": null,
   "metadata": {},
   "outputs": [],
   "source": [
    "df_proportions = pd.DataFrame(np.stack([proportions[i].values for i in range(len(proportions))]),\n",
    "                                    index=pseudobulk.index,\n",
    "                                    columns=list(proportions[0].index))"
   ]
  },
  {
   "cell_type": "code",
   "execution_count": null,
   "metadata": {},
   "outputs": [],
   "source": [
    "df_proportions.mean(axis=0)"
   ]
  },
  {
   "cell_type": "code",
   "execution_count": null,
   "metadata": {},
   "outputs": [],
   "source": [
    "corr_tape = compute_correlations(df_proportions, CellFractionPrediction)"
   ]
  },
  {
   "cell_type": "code",
   "execution_count": null,
   "metadata": {},
   "outputs": [],
   "source": [
    "corr_tape[\"correlations\"].mean()"
   ]
  },
  {
   "cell_type": "code",
   "execution_count": null,
   "metadata": {},
   "outputs": [],
   "source": [
    "Pred = ScadenDeconvolution(signature, pseudobulk, sep='\\t',\n",
    "                           batch_size=128, epochs=128)"
   ]
  },
  {
   "cell_type": "code",
   "execution_count": null,
   "metadata": {},
   "outputs": [],
   "source": [
    "genes = np.intersect1d(pseudobulk.columns, signature.index)\n",
    "\n",
    "input_data = pseudobulk.loc[:, genes].T\n",
    "\n",
    "SignatureMatrix.shape, signature.shape, pseudobulk.shape, input_data.shape"
   ]
  },
  {
   "cell_type": "code",
   "execution_count": null,
   "metadata": {},
   "outputs": [],
   "source": [
    "deconv_results = perform_nnls(signature, input_data.T)"
   ]
  },
  {
   "cell_type": "code",
   "execution_count": null,
   "metadata": {},
   "outputs": [],
   "source": [
    "# import pandas as pd\n",
    "\n",
    "# df = pd.read_csv(\"/home/owkin/Tabula_Sapiens_metadata.csv\", index_col=0)\n",
    "# df = df[df[\"method\"]==\"10X\"]\n",
    "# # (df[\"cell_ontology_class\"].value_counts(normalize=True).to_frame() * 100).to_csv(\"TS_cell_freq.csv\")\n",
    "# columns_to_combine = [\"organ_tissue\", \"cell_ontology_class\"]\n",
    "# combination_frequencies = df.groupby(columns_to_combine).size().reset_index(name='frequency')\n",
    "# total_combinations = len(df)\n",
    "# combination_frequencies['normalized_frequency'] = combination_frequencies['frequency'] / total_combinations\n",
    "# combination_frequencies.to_csv(\"TS_cell_organ_combo_freq.csv\")"
   ]
  }
 ],
 "metadata": {
  "kernelspec": {
   "display_name": "scvi",
   "language": "python",
   "name": "python3"
  },
  "language_info": {
   "codemirror_mode": {
    "name": "ipython",
    "version": 3
   },
   "file_extension": ".py",
   "mimetype": "text/x-python",
   "name": "python",
   "nbconvert_exporter": "python",
   "pygments_lexer": "ipython3",
   "version": "3.9.17"
  },
  "orig_nbformat": 4
 },
 "nbformat": 4,
 "nbformat_minor": 2
}
