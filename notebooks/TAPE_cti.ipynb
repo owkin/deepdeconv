{
 "cells": [
  {
   "cell_type": "markdown",
   "metadata": {},
   "source": [
    "# TAPE Deconvolution"
   ]
  },
  {
   "cell_type": "code",
   "execution_count": 40,
   "metadata": {},
   "outputs": [],
   "source": [
    "from benchmark_utils import (\n",
    "    preprocess_scrna,\n",
    "    create_uniform_pseudobulk_dataset,\n",
    "    create_signature,\n",
    "    add_cell_types_grouped,\n",
    ")\n",
    "\n",
    "from TAPE import Deconvolution\n",
    "from TAPE.deconvolution import ScadenDeconvolution\n",
    "\n",
    "import anndata as ad\n",
    "import pandas as pd\n",
    "import numpy as np\n",
    "import scanpy as sc\n",
    "\n",
    "from constants import (\n",
    "    SIGNATURE_CHOICE,\n",
    "    BENCHMARK_CELL_TYPE_GROUP,\n",
    "    N_CELLS,\n",
    ")"
   ]
  },
  {
   "cell_type": "markdown",
   "metadata": {},
   "source": [
    "Load and preprocess scRNAseq data."
   ]
  },
  {
   "cell_type": "code",
   "execution_count": 28,
   "metadata": {},
   "outputs": [
    {
     "data": {
      "text/plain": [
       "AnnData object with n_obs × n_vars = 329762 × 3000\n",
       "    obs: 'donor_id', 'Predicted_labels_CellTypist', 'Majority_voting_CellTypist', 'Majority_voting_CellTypist_high', 'Manually_curated_celltype', 'assay_ontology_term_id', 'cell_type_ontology_term_id', 'development_stage_ontology_term_id', 'disease_ontology_term_id', 'self_reported_ethnicity_ontology_term_id', 'is_primary_data', 'organism_ontology_term_id', 'sex_ontology_term_id', 'tissue_ontology_term_id', 'suspension_type', 'cell_type', 'assay', 'disease', 'organism', 'sex', 'tissue', 'self_reported_ethnicity', 'development_stage'\n",
       "    var: 'gene_symbols', 'feature_is_filtered', 'feature_name', 'feature_reference', 'feature_biotype', 'n_counts', 'highly_variable', 'highly_variable_rank', 'means', 'variances', 'variances_norm', 'highly_variable_nbatches'\n",
       "    uns: 'cell_type_ontology_term_id_colors', 'default_embedding', 'schema_version', 'sex_ontology_term_id_colors', 'title', 'hvg'\n",
       "    obsm: 'X_umap'\n",
       "    layers: 'counts', 'relative_counts'"
      ]
     },
     "execution_count": 28,
     "metadata": {},
     "output_type": "execute_result"
    }
   ],
   "source": [
    "adata = sc.read(\"/home/owkin/project/cti/cti_adata.h5ad\")\n",
    "preprocess_scrna(adata,\n",
    "                  keep_genes=3000,\n",
    "                  log=False,\n",
    "                  batch_key=\"donor_id\")\n",
    "\n",
    "adata"
   ]
  },
  {
   "cell_type": "markdown",
   "metadata": {},
   "source": [
    "Create signature matrix & split dataset "
   ]
  },
  {
   "cell_type": "code",
   "execution_count": 58,
   "metadata": {},
   "outputs": [
    {
     "data": {
      "text/html": [
       "<div>\n",
       "<style scoped>\n",
       "    .dataframe tbody tr th:only-of-type {\n",
       "        vertical-align: middle;\n",
       "    }\n",
       "\n",
       "    .dataframe tbody tr th {\n",
       "        vertical-align: top;\n",
       "    }\n",
       "\n",
       "    .dataframe thead th {\n",
       "        text-align: right;\n",
       "    }\n",
       "</style>\n",
       "<table border=\"1\" class=\"dataframe\">\n",
       "  <thead>\n",
       "    <tr style=\"text-align: right;\">\n",
       "      <th></th>\n",
       "      <th>CD4T</th>\n",
       "      <th>CD8T</th>\n",
       "      <th>B</th>\n",
       "      <th>Plasma</th>\n",
       "      <th>DC</th>\n",
       "      <th>NK</th>\n",
       "      <th>Mono</th>\n",
       "      <th>Mast</th>\n",
       "      <th>Tregs</th>\n",
       "    </tr>\n",
       "    <tr>\n",
       "      <th>Genes</th>\n",
       "      <th></th>\n",
       "      <th></th>\n",
       "      <th></th>\n",
       "      <th></th>\n",
       "      <th></th>\n",
       "      <th></th>\n",
       "      <th></th>\n",
       "      <th></th>\n",
       "      <th></th>\n",
       "    </tr>\n",
       "  </thead>\n",
       "  <tbody>\n",
       "    <tr>\n",
       "      <th>ENSG00000100300</th>\n",
       "      <td>0.692914</td>\n",
       "      <td>0.402336</td>\n",
       "      <td>0.316685</td>\n",
       "      <td>1.236341</td>\n",
       "      <td>2.597256</td>\n",
       "      <td>0.700936</td>\n",
       "      <td>8.236938</td>\n",
       "      <td>1.285106</td>\n",
       "      <td>0.791502</td>\n",
       "    </tr>\n",
       "    <tr>\n",
       "      <th>ENSG00000105374</th>\n",
       "      <td>0.140874</td>\n",
       "      <td>5.768637</td>\n",
       "      <td>0.022541</td>\n",
       "      <td>0.102757</td>\n",
       "      <td>0.701372</td>\n",
       "      <td>20.21416</td>\n",
       "      <td>0.539641</td>\n",
       "      <td>0.094833</td>\n",
       "      <td>0.045784</td>\n",
       "    </tr>\n",
       "    <tr>\n",
       "      <th>ENSG00000160593</th>\n",
       "      <td>0.169656</td>\n",
       "      <td>0.273075</td>\n",
       "      <td>0.003437</td>\n",
       "      <td>0.014536</td>\n",
       "      <td>3.140436</td>\n",
       "      <td>0.036484</td>\n",
       "      <td>0.979562</td>\n",
       "      <td>0.009119</td>\n",
       "      <td>0.155303</td>\n",
       "    </tr>\n",
       "    <tr>\n",
       "      <th>ENSG00000167995</th>\n",
       "      <td>0.066881</td>\n",
       "      <td>0.058113</td>\n",
       "      <td>0.08802</td>\n",
       "      <td>0.030576</td>\n",
       "      <td>0.33414</td>\n",
       "      <td>0.055134</td>\n",
       "      <td>0.305752</td>\n",
       "      <td>0.071125</td>\n",
       "      <td>0.061924</td>\n",
       "    </tr>\n",
       "    <tr>\n",
       "      <th>ENSG00000137198</th>\n",
       "      <td>0.003263</td>\n",
       "      <td>0.002838</td>\n",
       "      <td>0.003526</td>\n",
       "      <td>0.032331</td>\n",
       "      <td>0.064568</td>\n",
       "      <td>0.009969</td>\n",
       "      <td>0.025383</td>\n",
       "      <td>0.377508</td>\n",
       "      <td>0.001482</td>\n",
       "    </tr>\n",
       "    <tr>\n",
       "      <th>...</th>\n",
       "      <td>...</td>\n",
       "      <td>...</td>\n",
       "      <td>...</td>\n",
       "      <td>...</td>\n",
       "      <td>...</td>\n",
       "      <td>...</td>\n",
       "      <td>...</td>\n",
       "      <td>...</td>\n",
       "      <td>...</td>\n",
       "    </tr>\n",
       "    <tr>\n",
       "      <th>ENSG00000196975</th>\n",
       "      <td>0.040529</td>\n",
       "      <td>0.086394</td>\n",
       "      <td>0.075254</td>\n",
       "      <td>0.105013</td>\n",
       "      <td>0.500404</td>\n",
       "      <td>0.16357</td>\n",
       "      <td>0.38899</td>\n",
       "      <td>0.702736</td>\n",
       "      <td>0.063076</td>\n",
       "    </tr>\n",
       "    <tr>\n",
       "      <th>ENSG00000125735</th>\n",
       "      <td>0.142809</td>\n",
       "      <td>0.364683</td>\n",
       "      <td>0.005624</td>\n",
       "      <td>0.006015</td>\n",
       "      <td>0.053269</td>\n",
       "      <td>0.301912</td>\n",
       "      <td>0.052909</td>\n",
       "      <td>0.027964</td>\n",
       "      <td>0.068347</td>\n",
       "    </tr>\n",
       "    <tr>\n",
       "      <th>ENSG00000196262</th>\n",
       "      <td>3.542948</td>\n",
       "      <td>3.268026</td>\n",
       "      <td>5.17421</td>\n",
       "      <td>14.345363</td>\n",
       "      <td>13.125101</td>\n",
       "      <td>3.625254</td>\n",
       "      <td>5.105654</td>\n",
       "      <td>2.326444</td>\n",
       "      <td>4.241436</td>\n",
       "    </tr>\n",
       "    <tr>\n",
       "      <th>ENSG00000204472</th>\n",
       "      <td>0.195085</td>\n",
       "      <td>0.14256</td>\n",
       "      <td>0.058516</td>\n",
       "      <td>0.082206</td>\n",
       "      <td>6.635997</td>\n",
       "      <td>0.029771</td>\n",
       "      <td>11.237597</td>\n",
       "      <td>0.119757</td>\n",
       "      <td>0.056818</td>\n",
       "    </tr>\n",
       "    <tr>\n",
       "      <th>ENSG00000132432</th>\n",
       "      <td>0.758355</td>\n",
       "      <td>0.71917</td>\n",
       "      <td>0.530039</td>\n",
       "      <td>10.759649</td>\n",
       "      <td>2.688458</td>\n",
       "      <td>0.78584</td>\n",
       "      <td>1.284737</td>\n",
       "      <td>0.92462</td>\n",
       "      <td>0.696476</td>\n",
       "    </tr>\n",
       "  </tbody>\n",
       "</table>\n",
       "<p>579 rows × 9 columns</p>\n",
       "</div>"
      ],
      "text/plain": [
       "                     CD4T      CD8T         B     Plasma         DC        NK  \\\n",
       "Genes                                                                           \n",
       "ENSG00000100300  0.692914  0.402336  0.316685   1.236341   2.597256  0.700936   \n",
       "ENSG00000105374  0.140874  5.768637  0.022541   0.102757   0.701372  20.21416   \n",
       "ENSG00000160593  0.169656  0.273075  0.003437   0.014536   3.140436  0.036484   \n",
       "ENSG00000167995  0.066881  0.058113   0.08802   0.030576    0.33414  0.055134   \n",
       "ENSG00000137198  0.003263  0.002838  0.003526   0.032331   0.064568  0.009969   \n",
       "...                   ...       ...       ...        ...        ...       ...   \n",
       "ENSG00000196975  0.040529  0.086394  0.075254   0.105013   0.500404   0.16357   \n",
       "ENSG00000125735  0.142809  0.364683  0.005624   0.006015   0.053269  0.301912   \n",
       "ENSG00000196262  3.542948  3.268026   5.17421  14.345363  13.125101  3.625254   \n",
       "ENSG00000204472  0.195085   0.14256  0.058516   0.082206   6.635997  0.029771   \n",
       "ENSG00000132432  0.758355   0.71917  0.530039  10.759649   2.688458   0.78584   \n",
       "\n",
       "                      Mono      Mast     Tregs  \n",
       "Genes                                           \n",
       "ENSG00000100300   8.236938  1.285106  0.791502  \n",
       "ENSG00000105374   0.539641  0.094833  0.045784  \n",
       "ENSG00000160593   0.979562  0.009119  0.155303  \n",
       "ENSG00000167995   0.305752  0.071125  0.061924  \n",
       "ENSG00000137198   0.025383  0.377508  0.001482  \n",
       "...                    ...       ...       ...  \n",
       "ENSG00000196975    0.38899  0.702736  0.063076  \n",
       "ENSG00000125735   0.052909  0.027964  0.068347  \n",
       "ENSG00000196262   5.105654  2.326444  4.241436  \n",
       "ENSG00000204472  11.237597  0.119757  0.056818  \n",
       "ENSG00000132432   1.284737   0.92462  0.696476  \n",
       "\n",
       "[579 rows x 9 columns]"
      ]
     },
     "execution_count": 58,
     "metadata": {},
     "output_type": "execute_result"
    }
   ],
   "source": [
    "signature, intersection = create_signature(\n",
    "    adata,\n",
    "    signature_type=SIGNATURE_CHOICE,\n",
    ")\n",
    "\n",
    "signature"
   ]
  },
  {
   "cell_type": "code",
   "execution_count": 63,
   "metadata": {},
   "outputs": [
    {
     "data": {
      "text/html": [
       "<div>\n",
       "<style scoped>\n",
       "    .dataframe tbody tr th:only-of-type {\n",
       "        vertical-align: middle;\n",
       "    }\n",
       "\n",
       "    .dataframe tbody tr th {\n",
       "        vertical-align: top;\n",
       "    }\n",
       "\n",
       "    .dataframe thead th {\n",
       "        text-align: right;\n",
       "    }\n",
       "</style>\n",
       "<table border=\"1\" class=\"dataframe\">\n",
       "  <thead>\n",
       "    <tr style=\"text-align: right;\">\n",
       "      <th></th>\n",
       "      <th>CD4T</th>\n",
       "      <th>CD8T</th>\n",
       "      <th>B</th>\n",
       "      <th>Plasma</th>\n",
       "      <th>DC</th>\n",
       "      <th>NK</th>\n",
       "      <th>Mono</th>\n",
       "      <th>Mast</th>\n",
       "      <th>Tregs</th>\n",
       "    </tr>\n",
       "    <tr>\n",
       "      <th>Genes</th>\n",
       "      <th></th>\n",
       "      <th></th>\n",
       "      <th></th>\n",
       "      <th></th>\n",
       "      <th></th>\n",
       "      <th></th>\n",
       "      <th></th>\n",
       "      <th></th>\n",
       "      <th></th>\n",
       "    </tr>\n",
       "  </thead>\n",
       "  <tbody>\n",
       "    <tr>\n",
       "      <th>ENSG00000100300</th>\n",
       "      <td>0.692914</td>\n",
       "      <td>0.402336</td>\n",
       "      <td>0.316685</td>\n",
       "      <td>1.236341</td>\n",
       "      <td>2.597256</td>\n",
       "      <td>0.700936</td>\n",
       "      <td>8.236938</td>\n",
       "      <td>1.285106</td>\n",
       "      <td>0.791502</td>\n",
       "    </tr>\n",
       "    <tr>\n",
       "      <th>ENSG00000105374</th>\n",
       "      <td>0.140874</td>\n",
       "      <td>5.768637</td>\n",
       "      <td>0.022541</td>\n",
       "      <td>0.102757</td>\n",
       "      <td>0.701372</td>\n",
       "      <td>20.21416</td>\n",
       "      <td>0.539641</td>\n",
       "      <td>0.094833</td>\n",
       "      <td>0.045784</td>\n",
       "    </tr>\n",
       "    <tr>\n",
       "      <th>ENSG00000160593</th>\n",
       "      <td>0.169656</td>\n",
       "      <td>0.273075</td>\n",
       "      <td>0.003437</td>\n",
       "      <td>0.014536</td>\n",
       "      <td>3.140436</td>\n",
       "      <td>0.036484</td>\n",
       "      <td>0.979562</td>\n",
       "      <td>0.009119</td>\n",
       "      <td>0.155303</td>\n",
       "    </tr>\n",
       "    <tr>\n",
       "      <th>ENSG00000167995</th>\n",
       "      <td>0.066881</td>\n",
       "      <td>0.058113</td>\n",
       "      <td>0.08802</td>\n",
       "      <td>0.030576</td>\n",
       "      <td>0.33414</td>\n",
       "      <td>0.055134</td>\n",
       "      <td>0.305752</td>\n",
       "      <td>0.071125</td>\n",
       "      <td>0.061924</td>\n",
       "    </tr>\n",
       "    <tr>\n",
       "      <th>ENSG00000137198</th>\n",
       "      <td>0.003263</td>\n",
       "      <td>0.002838</td>\n",
       "      <td>0.003526</td>\n",
       "      <td>0.032331</td>\n",
       "      <td>0.064568</td>\n",
       "      <td>0.009969</td>\n",
       "      <td>0.025383</td>\n",
       "      <td>0.377508</td>\n",
       "      <td>0.001482</td>\n",
       "    </tr>\n",
       "    <tr>\n",
       "      <th>...</th>\n",
       "      <td>...</td>\n",
       "      <td>...</td>\n",
       "      <td>...</td>\n",
       "      <td>...</td>\n",
       "      <td>...</td>\n",
       "      <td>...</td>\n",
       "      <td>...</td>\n",
       "      <td>...</td>\n",
       "      <td>...</td>\n",
       "    </tr>\n",
       "    <tr>\n",
       "      <th>ENSG00000196975</th>\n",
       "      <td>0.040529</td>\n",
       "      <td>0.086394</td>\n",
       "      <td>0.075254</td>\n",
       "      <td>0.105013</td>\n",
       "      <td>0.500404</td>\n",
       "      <td>0.16357</td>\n",
       "      <td>0.38899</td>\n",
       "      <td>0.702736</td>\n",
       "      <td>0.063076</td>\n",
       "    </tr>\n",
       "    <tr>\n",
       "      <th>ENSG00000125735</th>\n",
       "      <td>0.142809</td>\n",
       "      <td>0.364683</td>\n",
       "      <td>0.005624</td>\n",
       "      <td>0.006015</td>\n",
       "      <td>0.053269</td>\n",
       "      <td>0.301912</td>\n",
       "      <td>0.052909</td>\n",
       "      <td>0.027964</td>\n",
       "      <td>0.068347</td>\n",
       "    </tr>\n",
       "    <tr>\n",
       "      <th>ENSG00000196262</th>\n",
       "      <td>3.542948</td>\n",
       "      <td>3.268026</td>\n",
       "      <td>5.17421</td>\n",
       "      <td>14.345363</td>\n",
       "      <td>13.125101</td>\n",
       "      <td>3.625254</td>\n",
       "      <td>5.105654</td>\n",
       "      <td>2.326444</td>\n",
       "      <td>4.241436</td>\n",
       "    </tr>\n",
       "    <tr>\n",
       "      <th>ENSG00000204472</th>\n",
       "      <td>0.195085</td>\n",
       "      <td>0.14256</td>\n",
       "      <td>0.058516</td>\n",
       "      <td>0.082206</td>\n",
       "      <td>6.635997</td>\n",
       "      <td>0.029771</td>\n",
       "      <td>11.237597</td>\n",
       "      <td>0.119757</td>\n",
       "      <td>0.056818</td>\n",
       "    </tr>\n",
       "    <tr>\n",
       "      <th>ENSG00000132432</th>\n",
       "      <td>0.758355</td>\n",
       "      <td>0.71917</td>\n",
       "      <td>0.530039</td>\n",
       "      <td>10.759649</td>\n",
       "      <td>2.688458</td>\n",
       "      <td>0.78584</td>\n",
       "      <td>1.284737</td>\n",
       "      <td>0.92462</td>\n",
       "      <td>0.696476</td>\n",
       "    </tr>\n",
       "  </tbody>\n",
       "</table>\n",
       "<p>579 rows × 9 columns</p>\n",
       "</div>"
      ],
      "text/plain": [
       "                     CD4T      CD8T         B     Plasma         DC        NK  \\\n",
       "Genes                                                                           \n",
       "ENSG00000100300  0.692914  0.402336  0.316685   1.236341   2.597256  0.700936   \n",
       "ENSG00000105374  0.140874  5.768637  0.022541   0.102757   0.701372  20.21416   \n",
       "ENSG00000160593  0.169656  0.273075  0.003437   0.014536   3.140436  0.036484   \n",
       "ENSG00000167995  0.066881  0.058113   0.08802   0.030576    0.33414  0.055134   \n",
       "ENSG00000137198  0.003263  0.002838  0.003526   0.032331   0.064568  0.009969   \n",
       "...                   ...       ...       ...        ...        ...       ...   \n",
       "ENSG00000196975  0.040529  0.086394  0.075254   0.105013   0.500404   0.16357   \n",
       "ENSG00000125735  0.142809  0.364683  0.005624   0.006015   0.053269  0.301912   \n",
       "ENSG00000196262  3.542948  3.268026   5.17421  14.345363  13.125101  3.625254   \n",
       "ENSG00000204472  0.195085   0.14256  0.058516   0.082206   6.635997  0.029771   \n",
       "ENSG00000132432  0.758355   0.71917  0.530039  10.759649   2.688458   0.78584   \n",
       "\n",
       "                      Mono      Mast     Tregs  \n",
       "Genes                                           \n",
       "ENSG00000100300   8.236938  1.285106  0.791502  \n",
       "ENSG00000105374   0.539641  0.094833  0.045784  \n",
       "ENSG00000160593   0.979562  0.009119  0.155303  \n",
       "ENSG00000167995   0.305752  0.071125  0.061924  \n",
       "ENSG00000137198   0.025383  0.377508  0.001482  \n",
       "...                    ...       ...       ...  \n",
       "ENSG00000196975    0.38899  0.702736  0.063076  \n",
       "ENSG00000125735   0.052909  0.027964  0.068347  \n",
       "ENSG00000196262   5.105654  2.326444  4.241436  \n",
       "ENSG00000204472  11.237597  0.119757  0.056818  \n",
       "ENSG00000132432   1.284737   0.92462  0.696476  \n",
       "\n",
       "[579 rows x 9 columns]"
      ]
     },
     "execution_count": 63,
     "metadata": {},
     "output_type": "execute_result"
    }
   ],
   "source": [
    "signature"
   ]
  },
  {
   "cell_type": "code",
   "execution_count": 49,
   "metadata": {},
   "outputs": [],
   "source": [
    "adata, train_test_index = add_cell_types_grouped(adata, BENCHMARK_CELL_TYPE_GROUP)\n",
    "adata_train = adata[train_test_index[\"Train index\"]]\n",
    "adata_test = adata[train_test_index[\"Test index\"]]"
   ]
  },
  {
   "cell_type": "markdown",
   "metadata": {},
   "source": [
    "Create pseudobulk dataset"
   ]
  },
  {
   "cell_type": "code",
   "execution_count": 50,
   "metadata": {},
   "outputs": [
    {
     "name": "stderr",
     "output_type": "stream",
     "text": [
      "\u001b[32m2023-12-22 17:45:46.208\u001b[0m | \u001b[1mINFO    \u001b[0m | \u001b[36mbenchmark_utils.dataset_utils\u001b[0m:\u001b[36mcreate_uniform_pseudobulk_dataset\u001b[0m:\u001b[36m155\u001b[0m - \u001b[1mCreating uniform pseudobulk dataset...\u001b[0m\n"
     ]
    }
   ],
   "source": [
    "adata_pseudobulk_test, df_proportions_test = create_uniform_pseudobulk_dataset(\n",
    "    adata_test,\n",
    "    n_sample = 3000,\n",
    "    n_cells = N_CELLS,\n",
    ")"
   ]
  },
  {
   "cell_type": "markdown",
   "metadata": {},
   "source": [
    "Prepare input for TAPE"
   ]
  },
  {
   "cell_type": "code",
   "execution_count": 52,
   "metadata": {},
   "outputs": [
    {
     "data": {
      "text/html": [
       "<div>\n",
       "<style scoped>\n",
       "    .dataframe tbody tr th:only-of-type {\n",
       "        vertical-align: middle;\n",
       "    }\n",
       "\n",
       "    .dataframe tbody tr th {\n",
       "        vertical-align: top;\n",
       "    }\n",
       "\n",
       "    .dataframe thead th {\n",
       "        text-align: right;\n",
       "    }\n",
       "</style>\n",
       "<table border=\"1\" class=\"dataframe\">\n",
       "  <thead>\n",
       "    <tr style=\"text-align: right;\">\n",
       "      <th>gene_ids</th>\n",
       "      <th>ENSG00000188290</th>\n",
       "      <th>ENSG00000186891</th>\n",
       "      <th>ENSG00000186827</th>\n",
       "      <th>ENSG00000197921</th>\n",
       "      <th>ENSG00000142611</th>\n",
       "      <th>ENSG00000235169</th>\n",
       "      <th>ENSG00000196581</th>\n",
       "      <th>ENSG00000226944</th>\n",
       "      <th>ENSG00000097021</th>\n",
       "      <th>ENSG00000069812</th>\n",
       "      <th>...</th>\n",
       "      <th>ENSG00000268651</th>\n",
       "      <th>ENSG00000126890</th>\n",
       "      <th>ENSG00000130826</th>\n",
       "      <th>ENSG00000130830</th>\n",
       "      <th>ENSG00000274183</th>\n",
       "      <th>ENSG00000198695</th>\n",
       "      <th>ENSG00000277856</th>\n",
       "      <th>ENSG00000275063</th>\n",
       "      <th>ENSG00000277761</th>\n",
       "      <th>ENSG00000277836</th>\n",
       "    </tr>\n",
       "  </thead>\n",
       "  <tbody>\n",
       "    <tr>\n",
       "      <th>sample_0</th>\n",
       "      <td>0.536994</td>\n",
       "      <td>0.225778</td>\n",
       "      <td>0.317187</td>\n",
       "      <td>0.000300</td>\n",
       "      <td>0.000653</td>\n",
       "      <td>0.029079</td>\n",
       "      <td>0.002954</td>\n",
       "      <td>0.000334</td>\n",
       "      <td>0.096244</td>\n",
       "      <td>0.002125</td>\n",
       "      <td>...</td>\n",
       "      <td>0.00124</td>\n",
       "      <td>0.000000</td>\n",
       "      <td>0.284662</td>\n",
       "      <td>0.181472</td>\n",
       "      <td>0.000000</td>\n",
       "      <td>2.521914</td>\n",
       "      <td>0.049610</td>\n",
       "      <td>1.029498</td>\n",
       "      <td>0.003726</td>\n",
       "      <td>0.001492</td>\n",
       "    </tr>\n",
       "    <tr>\n",
       "      <th>sample_1</th>\n",
       "      <td>0.400259</td>\n",
       "      <td>0.324238</td>\n",
       "      <td>0.423518</td>\n",
       "      <td>0.003329</td>\n",
       "      <td>0.002657</td>\n",
       "      <td>0.033529</td>\n",
       "      <td>0.000920</td>\n",
       "      <td>0.000000</td>\n",
       "      <td>0.104641</td>\n",
       "      <td>0.002317</td>\n",
       "      <td>...</td>\n",
       "      <td>0.00000</td>\n",
       "      <td>0.000000</td>\n",
       "      <td>0.313201</td>\n",
       "      <td>0.170275</td>\n",
       "      <td>0.003222</td>\n",
       "      <td>2.295173</td>\n",
       "      <td>0.028098</td>\n",
       "      <td>0.063790</td>\n",
       "      <td>0.000000</td>\n",
       "      <td>0.000000</td>\n",
       "    </tr>\n",
       "    <tr>\n",
       "      <th>sample_2</th>\n",
       "      <td>0.425748</td>\n",
       "      <td>0.231144</td>\n",
       "      <td>0.291970</td>\n",
       "      <td>0.001857</td>\n",
       "      <td>0.000000</td>\n",
       "      <td>0.029318</td>\n",
       "      <td>0.000059</td>\n",
       "      <td>0.000000</td>\n",
       "      <td>0.134270</td>\n",
       "      <td>0.001455</td>\n",
       "      <td>...</td>\n",
       "      <td>0.00000</td>\n",
       "      <td>0.000000</td>\n",
       "      <td>0.274240</td>\n",
       "      <td>0.187848</td>\n",
       "      <td>0.000000</td>\n",
       "      <td>2.395047</td>\n",
       "      <td>0.018215</td>\n",
       "      <td>0.162902</td>\n",
       "      <td>0.000000</td>\n",
       "      <td>0.000307</td>\n",
       "    </tr>\n",
       "    <tr>\n",
       "      <th>sample_3</th>\n",
       "      <td>0.484957</td>\n",
       "      <td>0.245830</td>\n",
       "      <td>0.330531</td>\n",
       "      <td>0.001990</td>\n",
       "      <td>0.000000</td>\n",
       "      <td>0.033412</td>\n",
       "      <td>0.000921</td>\n",
       "      <td>0.001541</td>\n",
       "      <td>0.092821</td>\n",
       "      <td>0.001510</td>\n",
       "      <td>...</td>\n",
       "      <td>0.00000</td>\n",
       "      <td>0.001164</td>\n",
       "      <td>0.297889</td>\n",
       "      <td>0.164940</td>\n",
       "      <td>0.005543</td>\n",
       "      <td>2.376966</td>\n",
       "      <td>0.044806</td>\n",
       "      <td>0.044679</td>\n",
       "      <td>0.000000</td>\n",
       "      <td>0.006325</td>\n",
       "    </tr>\n",
       "    <tr>\n",
       "      <th>sample_4</th>\n",
       "      <td>0.595779</td>\n",
       "      <td>0.234484</td>\n",
       "      <td>0.266560</td>\n",
       "      <td>0.000000</td>\n",
       "      <td>0.000722</td>\n",
       "      <td>0.029056</td>\n",
       "      <td>0.002851</td>\n",
       "      <td>0.001829</td>\n",
       "      <td>0.121375</td>\n",
       "      <td>0.000876</td>\n",
       "      <td>...</td>\n",
       "      <td>0.00000</td>\n",
       "      <td>0.001829</td>\n",
       "      <td>0.340095</td>\n",
       "      <td>0.171608</td>\n",
       "      <td>0.000000</td>\n",
       "      <td>2.395680</td>\n",
       "      <td>0.035262</td>\n",
       "      <td>0.066315</td>\n",
       "      <td>0.000000</td>\n",
       "      <td>0.000000</td>\n",
       "    </tr>\n",
       "  </tbody>\n",
       "</table>\n",
       "<p>5 rows × 3000 columns</p>\n",
       "</div>"
      ],
      "text/plain": [
       "gene_ids  ENSG00000188290  ENSG00000186891  ENSG00000186827  ENSG00000197921  \\\n",
       "sample_0         0.536994         0.225778         0.317187         0.000300   \n",
       "sample_1         0.400259         0.324238         0.423518         0.003329   \n",
       "sample_2         0.425748         0.231144         0.291970         0.001857   \n",
       "sample_3         0.484957         0.245830         0.330531         0.001990   \n",
       "sample_4         0.595779         0.234484         0.266560         0.000000   \n",
       "\n",
       "gene_ids  ENSG00000142611  ENSG00000235169  ENSG00000196581  ENSG00000226944  \\\n",
       "sample_0         0.000653         0.029079         0.002954         0.000334   \n",
       "sample_1         0.002657         0.033529         0.000920         0.000000   \n",
       "sample_2         0.000000         0.029318         0.000059         0.000000   \n",
       "sample_3         0.000000         0.033412         0.000921         0.001541   \n",
       "sample_4         0.000722         0.029056         0.002851         0.001829   \n",
       "\n",
       "gene_ids  ENSG00000097021  ENSG00000069812  ...  ENSG00000268651  \\\n",
       "sample_0         0.096244         0.002125  ...          0.00124   \n",
       "sample_1         0.104641         0.002317  ...          0.00000   \n",
       "sample_2         0.134270         0.001455  ...          0.00000   \n",
       "sample_3         0.092821         0.001510  ...          0.00000   \n",
       "sample_4         0.121375         0.000876  ...          0.00000   \n",
       "\n",
       "gene_ids  ENSG00000126890  ENSG00000130826  ENSG00000130830  ENSG00000274183  \\\n",
       "sample_0         0.000000         0.284662         0.181472         0.000000   \n",
       "sample_1         0.000000         0.313201         0.170275         0.003222   \n",
       "sample_2         0.000000         0.274240         0.187848         0.000000   \n",
       "sample_3         0.001164         0.297889         0.164940         0.005543   \n",
       "sample_4         0.001829         0.340095         0.171608         0.000000   \n",
       "\n",
       "gene_ids  ENSG00000198695  ENSG00000277856  ENSG00000275063  ENSG00000277761  \\\n",
       "sample_0         2.521914         0.049610         1.029498         0.003726   \n",
       "sample_1         2.295173         0.028098         0.063790         0.000000   \n",
       "sample_2         2.395047         0.018215         0.162902         0.000000   \n",
       "sample_3         2.376966         0.044806         0.044679         0.000000   \n",
       "sample_4         2.395680         0.035262         0.066315         0.000000   \n",
       "\n",
       "gene_ids  ENSG00000277836  \n",
       "sample_0         0.001492  \n",
       "sample_1         0.000000  \n",
       "sample_2         0.000307  \n",
       "sample_3         0.006325  \n",
       "sample_4         0.000000  \n",
       "\n",
       "[5 rows x 3000 columns]"
      ]
     },
     "execution_count": 52,
     "metadata": {},
     "output_type": "execute_result"
    }
   ],
   "source": [
    "pseudobulk_test_df = pd.DataFrame(adata_pseudobulk_test.X,\n",
    "                                  index=adata_pseudobulk_test.obs_names,\n",
    "                                  columns=adata_pseudobulk_test.var_names)\n",
    "\n",
    "pseudobulk_test_df.head()"
   ]
  },
  {
   "cell_type": "markdown",
   "metadata": {},
   "source": [
    "Run TAPE"
   ]
  },
  {
   "cell_type": "code",
   "execution_count": 73,
   "metadata": {},
   "outputs": [
    {
     "name": "stdout",
     "output_type": "stream",
     "text": [
      "Reading single-cell dataset, this may take 1 min\n",
      "Reading dataset is done\n",
      "Normalizing raw single cell data with scanpy.pp.normalize_total\n",
      "Generating cell fractions using Dirichlet distribution without prior info (actually random)\n",
      "RANDOM cell fractions is generated\n",
      "You set sparse as True, some cell's fraction will be zero, the probability is 0.5\n",
      "Sampling cells to compose pseudo-bulk data\n"
     ]
    },
    {
     "name": "stderr",
     "output_type": "stream",
     "text": [
      "0it [00:00, ?it/s]"
     ]
    },
    {
     "name": "stderr",
     "output_type": "stream",
     "text": [
      "5000it [00:02, 2454.07it/s]\n"
     ]
    },
    {
     "name": "stdout",
     "output_type": "stream",
     "text": [
      "Sampling is done\n",
      "Reading training data\n",
      "Reading is done\n",
      "Reading test data\n",
      "Reading test data is done\n",
      "Using counts data to train model\n",
      "Cutting variance...\n",
      "Finding intersected genes...\n",
      "Intersected gene number is  567\n",
      "Scaling...\n"
     ]
    },
    {
     "data": {
      "image/png": "[encoded data removed]",
      "text/plain": [
       "<Figure size 640x480 with 1 Axes>"
      ]
     },
     "metadata": {},
     "output_type": "display_data"
    },
    {
     "name": "stdout",
     "output_type": "stream",
     "text": [
      "Using minmax scaler...\n"
     ]
    },
    {
     "data": {
      "image/png": "[encoded data removed]",
      "text/plain": [
       "<Figure size 640x480 with 1 Axes>"
      ]
     },
     "metadata": {},
     "output_type": "display_data"
    },
    {
     "name": "stdout",
     "output_type": "stream",
     "text": [
      "training data shape is  (5000, 567) \n",
      "test data shape is  (3000, 567)\n",
      "Start training\n"
     ]
    },
    {
     "name": "stderr",
     "output_type": "stream",
     "text": [
      "100%|██████████| 128/128 [01:12<00:00,  1.77it/s]\n"
     ]
    },
    {
     "name": "stdout",
     "output_type": "stream",
     "text": [
      "Training is done\n",
      "prediction loss is:\n"
     ]
    },
    {
     "data": {
      "image/png": "[encoded data removed]",
      "text/plain": [
       "<Figure size 640x480 with 1 Axes>"
      ]
     },
     "metadata": {},
     "output_type": "display_data"
    },
    {
     "name": "stdout",
     "output_type": "stream",
     "text": [
      "reconstruction loss is:\n"
     ]
    },
    {
     "data": {
      "image/png": "[encoded data removed]",
      "text/plain": [
       "<Figure size 640x480 with 1 Axes>"
      ]
     },
     "metadata": {},
     "output_type": "display_data"
    },
    {
     "name": "stdout",
     "output_type": "stream",
     "text": [
      "Notice that you are using parameters: mode=overall and adaptive=True\n",
      "Model is saved without defined name\n",
      "Start adaptive training for all the samples\n",
      "Adaptive stage is done\n"
     ]
    }
   ],
   "source": [
    "_, deconv_results = \\\n",
    "    Deconvolution(signature.T, pseudobulk_test_df,\n",
    "                  sep='\\t', scaler='mms',\n",
    "                  datatype='counts', genelenfile=None,\n",
    "                  mode='overall', adaptive=True, variance_threshold=0.98,\n",
    "                  save_model_name=None,\n",
    "                  batch_size=128, epochs=128, seed=1)"
   ]
  },
  {
   "cell_type": "code",
   "execution_count": 82,
   "metadata": {},
   "outputs": [
    {
     "data": {
      "text/plain": [
       "B         0.183865\n",
       "CD4T      0.192126\n",
       "CD8T      0.347526\n",
       "DC        0.000000\n",
       "Mast      0.000000\n",
       "Mono      0.021540\n",
       "NK        0.026555\n",
       "Plasma    0.031820\n",
       "Tregs     0.196568\n",
       "dtype: float32"
      ]
     },
     "execution_count": 82,
     "metadata": {},
     "output_type": "execute_result"
    }
   ],
   "source": [
    "deconv_results.mean(axis=0)"
   ]
  },
  {
   "cell_type": "code",
   "execution_count": 83,
   "metadata": {},
   "outputs": [
    {
     "data": {
      "text/plain": [
       "B         0.163333\n",
       "CD4T      0.324588\n",
       "CD8T      0.221191\n",
       "DC        0.009040\n",
       "Mast      0.011943\n",
       "Mono      0.088548\n",
       "NK        0.107690\n",
       "Plasma    0.029304\n",
       "Tregs     0.044363\n",
       "dtype: float64"
      ]
     },
     "execution_count": 83,
     "metadata": {},
     "output_type": "execute_result"
    }
   ],
   "source": [
    "df_proportions_test.loc[:, deconv_results.columns].mean(axis=0)"
   ]
  },
  {
   "cell_type": "code",
   "execution_count": 85,
   "metadata": {},
   "outputs": [
    {
     "data": {
      "text/plain": [
       "B         0.109529\n",
       "CD4T      0.282015\n",
       "CD8T      0.217320\n",
       "DC        0.035173\n",
       "Mast      0.063384\n",
       "Mono      0.069335\n",
       "NK        0.132479\n",
       "Plasma    0.024025\n",
       "Tregs     0.066741\n",
       "dtype: float32"
      ]
     },
     "execution_count": 85,
     "metadata": {},
     "output_type": "execute_result"
    }
   ],
   "source": [
    "deconv_results.mean(axis=0)"
   ]
  },
  {
   "cell_type": "markdown",
   "metadata": {},
   "source": [
    "Scaden"
   ]
  },
  {
   "cell_type": "code",
   "execution_count": 84,
   "metadata": {},
   "outputs": [
    {
     "name": "stdout",
     "output_type": "stream",
     "text": [
      "Reading single-cell dataset, this may take 1 min\n",
      "Reading dataset is done\n",
      "Normalizing raw single cell data with scanpy.pp.normalize_total\n",
      "Generating cell fractions using Dirichlet distribution without prior info (actually random)\n",
      "RANDOM cell fractions is generated\n",
      "You set sparse as True, some cell's fraction will be zero, the probability is 0.5\n",
      "Sampling cells to compose pseudo-bulk data\n"
     ]
    },
    {
     "name": "stderr",
     "output_type": "stream",
     "text": [
      "5000it [00:01, 2525.82it/s]\n"
     ]
    },
    {
     "name": "stdout",
     "output_type": "stream",
     "text": [
      "Sampling is done\n",
      "Reading training data\n",
      "Reading is done\n",
      "Reading test data\n",
      "Reading test data is done\n",
      "Using counts data to train model\n",
      "Cutting variance...\n",
      "Finding intersected genes...\n",
      "Intersected gene number is  567\n",
      "Scaling...\n"
     ]
    },
    {
     "data": {
      "image/png": "[encoded data removed]",
      "text/plain": [
       "<Figure size 640x480 with 1 Axes>"
      ]
     },
     "metadata": {},
     "output_type": "display_data"
    },
    {
     "name": "stdout",
     "output_type": "stream",
     "text": [
      "Using minmax scaler...\n"
     ]
    },
    {
     "data": {
      "image/png": "[encoded data removed]",
      "text/plain": [
       "<Figure size 640x480 with 1 Axes>"
      ]
     },
     "metadata": {},
     "output_type": "display_data"
    },
    {
     "name": "stdout",
     "output_type": "stream",
     "text": [
      "training data shape is  (5000, 567) \n",
      "test data shape is  (3000, 567)\n",
      "train model256 now\n"
     ]
    },
    {
     "name": "stderr",
     "output_type": "stream",
     "text": [
      "100%|██████████| 128/128 [00:42<00:00,  3.00it/s]\n"
     ]
    },
    {
     "name": "stdout",
     "output_type": "stream",
     "text": [
      "train model512 now\n"
     ]
    },
    {
     "name": "stderr",
     "output_type": "stream",
     "text": [
      "100%|██████████| 128/128 [00:43<00:00,  2.97it/s]\n"
     ]
    },
    {
     "name": "stdout",
     "output_type": "stream",
     "text": [
      "train model1024 now\n"
     ]
    },
    {
     "name": "stderr",
     "output_type": "stream",
     "text": [
      "100%|██████████| 128/128 [00:43<00:00,  2.95it/s]"
     ]
    },
    {
     "name": "stdout",
     "output_type": "stream",
     "text": [
      "Training of Scaden is done\n"
     ]
    },
    {
     "name": "stderr",
     "output_type": "stream",
     "text": [
      "\n"
     ]
    }
   ],
   "source": [
    "deconv_results = ScadenDeconvolution(signature.T, pseudobulk_test_df, sep='\\t',\n",
    "                           batch_size=128, epochs=128)"
   ]
  },
  {
   "cell_type": "markdown",
   "metadata": {},
   "source": [
    "Determine a good number of cells for pseudobulk"
   ]
  },
  {
   "cell_type": "code",
   "execution_count": 88,
   "metadata": {},
   "outputs": [
    {
     "data": {
      "text/plain": [
       "cell_types_grouped\n",
       "CD4T      0.324429\n",
       "CD8T      0.221238\n",
       "B         0.163569\n",
       "NK        0.107666\n",
       "Mono      0.088581\n",
       "Tregs     0.044324\n",
       "Plasma    0.029130\n",
       "Mast      0.012017\n",
       "DC        0.009046\n",
       "Name: proportion, dtype: float64"
      ]
     },
     "execution_count": 88,
     "metadata": {},
     "output_type": "execute_result"
    }
   ],
   "source": [
    "adata_test.obs[\"cell_types_grouped\"].value_counts(normalize=True)"
   ]
  },
  {
   "cell_type": "code",
   "execution_count": 91,
   "metadata": {},
   "outputs": [
    {
     "name": "stdout",
     "output_type": "stream",
     "text": [
      "cell_types_grouped\n",
      "CD4T      0.3350\n",
      "CD8T      0.2200\n",
      "B         0.1540\n",
      "NK        0.1095\n",
      "Mono      0.0855\n",
      "Tregs     0.0450\n",
      "Plasma    0.0265\n",
      "Mast      0.0135\n",
      "DC        0.0110\n",
      "Name: proportion, dtype: float64\n",
      "\n",
      "cell_types_grouped\n",
      "CD4T      0.3250\n",
      "CD8T      0.2400\n",
      "B         0.1540\n",
      "NK        0.1050\n",
      "Mono      0.0825\n",
      "Tregs     0.0445\n",
      "Plasma    0.0260\n",
      "Mast      0.0145\n",
      "DC        0.0085\n",
      "Name: proportion, dtype: float64\n",
      "\n",
      "cell_types_grouped\n",
      "CD4T      0.3220\n",
      "CD8T      0.2130\n",
      "B         0.1675\n",
      "NK        0.1090\n",
      "Mono      0.0970\n",
      "Tregs     0.0490\n",
      "Plasma    0.0240\n",
      "Mast      0.0105\n",
      "DC        0.0080\n",
      "Name: proportion, dtype: float64\n",
      "\n",
      "cell_types_grouped\n",
      "CD4T      0.3290\n",
      "CD8T      0.2235\n",
      "B         0.1510\n",
      "NK        0.1100\n",
      "Mono      0.1000\n",
      "Tregs     0.0455\n",
      "Plasma    0.0265\n",
      "Mast      0.0095\n",
      "DC        0.0050\n",
      "Name: proportion, dtype: float64\n",
      "\n",
      "cell_types_grouped\n",
      "CD4T      0.2980\n",
      "CD8T      0.2325\n",
      "B         0.1755\n",
      "NK        0.1130\n",
      "Mono      0.0880\n",
      "Tregs     0.0470\n",
      "Plasma    0.0285\n",
      "Mast      0.0100\n",
      "DC        0.0075\n",
      "Name: proportion, dtype: float64\n",
      "\n",
      "cell_types_grouped\n",
      "CD4T      0.3235\n",
      "CD8T      0.2160\n",
      "B         0.1525\n",
      "NK        0.1135\n",
      "Mono      0.0910\n",
      "Tregs     0.0445\n",
      "Plasma    0.0335\n",
      "Mast      0.0170\n",
      "DC        0.0085\n",
      "Name: proportion, dtype: float64\n",
      "\n",
      "cell_types_grouped\n",
      "CD4T      0.3295\n",
      "CD8T      0.2225\n",
      "B         0.1660\n",
      "NK        0.1040\n",
      "Mono      0.0845\n",
      "Tregs     0.0440\n",
      "Plasma    0.0260\n",
      "Mast      0.0150\n",
      "DC        0.0085\n",
      "Name: proportion, dtype: float64\n",
      "\n",
      "cell_types_grouped\n",
      "CD4T      0.3255\n",
      "CD8T      0.2180\n",
      "B         0.1670\n",
      "NK        0.1060\n",
      "Mono      0.0870\n",
      "Tregs     0.0440\n",
      "Plasma    0.0320\n",
      "Mast      0.0130\n",
      "DC        0.0075\n",
      "Name: proportion, dtype: float64\n",
      "\n",
      "cell_types_grouped\n",
      "CD4T      0.3255\n",
      "CD8T      0.2240\n",
      "B         0.1675\n",
      "NK        0.1000\n",
      "Mono      0.0845\n",
      "Tregs     0.0520\n",
      "Plasma    0.0285\n",
      "Mast      0.0105\n",
      "DC        0.0075\n",
      "Name: proportion, dtype: float64\n",
      "\n",
      "cell_types_grouped\n",
      "CD4T      0.3280\n",
      "CD8T      0.2295\n",
      "B         0.1540\n",
      "NK        0.1005\n",
      "Mono      0.0920\n",
      "Tregs     0.0435\n",
      "Plasma    0.0260\n",
      "Mast      0.0150\n",
      "DC        0.0115\n",
      "Name: proportion, dtype: float64\n",
      "\n",
      "cell_types_grouped\n",
      "CD4T      0.3170\n",
      "CD8T      0.2330\n",
      "B         0.1630\n",
      "NK        0.1060\n",
      "Mono      0.0960\n",
      "Tregs     0.0410\n",
      "Plasma    0.0260\n",
      "Mast      0.0115\n",
      "DC        0.0065\n",
      "Name: proportion, dtype: float64\n",
      "\n",
      "cell_types_grouped\n",
      "CD4T      0.3115\n",
      "CD8T      0.2335\n",
      "B         0.1785\n",
      "NK        0.1065\n",
      "Mono      0.0840\n",
      "Tregs     0.0400\n",
      "Plasma    0.0265\n",
      "Mast      0.0140\n",
      "DC        0.0055\n",
      "Name: proportion, dtype: float64\n",
      "\n",
      "cell_types_grouped\n",
      "CD4T      0.3210\n",
      "CD8T      0.2325\n",
      "B         0.1700\n",
      "NK        0.1010\n",
      "Mono      0.0900\n",
      "Tregs     0.0390\n",
      "Plasma    0.0270\n",
      "Mast      0.0110\n",
      "DC        0.0085\n",
      "Name: proportion, dtype: float64\n",
      "\n",
      "cell_types_grouped\n",
      "CD4T      0.3240\n",
      "CD8T      0.2270\n",
      "B         0.1500\n",
      "NK        0.1210\n",
      "Mono      0.0935\n",
      "Tregs     0.0400\n",
      "Plasma    0.0260\n",
      "Mast      0.0100\n",
      "DC        0.0085\n",
      "Name: proportion, dtype: float64\n",
      "\n",
      "cell_types_grouped\n",
      "CD4T      0.3225\n",
      "CD8T      0.2095\n",
      "B         0.1595\n",
      "NK        0.1100\n",
      "Mono      0.1010\n",
      "Tregs     0.0495\n",
      "Plasma    0.0280\n",
      "Mast      0.0110\n",
      "DC        0.0090\n",
      "Name: proportion, dtype: float64\n",
      "\n",
      "cell_types_grouped\n",
      "CD4T      0.3165\n",
      "CD8T      0.2240\n",
      "B         0.1685\n",
      "NK        0.1135\n",
      "Mono      0.0890\n",
      "Tregs     0.0385\n",
      "Plasma    0.0260\n",
      "Mast      0.0140\n",
      "DC        0.0100\n",
      "Name: proportion, dtype: float64\n",
      "\n",
      "cell_types_grouped\n",
      "CD4T      0.3190\n",
      "CD8T      0.2295\n",
      "B         0.1580\n",
      "NK        0.1165\n",
      "Mono      0.0920\n",
      "Tregs     0.0395\n",
      "Plasma    0.0250\n",
      "Mast      0.0115\n",
      "DC        0.0090\n",
      "Name: proportion, dtype: float64\n",
      "\n",
      "cell_types_grouped\n",
      "CD4T      0.3170\n",
      "CD8T      0.2180\n",
      "B         0.1770\n",
      "NK        0.1090\n",
      "Mono      0.0890\n",
      "Tregs     0.0425\n",
      "Plasma    0.0315\n",
      "DC        0.0100\n",
      "Mast      0.0060\n",
      "Name: proportion, dtype: float64\n",
      "\n",
      "cell_types_grouped\n",
      "CD4T      0.3240\n",
      "CD8T      0.2330\n",
      "B         0.1595\n",
      "NK        0.1080\n",
      "Mono      0.0850\n",
      "Tregs     0.0425\n",
      "Plasma    0.0265\n",
      "Mast      0.0110\n",
      "DC        0.0105\n",
      "Name: proportion, dtype: float64\n",
      "\n",
      "cell_types_grouped\n",
      "CD4T      0.3395\n",
      "CD8T      0.2260\n",
      "B         0.1500\n",
      "NK        0.1180\n",
      "Mono      0.0735\n",
      "Tregs     0.0410\n",
      "Plasma    0.0320\n",
      "Mast      0.0115\n",
      "DC        0.0085\n",
      "Name: proportion, dtype: float64\n",
      "\n"
     ]
    }
   ],
   "source": [
    "for k in range(20):\n",
    "  random_cells = np.random.choice(adata_test.obs_names, size=2000, replace=False)\n",
    "  print(adata_test[random_cells].obs[\"cell_types_grouped\"].value_counts(normalize=True))\n",
    "  print(\"\")"
   ]
  },
  {
   "cell_type": "code",
   "execution_count": null,
   "metadata": {},
   "outputs": [],
   "source": []
  }
 ],
 "metadata": {
  "kernelspec": {
   "display_name": "scvi",
   "language": "python",
   "name": "python3"
  },
  "language_info": {
   "codemirror_mode": {
    "name": "ipython",
    "version": 3
   },
   "file_extension": ".py",
   "mimetype": "text/x-python",
   "name": "python",
   "nbconvert_exporter": "python",
   "pygments_lexer": "ipython3",
   "version": "3.9.17"
  },
  "orig_nbformat": 4
 },
 "nbformat": 4,
 "nbformat_minor": 2
}
